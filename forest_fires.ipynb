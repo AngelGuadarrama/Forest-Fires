{
 "cells": [
  {
   "cell_type": "code",
   "execution_count": 227,
   "metadata": {
    "colab": {
     "base_uri": "https://localhost:8080/"
    },
    "id": "L_8_O7HThigC",
    "outputId": "f0c3fc2f-2679-4203-8e74-7fd6f032c398"
   },
   "outputs": [],
   "source": [
    "import numpy as np\n",
    "import pandas as pd\n",
    "import matplotlib.pyplot as plt\n",
    "import seaborn as sns\n",
    "from sklearn.linear_model import LogisticRegression, LinearRegression\n",
    "from sklearn.metrics import roc_curve, confusion_matrix, roc_auc_score, mean_absolute_error, mean_squared_error, classification_report\n",
    "from sklearn.model_selection import KFold\n",
    "from sklearn.preprocessing import StandardScaler"
   ]
  },
  {
   "cell_type": "markdown",
   "metadata": {
    "id": "CckzytfFh-WU"
   },
   "source": [
    "# Incendios Forestales\n",
    "\n",
    "El objetivo es crear 2 nuevas variables:\n",
    "\n",
    "* Hay o no incendio (si area > 0, hay incendio, eoc no)\n",
    "\n",
    "* Magnitud del Incenido (usar el área en escala logarítmica si área > 0).\n",
    "\n",
    "Se deben proponer 2 modelos, uno de clasificación y uno de regresión.\n",
    "Al final habrá que comparar el modelo contra los datos reales para ver el poder predictivo.\n",
    "No importa que se tenga el mejor modelo, lo que importa es entender que se está haciendo,\n",
    "entender los pasos que se están siguiendo, asi como saber que modelos se conocen para dichos procesos.\n",
    "\n",
    "Entragables: \n",
    "Explicar la metodologia que se uso para cada modelo\n",
    "\n",
    "Requerimientos mínimos:  \n",
    "Apoyo gráfico\n",
    "una medida de desempeño, \n",
    "explicar por que se uso dicho modelo."
   ]
  },
  {
   "cell_type": "code",
   "execution_count": 228,
   "metadata": {
    "colab": {
     "base_uri": "https://localhost:8080/",
     "height": 137
    },
    "id": "W_VD8PdRiTq4",
    "outputId": "715b4a58-dfa5-40c0-d85e-7aee7fe8a0f9"
   },
   "outputs": [
    {
     "data": {
      "text/html": [
       "<div>\n",
       "<style scoped>\n",
       "    .dataframe tbody tr th:only-of-type {\n",
       "        vertical-align: middle;\n",
       "    }\n",
       "\n",
       "    .dataframe tbody tr th {\n",
       "        vertical-align: top;\n",
       "    }\n",
       "\n",
       "    .dataframe thead th {\n",
       "        text-align: right;\n",
       "    }\n",
       "</style>\n",
       "<table border=\"1\" class=\"dataframe\">\n",
       "  <thead>\n",
       "    <tr style=\"text-align: right;\">\n",
       "      <th></th>\n",
       "      <th>X</th>\n",
       "      <th>Y</th>\n",
       "      <th>month</th>\n",
       "      <th>day</th>\n",
       "      <th>FFMC</th>\n",
       "      <th>DMC</th>\n",
       "      <th>DC</th>\n",
       "      <th>ISI</th>\n",
       "      <th>temp</th>\n",
       "      <th>RH</th>\n",
       "      <th>wind</th>\n",
       "      <th>rain</th>\n",
       "      <th>area</th>\n",
       "    </tr>\n",
       "  </thead>\n",
       "  <tbody>\n",
       "    <tr>\n",
       "      <td>0</td>\n",
       "      <td>7</td>\n",
       "      <td>5</td>\n",
       "      <td>mar</td>\n",
       "      <td>fri</td>\n",
       "      <td>86.2</td>\n",
       "      <td>26.2</td>\n",
       "      <td>94.3</td>\n",
       "      <td>5.1</td>\n",
       "      <td>8.2</td>\n",
       "      <td>51</td>\n",
       "      <td>6.7</td>\n",
       "      <td>0.0</td>\n",
       "      <td>0.0</td>\n",
       "    </tr>\n",
       "    <tr>\n",
       "      <td>1</td>\n",
       "      <td>7</td>\n",
       "      <td>4</td>\n",
       "      <td>oct</td>\n",
       "      <td>tue</td>\n",
       "      <td>90.6</td>\n",
       "      <td>35.4</td>\n",
       "      <td>669.1</td>\n",
       "      <td>6.7</td>\n",
       "      <td>18.0</td>\n",
       "      <td>33</td>\n",
       "      <td>0.9</td>\n",
       "      <td>0.0</td>\n",
       "      <td>0.0</td>\n",
       "    </tr>\n",
       "    <tr>\n",
       "      <td>2</td>\n",
       "      <td>7</td>\n",
       "      <td>4</td>\n",
       "      <td>oct</td>\n",
       "      <td>sat</td>\n",
       "      <td>90.6</td>\n",
       "      <td>43.7</td>\n",
       "      <td>686.9</td>\n",
       "      <td>6.7</td>\n",
       "      <td>14.6</td>\n",
       "      <td>33</td>\n",
       "      <td>1.3</td>\n",
       "      <td>0.0</td>\n",
       "      <td>0.0</td>\n",
       "    </tr>\n",
       "  </tbody>\n",
       "</table>\n",
       "</div>"
      ],
      "text/plain": [
       "   X  Y month  day  FFMC   DMC     DC  ISI  temp  RH  wind  rain  area\n",
       "0  7  5   mar  fri  86.2  26.2   94.3  5.1   8.2  51   6.7   0.0   0.0\n",
       "1  7  4   oct  tue  90.6  35.4  669.1  6.7  18.0  33   0.9   0.0   0.0\n",
       "2  7  4   oct  sat  90.6  43.7  686.9  6.7  14.6  33   1.3   0.0   0.0"
      ]
     },
     "execution_count": 228,
     "metadata": {},
     "output_type": "execute_result"
    }
   ],
   "source": [
    "url = 'https://raw.githubusercontent.com/AngelGuadarrama/Forest-Fires/main/forestfires.csv'\n",
    "data = pd.read_csv(url)\n",
    "data.head(3)"
   ]
  },
  {
   "cell_type": "code",
   "execution_count": 19,
   "metadata": {
    "colab": {
     "base_uri": "https://localhost:8080/"
    },
    "id": "UD8ub6xwCy6y",
    "outputId": "7d32d62f-2bf1-40e1-b59b-a9b4de4f1167"
   },
   "outputs": [
    {
     "name": "stdout",
     "output_type": "stream",
     "text": [
      "<class 'pandas.core.frame.DataFrame'>\n",
      "RangeIndex: 517 entries, 0 to 516\n",
      "Data columns (total 13 columns):\n",
      "X        517 non-null int64\n",
      "Y        517 non-null int64\n",
      "month    517 non-null object\n",
      "day      517 non-null object\n",
      "FFMC     517 non-null float64\n",
      "DMC      517 non-null float64\n",
      "DC       517 non-null float64\n",
      "ISI      517 non-null float64\n",
      "temp     517 non-null float64\n",
      "RH       517 non-null int64\n",
      "wind     517 non-null float64\n",
      "rain     517 non-null float64\n",
      "area     517 non-null float64\n",
      "dtypes: float64(8), int64(3), object(2)\n",
      "memory usage: 52.6+ KB\n"
     ]
    }
   ],
   "source": [
    "data.info()"
   ]
  },
  {
   "cell_type": "code",
   "execution_count": 229,
   "metadata": {
    "id": "RqyGwMM_G_wc"
   },
   "outputs": [],
   "source": [
    "#Creamos nuestras nuevas columnas\n",
    "data['incendio']=[value > 0 for value in data.area] \n",
    "data['magnitud']=np.log(data[data.area> 0]['area'])\n",
    "data.fillna({'magnitud': 0}, inplace=True)"
   ]
  },
  {
   "cell_type": "markdown",
   "metadata": {
    "id": "9zlfq_H_KaxC"
   },
   "source": [
    "Variables Numericas"
   ]
  },
  {
   "cell_type": "code",
   "execution_count": 136,
   "metadata": {
    "colab": {
     "base_uri": "https://localhost:8080/",
     "height": 287
    },
    "id": "MTP-rGmJFxAg",
    "outputId": "c9a945d7-6711-43f0-b6d5-a4a1c3c62c68"
   },
   "outputs": [
    {
     "data": {
      "text/html": [
       "<div>\n",
       "<style scoped>\n",
       "    .dataframe tbody tr th:only-of-type {\n",
       "        vertical-align: middle;\n",
       "    }\n",
       "\n",
       "    .dataframe tbody tr th {\n",
       "        vertical-align: top;\n",
       "    }\n",
       "\n",
       "    .dataframe thead th {\n",
       "        text-align: right;\n",
       "    }\n",
       "</style>\n",
       "<table border=\"1\" class=\"dataframe\">\n",
       "  <thead>\n",
       "    <tr style=\"text-align: right;\">\n",
       "      <th></th>\n",
       "      <th>X</th>\n",
       "      <th>Y</th>\n",
       "      <th>FFMC</th>\n",
       "      <th>DMC</th>\n",
       "      <th>DC</th>\n",
       "      <th>ISI</th>\n",
       "      <th>temp</th>\n",
       "      <th>RH</th>\n",
       "      <th>wind</th>\n",
       "      <th>rain</th>\n",
       "    </tr>\n",
       "  </thead>\n",
       "  <tbody>\n",
       "    <tr>\n",
       "      <td>count</td>\n",
       "      <td>517.000000</td>\n",
       "      <td>517.000000</td>\n",
       "      <td>517.000000</td>\n",
       "      <td>517.000000</td>\n",
       "      <td>517.000000</td>\n",
       "      <td>517.000000</td>\n",
       "      <td>517.000000</td>\n",
       "      <td>517.000000</td>\n",
       "      <td>517.000000</td>\n",
       "      <td>517.000000</td>\n",
       "    </tr>\n",
       "    <tr>\n",
       "      <td>mean</td>\n",
       "      <td>4.669246</td>\n",
       "      <td>4.299807</td>\n",
       "      <td>90.644681</td>\n",
       "      <td>110.872340</td>\n",
       "      <td>547.940039</td>\n",
       "      <td>9.021663</td>\n",
       "      <td>18.889168</td>\n",
       "      <td>44.288201</td>\n",
       "      <td>4.017602</td>\n",
       "      <td>0.021663</td>\n",
       "    </tr>\n",
       "    <tr>\n",
       "      <td>std</td>\n",
       "      <td>2.313778</td>\n",
       "      <td>1.229900</td>\n",
       "      <td>5.520111</td>\n",
       "      <td>64.046482</td>\n",
       "      <td>248.066192</td>\n",
       "      <td>4.559477</td>\n",
       "      <td>5.806625</td>\n",
       "      <td>16.317469</td>\n",
       "      <td>1.791653</td>\n",
       "      <td>0.295959</td>\n",
       "    </tr>\n",
       "    <tr>\n",
       "      <td>min</td>\n",
       "      <td>1.000000</td>\n",
       "      <td>2.000000</td>\n",
       "      <td>18.700000</td>\n",
       "      <td>1.100000</td>\n",
       "      <td>7.900000</td>\n",
       "      <td>0.000000</td>\n",
       "      <td>2.200000</td>\n",
       "      <td>15.000000</td>\n",
       "      <td>0.400000</td>\n",
       "      <td>0.000000</td>\n",
       "    </tr>\n",
       "    <tr>\n",
       "      <td>25%</td>\n",
       "      <td>3.000000</td>\n",
       "      <td>4.000000</td>\n",
       "      <td>90.200000</td>\n",
       "      <td>68.600000</td>\n",
       "      <td>437.700000</td>\n",
       "      <td>6.500000</td>\n",
       "      <td>15.500000</td>\n",
       "      <td>33.000000</td>\n",
       "      <td>2.700000</td>\n",
       "      <td>0.000000</td>\n",
       "    </tr>\n",
       "    <tr>\n",
       "      <td>50%</td>\n",
       "      <td>4.000000</td>\n",
       "      <td>4.000000</td>\n",
       "      <td>91.600000</td>\n",
       "      <td>108.300000</td>\n",
       "      <td>664.200000</td>\n",
       "      <td>8.400000</td>\n",
       "      <td>19.300000</td>\n",
       "      <td>42.000000</td>\n",
       "      <td>4.000000</td>\n",
       "      <td>0.000000</td>\n",
       "    </tr>\n",
       "    <tr>\n",
       "      <td>75%</td>\n",
       "      <td>7.000000</td>\n",
       "      <td>5.000000</td>\n",
       "      <td>92.900000</td>\n",
       "      <td>142.400000</td>\n",
       "      <td>713.900000</td>\n",
       "      <td>10.800000</td>\n",
       "      <td>22.800000</td>\n",
       "      <td>53.000000</td>\n",
       "      <td>4.900000</td>\n",
       "      <td>0.000000</td>\n",
       "    </tr>\n",
       "    <tr>\n",
       "      <td>max</td>\n",
       "      <td>9.000000</td>\n",
       "      <td>9.000000</td>\n",
       "      <td>96.200000</td>\n",
       "      <td>291.300000</td>\n",
       "      <td>860.600000</td>\n",
       "      <td>56.100000</td>\n",
       "      <td>33.300000</td>\n",
       "      <td>100.000000</td>\n",
       "      <td>9.400000</td>\n",
       "      <td>6.400000</td>\n",
       "    </tr>\n",
       "  </tbody>\n",
       "</table>\n",
       "</div>"
      ],
      "text/plain": [
       "                X           Y        FFMC         DMC          DC         ISI  \\\n",
       "count  517.000000  517.000000  517.000000  517.000000  517.000000  517.000000   \n",
       "mean     4.669246    4.299807   90.644681  110.872340  547.940039    9.021663   \n",
       "std      2.313778    1.229900    5.520111   64.046482  248.066192    4.559477   \n",
       "min      1.000000    2.000000   18.700000    1.100000    7.900000    0.000000   \n",
       "25%      3.000000    4.000000   90.200000   68.600000  437.700000    6.500000   \n",
       "50%      4.000000    4.000000   91.600000  108.300000  664.200000    8.400000   \n",
       "75%      7.000000    5.000000   92.900000  142.400000  713.900000   10.800000   \n",
       "max      9.000000    9.000000   96.200000  291.300000  860.600000   56.100000   \n",
       "\n",
       "             temp          RH        wind        rain  \n",
       "count  517.000000  517.000000  517.000000  517.000000  \n",
       "mean    18.889168   44.288201    4.017602    0.021663  \n",
       "std      5.806625   16.317469    1.791653    0.295959  \n",
       "min      2.200000   15.000000    0.400000    0.000000  \n",
       "25%     15.500000   33.000000    2.700000    0.000000  \n",
       "50%     19.300000   42.000000    4.000000    0.000000  \n",
       "75%     22.800000   53.000000    4.900000    0.000000  \n",
       "max     33.300000  100.000000    9.400000    6.400000  "
      ]
     },
     "execution_count": 136,
     "metadata": {},
     "output_type": "execute_result"
    }
   ],
   "source": [
    "data[['X', 'Y', 'FFMC', 'DMC', 'DC', 'ISI', 'temp', 'RH',\n",
    "       'wind', 'rain']].describe()"
   ]
  },
  {
   "cell_type": "code",
   "execution_count": 22,
   "metadata": {
    "colab": {
     "base_uri": "https://localhost:8080/",
     "height": 264
    },
    "id": "OIdiwIuSIlt8",
    "outputId": "5f39769c-460a-4c35-ce43-7b160a2b30ad"
   },
   "outputs": [
    {
     "data": {
      "image/png": "[encoded data removed]",
      "text/plain": [
       "<Figure size 432x288 with 1 Axes>"
      ]
     },
     "metadata": {
      "needs_background": "light"
     },
     "output_type": "display_data"
    }
   ],
   "source": [
    "data[['X', 'Y', 'FFMC', 'DMC', 'DC', 'ISI', 'temp', 'RH',\n",
    "       'wind', 'rain']].boxplot()\n",
    "plt.show()       "
   ]
  },
  {
   "cell_type": "code",
   "execution_count": 230,
   "metadata": {
    "id": "4mNdREeZKTLp"
   },
   "outputs": [],
   "source": [
    "data['DC_log']=np.log(data.DC) #Esta columna tiene una varianza muy alta\n",
    "data.drop(['DC'], inplace=True, axis=1)"
   ]
  },
  {
   "cell_type": "code",
   "execution_count": 24,
   "metadata": {
    "colab": {
     "base_uri": "https://localhost:8080/",
     "height": 324
    },
    "id": "NBtN2sAUvETY",
    "outputId": "b5e9556f-ced3-4850-efc4-4ad5c0098db1"
   },
   "outputs": [
    {
     "data": {
      "text/plain": [
       "<matplotlib.axes._subplots.AxesSubplot at 0x1e3868e0d88>"
      ]
     },
     "execution_count": 24,
     "metadata": {},
     "output_type": "execute_result"
    },
    {
     "data": {
      "image/png": "[encoded data removed]",
      "text/plain": [
       "<Figure size 432x288 with 2 Axes>"
      ]
     },
     "metadata": {
      "needs_background": "light"
     },
     "output_type": "display_data"
    }
   ],
   "source": [
    "#Quitaremos RH ya que tiene correlacion con la temperatura\n",
    "sns.heatmap(data.corr(), square= True, cmap='RdYlGn') \n",
    "#data.drop(['RH'], inplace=True, axis=1)"
   ]
  },
  {
   "cell_type": "markdown",
   "metadata": {
    "id": "5lIE0uUSKVuT"
   },
   "source": [
    "Variables categoricas: aplicaremos dummys en el caso de regresión y target mean en el caso de clasificación.\n"
   ]
  },
  {
   "cell_type": "code",
   "execution_count": 30,
   "metadata": {
    "colab": {
     "base_uri": "https://localhost:8080/"
    },
    "id": "AunG2F1pCzUj",
    "outputId": "eb9e0125-36a3-4a6e-b0ea-40e3f0dadec2"
   },
   "outputs": [
    {
     "data": {
      "text/plain": [
       "aug    184\n",
       "sep    172\n",
       "mar     54\n",
       "jul     32\n",
       "feb     20\n",
       "jun     17\n",
       "oct     15\n",
       "apr      9\n",
       "dec      9\n",
       "jan      2\n",
       "may      2\n",
       "nov      1\n",
       "Name: month, dtype: int64"
      ]
     },
     "execution_count": 30,
     "metadata": {},
     "output_type": "execute_result"
    }
   ],
   "source": [
    "data.month.value_counts()"
   ]
  },
  {
   "cell_type": "code",
   "execution_count": 31,
   "metadata": {},
   "outputs": [
    {
     "data": {
      "text/plain": [
       "sun    95\n",
       "fri    85\n",
       "sat    84\n",
       "mon    74\n",
       "tue    64\n",
       "thu    61\n",
       "wed    54\n",
       "Name: day, dtype: int64"
      ]
     },
     "execution_count": 31,
     "metadata": {},
     "output_type": "execute_result"
    }
   ],
   "source": [
    "data.day.value_counts() #Parece ser que los fines de semana hay mas incendios"
   ]
  },
  {
   "cell_type": "code",
   "execution_count": 231,
   "metadata": {
    "id": "js4EZ3V4Czg2"
   },
   "outputs": [],
   "source": [
    "data['day'].replace({'mon':'0','tue':'0','wed':'0','thu':'0','fri':'1','sat':'1','sun':'1'}, inplace=True)\n",
    "data.day=data[['day']].apply(lambda x: x.astype('float64'), axis=0)"
   ]
  },
  {
   "cell_type": "code",
   "execution_count": 165,
   "metadata": {
    "colab": {
     "base_uri": "https://localhost:8080/"
    },
    "id": "VsPTmi_-DyTS",
    "outputId": "ad88a9e5-e203-4356-f2ad-5096f75b71ec"
   },
   "outputs": [
    {
     "data": {
      "text/html": [
       "<div>\n",
       "<style scoped>\n",
       "    .dataframe tbody tr th:only-of-type {\n",
       "        vertical-align: middle;\n",
       "    }\n",
       "\n",
       "    .dataframe tbody tr th {\n",
       "        vertical-align: top;\n",
       "    }\n",
       "\n",
       "    .dataframe thead th {\n",
       "        text-align: right;\n",
       "    }\n",
       "</style>\n",
       "<table border=\"1\" class=\"dataframe\">\n",
       "  <thead>\n",
       "    <tr style=\"text-align: right;\">\n",
       "      <th></th>\n",
       "      <th>X</th>\n",
       "      <th>Y</th>\n",
       "      <th>month</th>\n",
       "      <th>day</th>\n",
       "      <th>FFMC</th>\n",
       "      <th>DMC</th>\n",
       "      <th>ISI</th>\n",
       "      <th>temp</th>\n",
       "      <th>RH</th>\n",
       "      <th>wind</th>\n",
       "      <th>rain</th>\n",
       "      <th>area</th>\n",
       "      <th>incendio</th>\n",
       "      <th>magnitud</th>\n",
       "      <th>DC_log</th>\n",
       "    </tr>\n",
       "  </thead>\n",
       "  <tbody>\n",
       "    <tr>\n",
       "      <td>0</td>\n",
       "      <td>7</td>\n",
       "      <td>5</td>\n",
       "      <td>mar</td>\n",
       "      <td>1.0</td>\n",
       "      <td>86.2</td>\n",
       "      <td>26.2</td>\n",
       "      <td>5.1</td>\n",
       "      <td>8.2</td>\n",
       "      <td>51</td>\n",
       "      <td>6.7</td>\n",
       "      <td>0.0</td>\n",
       "      <td>0.0</td>\n",
       "      <td>False</td>\n",
       "      <td>0.0</td>\n",
       "      <td>4.546481</td>\n",
       "    </tr>\n",
       "    <tr>\n",
       "      <td>1</td>\n",
       "      <td>7</td>\n",
       "      <td>4</td>\n",
       "      <td>oct</td>\n",
       "      <td>0.0</td>\n",
       "      <td>90.6</td>\n",
       "      <td>35.4</td>\n",
       "      <td>6.7</td>\n",
       "      <td>18.0</td>\n",
       "      <td>33</td>\n",
       "      <td>0.9</td>\n",
       "      <td>0.0</td>\n",
       "      <td>0.0</td>\n",
       "      <td>False</td>\n",
       "      <td>0.0</td>\n",
       "      <td>6.505934</td>\n",
       "    </tr>\n",
       "    <tr>\n",
       "      <td>2</td>\n",
       "      <td>7</td>\n",
       "      <td>4</td>\n",
       "      <td>oct</td>\n",
       "      <td>1.0</td>\n",
       "      <td>90.6</td>\n",
       "      <td>43.7</td>\n",
       "      <td>6.7</td>\n",
       "      <td>14.6</td>\n",
       "      <td>33</td>\n",
       "      <td>1.3</td>\n",
       "      <td>0.0</td>\n",
       "      <td>0.0</td>\n",
       "      <td>False</td>\n",
       "      <td>0.0</td>\n",
       "      <td>6.532189</td>\n",
       "    </tr>\n",
       "    <tr>\n",
       "      <td>3</td>\n",
       "      <td>8</td>\n",
       "      <td>6</td>\n",
       "      <td>mar</td>\n",
       "      <td>1.0</td>\n",
       "      <td>91.7</td>\n",
       "      <td>33.3</td>\n",
       "      <td>9.0</td>\n",
       "      <td>8.3</td>\n",
       "      <td>97</td>\n",
       "      <td>4.0</td>\n",
       "      <td>0.2</td>\n",
       "      <td>0.0</td>\n",
       "      <td>False</td>\n",
       "      <td>0.0</td>\n",
       "      <td>4.350278</td>\n",
       "    </tr>\n",
       "    <tr>\n",
       "      <td>4</td>\n",
       "      <td>8</td>\n",
       "      <td>6</td>\n",
       "      <td>mar</td>\n",
       "      <td>1.0</td>\n",
       "      <td>89.3</td>\n",
       "      <td>51.3</td>\n",
       "      <td>9.6</td>\n",
       "      <td>11.4</td>\n",
       "      <td>99</td>\n",
       "      <td>1.8</td>\n",
       "      <td>0.0</td>\n",
       "      <td>0.0</td>\n",
       "      <td>False</td>\n",
       "      <td>0.0</td>\n",
       "      <td>4.626932</td>\n",
       "    </tr>\n",
       "  </tbody>\n",
       "</table>\n",
       "</div>"
      ],
      "text/plain": [
       "   X  Y month  day  FFMC   DMC  ISI  temp  RH  wind  rain  area  incendio  \\\n",
       "0  7  5   mar  1.0  86.2  26.2  5.1   8.2  51   6.7   0.0   0.0     False   \n",
       "1  7  4   oct  0.0  90.6  35.4  6.7  18.0  33   0.9   0.0   0.0     False   \n",
       "2  7  4   oct  1.0  90.6  43.7  6.7  14.6  33   1.3   0.0   0.0     False   \n",
       "3  8  6   mar  1.0  91.7  33.3  9.0   8.3  97   4.0   0.2   0.0     False   \n",
       "4  8  6   mar  1.0  89.3  51.3  9.6  11.4  99   1.8   0.0   0.0     False   \n",
       "\n",
       "   magnitud    DC_log  \n",
       "0       0.0  4.546481  \n",
       "1       0.0  6.505934  \n",
       "2       0.0  6.532189  \n",
       "3       0.0  4.350278  \n",
       "4       0.0  4.626932  "
      ]
     },
     "execution_count": 165,
     "metadata": {},
     "output_type": "execute_result"
    }
   ],
   "source": [
    "data.head()"
   ]
  },
  {
   "cell_type": "markdown",
   "metadata": {
    "id": "YIrBW4_bQQZT"
   },
   "source": [
    "Modelo de Clasificación\n",
    "\n",
    "En este caso elegí trabajar con un modelo de regresion logistica porque es un modelo simple que puede ser buena eleccion para empezar a experimentar. Las metrica que se utilizo fue AUC por su interpretabilidad conforme al azar y la clasica matriz de confusión. "
   ]
  },
  {
   "cell_type": "code",
   "execution_count": 232,
   "metadata": {
    "id": "nptYTf6fMbrH"
   },
   "outputs": [],
   "source": [
    "def test_mean_target_encoding(train, test, target, categorical, alpha=5):\n",
    "    # Calculate global mean on the train data\n",
    "    global_mean = train[target].mean()\n",
    "    \n",
    "    # Group by the categorical feature and calculate its properties\n",
    "    train_groups = train.groupby(categorical)\n",
    "    category_sum = train_groups[target].sum()\n",
    "    category_size = train_groups.size()\n",
    "    \n",
    "    # Calculate smoothed mean target statistics\n",
    "    train_statistics = (category_sum + global_mean * alpha) / (category_size + alpha)\n",
    "    \n",
    "    # Apply statistics to the test data and fill new categories\n",
    "    test_feature = test[categorical].map(train_statistics).fillna(global_mean)\n",
    "    return test_feature.values\n",
    "\n",
    "\n",
    "def train_mean_target_encoding(train, target, categorical, alpha=5):\n",
    "    # Create 5-fold cross-validation\n",
    "    kf = KFold(n_splits=5, random_state=2424, shuffle=True)\n",
    "    train_feature = pd.Series(index=train.index)\n",
    "    \n",
    "    # For each folds split\n",
    "    for train_index, test_index in kf.split(train):\n",
    "        cv_train, cv_test = train.iloc[train_index], train.iloc[test_index]\n",
    "      \n",
    "        # Calculate out-of-fold statistics and apply to cv_test\n",
    "        cv_test_feature = test_mean_target_encoding(cv_train, cv_test, target, categorical, alpha)\n",
    "        \n",
    "        # Save new feature for this particular fold\n",
    "        train_feature.iloc[test_index] = cv_test_feature       \n",
    "    return train_feature.values\n",
    "\n",
    "\n",
    "def mean_target_encoding(train, test, target, categorical, alpha=5):\n",
    "  \n",
    "    # Get the train feature\n",
    "    train_feature = train_mean_target_encoding(train, target, categorical, alpha)\n",
    "    # Get the test feature\n",
    "    test_feature = test_mean_target_encoding(train, test, target, categorical, alpha)\n",
    "    \n",
    "    # Return new features to add to the model\n",
    "    return train_feature, test_feature"
   ]
  },
  {
   "cell_type": "code",
   "execution_count": 240,
   "metadata": {
    "colab": {
     "base_uri": "https://localhost:8080/",
     "height": 1000
    },
    "id": "_NJx8U-nJlif",
    "outputId": "26549f13-4b96-49b1-b726-f71ab8394051"
   },
   "outputs": [
    {
     "name": "stderr",
     "output_type": "stream",
     "text": [
      "C:\\ProgramData\\Anaconda3\\lib\\site-packages\\ipykernel_launcher.py:14: SettingWithCopyWarning: \n",
      "A value is trying to be set on a copy of a slice from a DataFrame.\n",
      "Try using .loc[row_indexer,col_indexer] = value instead\n",
      "\n",
      "See the caveats in the documentation: http://pandas.pydata.org/pandas-docs/stable/user_guide/indexing.html#returning-a-view-versus-a-copy\n",
      "  \n",
      "C:\\ProgramData\\Anaconda3\\lib\\site-packages\\sklearn\\linear_model\\logistic.py:432: FutureWarning: Default solver will be changed to 'lbfgs' in 0.22. Specify a solver to silence this warning.\n",
      "  FutureWarning)\n"
     ]
    },
    {
     "data": {
      "image/png": "[encoded data removed]",
      "text/plain": [
       "<Figure size 432x288 with 1 Axes>"
      ]
     },
     "metadata": {
      "needs_background": "light"
     },
     "output_type": "display_data"
    },
    {
     "name": "stdout",
     "output_type": "stream",
     "text": [
      "AUC: 0.4992025518341308\n",
      "              precision    recall  f1-score   support\n",
      "\n",
      "       False       0.30      0.32      0.31        19\n",
      "        True       0.59      0.58      0.58        33\n",
      "\n",
      "    accuracy                           0.48        52\n",
      "   macro avg       0.45      0.45      0.45        52\n",
      "weighted avg       0.49      0.48      0.48        52\n",
      "\n",
      "[[ 6 14]\n",
      " [13 19]]\n"
     ]
    },
    {
     "data": {
      "image/png": "[encoded data removed]",
      "text/plain": [
       "<Figure size 432x288 with 2 Axes>"
      ]
     },
     "metadata": {
      "needs_background": "light"
     },
     "output_type": "display_data"
    },
    {
     "name": "stderr",
     "output_type": "stream",
     "text": [
      "C:\\ProgramData\\Anaconda3\\lib\\site-packages\\ipykernel_launcher.py:14: SettingWithCopyWarning: \n",
      "A value is trying to be set on a copy of a slice from a DataFrame.\n",
      "Try using .loc[row_indexer,col_indexer] = value instead\n",
      "\n",
      "See the caveats in the documentation: http://pandas.pydata.org/pandas-docs/stable/user_guide/indexing.html#returning-a-view-versus-a-copy\n",
      "  \n",
      "C:\\ProgramData\\Anaconda3\\lib\\site-packages\\sklearn\\linear_model\\logistic.py:432: FutureWarning: Default solver will be changed to 'lbfgs' in 0.22. Specify a solver to silence this warning.\n",
      "  FutureWarning)\n"
     ]
    },
    {
     "data": {
      "image/png": "[encoded data removed]",
      "text/plain": [
       "<Figure size 432x288 with 1 Axes>"
      ]
     },
     "metadata": {
      "needs_background": "light"
     },
     "output_type": "display_data"
    },
    {
     "name": "stdout",
     "output_type": "stream",
     "text": [
      "AUC: 0.4318181818181818\n",
      "              precision    recall  f1-score   support\n",
      "\n",
      "       False       0.43      0.20      0.27        30\n",
      "        True       0.37      0.64      0.47        22\n",
      "\n",
      "    accuracy                           0.38        52\n",
      "   macro avg       0.40      0.42      0.37        52\n",
      "weighted avg       0.40      0.38      0.35        52\n",
      "\n",
      "[[ 6  8]\n",
      " [24 14]]\n"
     ]
    },
    {
     "data": {
      "image/png": "[encoded data removed]",
      "text/plain": [
       "<Figure size 432x288 with 2 Axes>"
      ]
     },
     "metadata": {
      "needs_background": "light"
     },
     "output_type": "display_data"
    },
    {
     "name": "stderr",
     "output_type": "stream",
     "text": [
      "C:\\ProgramData\\Anaconda3\\lib\\site-packages\\ipykernel_launcher.py:14: SettingWithCopyWarning: \n",
      "A value is trying to be set on a copy of a slice from a DataFrame.\n",
      "Try using .loc[row_indexer,col_indexer] = value instead\n",
      "\n",
      "See the caveats in the documentation: http://pandas.pydata.org/pandas-docs/stable/user_guide/indexing.html#returning-a-view-versus-a-copy\n",
      "  \n",
      "C:\\ProgramData\\Anaconda3\\lib\\site-packages\\sklearn\\linear_model\\logistic.py:432: FutureWarning: Default solver will be changed to 'lbfgs' in 0.22. Specify a solver to silence this warning.\n",
      "  FutureWarning)\n"
     ]
    },
    {
     "data": {
      "image/png": "[encoded data removed]",
      "text/plain": [
       "<Figure size 432x288 with 1 Axes>"
      ]
     },
     "metadata": {
      "needs_background": "light"
     },
     "output_type": "display_data"
    },
    {
     "name": "stdout",
     "output_type": "stream",
     "text": [
      "AUC: 0.49851190476190477\n",
      "              precision    recall  f1-score   support\n",
      "\n",
      "       False       0.50      0.38      0.43        24\n",
      "        True       0.56      0.68      0.61        28\n",
      "\n",
      "    accuracy                           0.54        52\n",
      "   macro avg       0.53      0.53      0.52        52\n",
      "weighted avg       0.53      0.54      0.53        52\n",
      "\n",
      "[[ 9  9]\n",
      " [15 19]]\n"
     ]
    },
    {
     "data": {
      "image/png": "[encoded data removed]",
      "text/plain": [
       "<Figure size 432x288 with 2 Axes>"
      ]
     },
     "metadata": {
      "needs_background": "light"
     },
     "output_type": "display_data"
    },
    {
     "name": "stderr",
     "output_type": "stream",
     "text": [
      "C:\\ProgramData\\Anaconda3\\lib\\site-packages\\ipykernel_launcher.py:14: SettingWithCopyWarning: \n",
      "A value is trying to be set on a copy of a slice from a DataFrame.\n",
      "Try using .loc[row_indexer,col_indexer] = value instead\n",
      "\n",
      "See the caveats in the documentation: http://pandas.pydata.org/pandas-docs/stable/user_guide/indexing.html#returning-a-view-versus-a-copy\n",
      "  \n",
      "C:\\ProgramData\\Anaconda3\\lib\\site-packages\\sklearn\\linear_model\\logistic.py:432: FutureWarning: Default solver will be changed to 'lbfgs' in 0.22. Specify a solver to silence this warning.\n",
      "  FutureWarning)\n"
     ]
    },
    {
     "data": {
      "image/png": "[encoded data removed]",
      "text/plain": [
       "<Figure size 432x288 with 1 Axes>"
      ]
     },
     "metadata": {
      "needs_background": "light"
     },
     "output_type": "display_data"
    },
    {
     "name": "stdout",
     "output_type": "stream",
     "text": [
      "AUC: 0.45714285714285713\n",
      "              precision    recall  f1-score   support\n",
      "\n",
      "       False       0.28      0.41      0.33        17\n",
      "        True       0.63      0.49      0.55        35\n",
      "\n",
      "    accuracy                           0.46        52\n",
      "   macro avg       0.45      0.45      0.44        52\n",
      "weighted avg       0.52      0.46      0.48        52\n",
      "\n",
      "[[ 7 18]\n",
      " [10 17]]\n"
     ]
    },
    {
     "data": {
      "image/png": "[encoded data removed]",
      "text/plain": [
       "<Figure size 432x288 with 2 Axes>"
      ]
     },
     "metadata": {
      "needs_background": "light"
     },
     "output_type": "display_data"
    },
    {
     "name": "stderr",
     "output_type": "stream",
     "text": [
      "C:\\ProgramData\\Anaconda3\\lib\\site-packages\\ipykernel_launcher.py:14: SettingWithCopyWarning: \n",
      "A value is trying to be set on a copy of a slice from a DataFrame.\n",
      "Try using .loc[row_indexer,col_indexer] = value instead\n",
      "\n",
      "See the caveats in the documentation: http://pandas.pydata.org/pandas-docs/stable/user_guide/indexing.html#returning-a-view-versus-a-copy\n",
      "  \n",
      "C:\\ProgramData\\Anaconda3\\lib\\site-packages\\sklearn\\linear_model\\logistic.py:432: FutureWarning: Default solver will be changed to 'lbfgs' in 0.22. Specify a solver to silence this warning.\n",
      "  FutureWarning)\n"
     ]
    },
    {
     "data": {
      "image/png": "[encoded data removed]",
      "text/plain": [
       "<Figure size 432x288 with 1 Axes>"
      ]
     },
     "metadata": {
      "needs_background": "light"
     },
     "output_type": "display_data"
    },
    {
     "name": "stdout",
     "output_type": "stream",
     "text": [
      "AUC: 0.6124260355029586\n",
      "              precision    recall  f1-score   support\n",
      "\n",
      "       False       0.71      0.38      0.50        26\n",
      "        True       0.58      0.85      0.69        26\n",
      "\n",
      "    accuracy                           0.62        52\n",
      "   macro avg       0.65      0.62      0.59        52\n",
      "weighted avg       0.65      0.62      0.59        52\n",
      "\n",
      "[[10  4]\n",
      " [16 22]]\n"
     ]
    },
    {
     "data": {
      "image/png": "[encoded data removed]",
      "text/plain": [
       "<Figure size 432x288 with 2 Axes>"
      ]
     },
     "metadata": {
      "needs_background": "light"
     },
     "output_type": "display_data"
    },
    {
     "name": "stderr",
     "output_type": "stream",
     "text": [
      "C:\\ProgramData\\Anaconda3\\lib\\site-packages\\ipykernel_launcher.py:14: SettingWithCopyWarning: \n",
      "A value is trying to be set on a copy of a slice from a DataFrame.\n",
      "Try using .loc[row_indexer,col_indexer] = value instead\n",
      "\n",
      "See the caveats in the documentation: http://pandas.pydata.org/pandas-docs/stable/user_guide/indexing.html#returning-a-view-versus-a-copy\n",
      "  \n",
      "C:\\ProgramData\\Anaconda3\\lib\\site-packages\\sklearn\\linear_model\\logistic.py:432: FutureWarning: Default solver will be changed to 'lbfgs' in 0.22. Specify a solver to silence this warning.\n",
      "  FutureWarning)\n"
     ]
    },
    {
     "data": {
      "image/png": "[encoded data removed]",
      "text/plain": [
       "<Figure size 432x288 with 1 Axes>"
      ]
     },
     "metadata": {
      "needs_background": "light"
     },
     "output_type": "display_data"
    },
    {
     "name": "stdout",
     "output_type": "stream",
     "text": [
      "AUC: 0.4715142428785607\n",
      "              precision    recall  f1-score   support\n",
      "\n",
      "       False       0.60      0.31      0.41        29\n",
      "        True       0.46      0.74      0.57        23\n",
      "\n",
      "    accuracy                           0.50        52\n",
      "   macro avg       0.53      0.52      0.49        52\n",
      "weighted avg       0.54      0.50      0.48        52\n",
      "\n",
      "[[ 9  6]\n",
      " [20 17]]\n"
     ]
    },
    {
     "data": {
      "image/png": "[encoded data removed]",
      "text/plain": [
       "<Figure size 432x288 with 2 Axes>"
      ]
     },
     "metadata": {
      "needs_background": "light"
     },
     "output_type": "display_data"
    },
    {
     "name": "stderr",
     "output_type": "stream",
     "text": [
      "C:\\ProgramData\\Anaconda3\\lib\\site-packages\\ipykernel_launcher.py:14: SettingWithCopyWarning: \n",
      "A value is trying to be set on a copy of a slice from a DataFrame.\n",
      "Try using .loc[row_indexer,col_indexer] = value instead\n",
      "\n",
      "See the caveats in the documentation: http://pandas.pydata.org/pandas-docs/stable/user_guide/indexing.html#returning-a-view-versus-a-copy\n",
      "  \n",
      "C:\\ProgramData\\Anaconda3\\lib\\site-packages\\sklearn\\linear_model\\logistic.py:432: FutureWarning: Default solver will be changed to 'lbfgs' in 0.22. Specify a solver to silence this warning.\n",
      "  FutureWarning)\n"
     ]
    },
    {
     "data": {
      "image/png": "[encoded data removed]",
      "text/plain": [
       "<Figure size 432x288 with 1 Axes>"
      ]
     },
     "metadata": {
      "needs_background": "light"
     },
     "output_type": "display_data"
    },
    {
     "name": "stdout",
     "output_type": "stream",
     "text": [
      "AUC: 0.5680473372781065\n",
      "              precision    recall  f1-score   support\n",
      "\n",
      "       False       0.57      0.46      0.51        26\n",
      "        True       0.55      0.65      0.60        26\n",
      "\n",
      "    accuracy                           0.56        52\n",
      "   macro avg       0.56      0.56      0.55        52\n",
      "weighted avg       0.56      0.56      0.55        52\n",
      "\n",
      "[[12  9]\n",
      " [14 17]]\n"
     ]
    },
    {
     "data": {
      "image/png": "[encoded data removed]",
      "text/plain": [
       "<Figure size 432x288 with 2 Axes>"
      ]
     },
     "metadata": {
      "needs_background": "light"
     },
     "output_type": "display_data"
    },
    {
     "name": "stderr",
     "output_type": "stream",
     "text": [
      "C:\\ProgramData\\Anaconda3\\lib\\site-packages\\ipykernel_launcher.py:14: SettingWithCopyWarning: \n",
      "A value is trying to be set on a copy of a slice from a DataFrame.\n",
      "Try using .loc[row_indexer,col_indexer] = value instead\n",
      "\n",
      "See the caveats in the documentation: http://pandas.pydata.org/pandas-docs/stable/user_guide/indexing.html#returning-a-view-versus-a-copy\n",
      "  \n",
      "C:\\ProgramData\\Anaconda3\\lib\\site-packages\\sklearn\\linear_model\\logistic.py:432: FutureWarning: Default solver will be changed to 'lbfgs' in 0.22. Specify a solver to silence this warning.\n",
      "  FutureWarning)\n"
     ]
    },
    {
     "data": {
      "image/png": "[encoded data removed]",
      "text/plain": [
       "<Figure size 432x288 with 1 Axes>"
      ]
     },
     "metadata": {
      "needs_background": "light"
     },
     "output_type": "display_data"
    },
    {
     "name": "stdout",
     "output_type": "stream",
     "text": [
      "AUC: 0.5548387096774193\n",
      "              precision    recall  f1-score   support\n",
      "\n",
      "       False       0.42      0.40      0.41        20\n",
      "        True       0.62      0.65      0.63        31\n",
      "\n",
      "    accuracy                           0.55        51\n",
      "   macro avg       0.52      0.52      0.52        51\n",
      "weighted avg       0.55      0.55      0.55        51\n",
      "\n",
      "[[ 8 11]\n",
      " [12 20]]\n"
     ]
    },
    {
     "data": {
      "image/png": "[encoded data removed]",
      "text/plain": [
       "<Figure size 432x288 with 2 Axes>"
      ]
     },
     "metadata": {
      "needs_background": "light"
     },
     "output_type": "display_data"
    },
    {
     "name": "stderr",
     "output_type": "stream",
     "text": [
      "C:\\ProgramData\\Anaconda3\\lib\\site-packages\\ipykernel_launcher.py:14: SettingWithCopyWarning: \n",
      "A value is trying to be set on a copy of a slice from a DataFrame.\n",
      "Try using .loc[row_indexer,col_indexer] = value instead\n",
      "\n",
      "See the caveats in the documentation: http://pandas.pydata.org/pandas-docs/stable/user_guide/indexing.html#returning-a-view-versus-a-copy\n",
      "  \n",
      "C:\\ProgramData\\Anaconda3\\lib\\site-packages\\sklearn\\linear_model\\logistic.py:432: FutureWarning: Default solver will be changed to 'lbfgs' in 0.22. Specify a solver to silence this warning.\n",
      "  FutureWarning)\n"
     ]
    },
    {
     "data": {
      "image/png": "[encoded data removed]",
      "text/plain": [
       "<Figure size 432x288 with 1 Axes>"
      ]
     },
     "metadata": {
      "needs_background": "light"
     },
     "output_type": "display_data"
    },
    {
     "name": "stdout",
     "output_type": "stream",
     "text": [
      "AUC: 0.6475155279503106\n",
      "              precision    recall  f1-score   support\n",
      "\n",
      "       False       0.62      0.36      0.45        28\n",
      "        True       0.49      0.74      0.59        23\n",
      "\n",
      "    accuracy                           0.53        51\n",
      "   macro avg       0.56      0.55      0.52        51\n",
      "weighted avg       0.56      0.53      0.51        51\n",
      "\n",
      "[[10  6]\n",
      " [18 17]]\n"
     ]
    },
    {
     "data": {
      "image/png": "[encoded data removed]",
      "text/plain": [
       "<Figure size 432x288 with 2 Axes>"
      ]
     },
     "metadata": {
      "needs_background": "light"
     },
     "output_type": "display_data"
    },
    {
     "name": "stderr",
     "output_type": "stream",
     "text": [
      "C:\\ProgramData\\Anaconda3\\lib\\site-packages\\ipykernel_launcher.py:14: SettingWithCopyWarning: \n",
      "A value is trying to be set on a copy of a slice from a DataFrame.\n",
      "Try using .loc[row_indexer,col_indexer] = value instead\n",
      "\n",
      "See the caveats in the documentation: http://pandas.pydata.org/pandas-docs/stable/user_guide/indexing.html#returning-a-view-versus-a-copy\n",
      "  \n",
      "C:\\ProgramData\\Anaconda3\\lib\\site-packages\\sklearn\\linear_model\\logistic.py:432: FutureWarning: Default solver will be changed to 'lbfgs' in 0.22. Specify a solver to silence this warning.\n",
      "  FutureWarning)\n"
     ]
    },
    {
     "data": {
      "image/png": "[encoded data removed]",
      "text/plain": [
       "<Figure size 432x288 with 1 Axes>"
      ]
     },
     "metadata": {
      "needs_background": "light"
     },
     "output_type": "display_data"
    },
    {
     "name": "stdout",
     "output_type": "stream",
     "text": [
      "AUC: 0.7049689440993788\n",
      "              precision    recall  f1-score   support\n",
      "\n",
      "       False       0.71      0.36      0.48        28\n",
      "        True       0.51      0.83      0.63        23\n",
      "\n",
      "    accuracy                           0.57        51\n",
      "   macro avg       0.61      0.59      0.55        51\n",
      "weighted avg       0.62      0.57      0.55        51\n",
      "\n",
      "[[10  4]\n",
      " [18 19]]\n"
     ]
    },
    {
     "data": {
      "image/png": "[encoded data removed]",
      "text/plain": [
       "<Figure size 432x288 with 2 Axes>"
      ]
     },
     "metadata": {
      "needs_background": "light"
     },
     "output_type": "display_data"
    }
   ],
   "source": [
    "# Create n-fold cross-validation\n",
    "kf = KFold(n_splits=10, random_state=123, shuffle=True)\n",
    "roc_auc_score_list=[]\n",
    "\n",
    "# For each folds split\n",
    "for train_index, test_index in kf.split(data):\n",
    "    \n",
    "    cv_train, cv_test = data.iloc[train_index], data.iloc[test_index]\n",
    "\n",
    "    cv_train['month_enc'], cv_test['month_enc'] = mean_target_encoding(train=cv_train,\n",
    "                                                                           test=cv_test,\n",
    "                                                                           target='incendio',\n",
    "                                                                           categorical='month',\n",
    "                                                                           alpha=5)\n",
    "\n",
    "    #print(cv_train_dm.shape, cv_test_dm.shape)\n",
    "    #print(cv_train.shape, cv_test.shape)\n",
    "\n",
    "    #Estandarizamos las variables numericas\n",
    "    ss1=StandardScaler()\n",
    "    ss2=StandardScaler()\n",
    "    ss3=StandardScaler()\n",
    "    ss4=StandardScaler()\n",
    "    ss5=StandardScaler()\n",
    "    ss6=StandardScaler()\n",
    "    ss7=StandardScaler()\n",
    "    ss8=StandardScaler()\n",
    "    ss9=StandardScaler()\n",
    "    ss10=StandardScaler()\n",
    "\n",
    "    ss1.fit(cv_train[['X']])\n",
    "    ss2.fit(cv_train[['Y']])    \n",
    "    ss3.fit(cv_train[['FFMC']])\n",
    "    ss4.fit(cv_train[['DMC']])\n",
    "    ss5.fit(cv_train[['DC_log']])\n",
    "    ss6.fit(cv_train[['ISI']])\n",
    "    ss7.fit(cv_train[['temp']])\n",
    "    ss8.fit(cv_train[['RH']])\n",
    "    ss9.fit(cv_train[['wind']])\n",
    "    ss10.fit(cv_train[['rain']])\n",
    "\n",
    "    cv_train_enc=pd.concat([pd.DataFrame(ss1.transform(cv_train[['X']]), columns=['X']), \n",
    "                           pd.DataFrame(ss2.transform(cv_train[['Y']]), columns=['Y']),\n",
    "                           pd.DataFrame(ss3.transform(cv_train[['FFMC']]), columns=['FFMC']),\n",
    "                           pd.DataFrame(ss4.transform(cv_train[['DMC']]), columns=['DMC']),\n",
    "                           pd.DataFrame(ss5.transform(cv_train[['DC_log']]), columns=['DC_log']),\n",
    "                           pd.DataFrame(ss6.transform(cv_train[['ISI']]), columns=['ISI']),\n",
    "                           pd.DataFrame(ss7.transform(cv_train[['temp']]), columns=['temp']),\n",
    "                           pd.DataFrame(ss8.transform(cv_train[['RH']]), columns=['RH']),\n",
    "                           pd.DataFrame(ss9.transform(cv_train[['wind']]), columns=['wind']), \n",
    "                           pd.DataFrame(ss10.transform(cv_train[['rain']]), columns=['rain']) ], axis=1)\n",
    "    \n",
    "    cv_test_enc=pd.concat([pd.DataFrame(ss1.transform(cv_test[['X']]), columns=['X']), \n",
    "                           pd.DataFrame(ss2.transform(cv_test[['Y']]), columns=['Y']),\n",
    "                           pd.DataFrame(ss3.transform(cv_test[['FFMC']]), columns=['FFMC']),\n",
    "                           pd.DataFrame(ss4.transform(cv_test[['DMC']]), columns=['DMC']),\n",
    "                           pd.DataFrame(ss5.transform(cv_test[['DC_log']]), columns=['DC_log']),\n",
    "                           pd.DataFrame(ss6.transform(cv_test[['ISI']]), columns=['ISI']),\n",
    "                           pd.DataFrame(ss7.transform(cv_test[['temp']]), columns=['temp']),\n",
    "                           pd.DataFrame(ss8.transform(cv_test[['RH']]), columns=['RH']),\n",
    "                           pd.DataFrame(ss9.transform(cv_test[['wind']]), columns=['wind']), \n",
    "                           pd.DataFrame(ss10.transform(cv_test[['rain']]), columns=['rain']) ], axis=1)\n",
    "    \n",
    "\n",
    "    #Training\n",
    "    X_train, y_train= pd.concat([cv_train_enc.reset_index(), \n",
    "                                 cv_train[['month_enc']].reset_index(),\n",
    "                                 cv_train[['day']].reset_index()], axis=1), cv_train[['incendio']]\n",
    "    X_test, y_test= pd.concat([cv_test_enc.reset_index(), \n",
    "                               cv_test[['month_enc']].reset_index(),\n",
    "                               cv_test[['day']].reset_index()], axis=1), cv_test[['incendio']]\n",
    "    \n",
    "    X_train.drop(['index'], inplace=True, axis=1)\n",
    "    X_test.drop(['index'], inplace=True, axis=1)\n",
    "    \n",
    "    #print(X_train.head())\n",
    "\n",
    "    logreg= LogisticRegression()\n",
    "    logreg.fit(X_train.values, y_train.values.ravel())\n",
    "     \n",
    "    y_pred= logreg.predict(X_test) \n",
    "    y_pred_proba= logreg.predict_proba(X_test)[:,1]\n",
    "\n",
    "    fpr, tpr, thresholds = roc_curve(y_test.values, y_pred_proba)\n",
    "    \n",
    "    plt.plot([0,1],[0,1],'k--')\n",
    "    plt.plot(fpr, tpr)\n",
    "    plt.title('ROC Curve')\n",
    "    plt.xlabel('False Positive Rate')\n",
    "    plt.ylabel('True Positive Rate')\n",
    "    plt.show()\n",
    "\n",
    "    score=roc_auc_score(y_test, y_pred_proba)\n",
    "    roc_auc_score_list.append(score) \n",
    "    print(\"AUC: {}\".format(score))\n",
    "    \n",
    "    print(classification_report(y_test, y_pred))\n",
    "    corr=confusion_matrix(y_pred, y_test)\n",
    "    print(corr)\n",
    "     \n",
    "    heatmap=sns.heatmap(corr, annot=True, fmt=\"d\", cmap=\"Reds\")\n",
    "    heatmap.set_title('Correlation Heatmap', fontdict={'fontsize':12})\n",
    "    \n",
    "    plt.show()\n",
    "    "
   ]
  },
  {
   "cell_type": "code",
   "execution_count": 168,
   "metadata": {
    "colab": {
     "base_uri": "https://localhost:8080/"
    },
    "id": "OyMwG_rnJlww",
    "outputId": "916ab7bd-df97-4bcc-a49d-86f8663aa8f8"
   },
   "outputs": [
    {
     "name": "stdout",
     "output_type": "stream",
     "text": [
      "Average_AUC: 0.544598629294381\n"
     ]
    }
   ],
   "source": [
    "print(\"Average_AUC: {}\".format(np.mean(roc_auc_score_list)))"
   ]
  },
  {
   "cell_type": "markdown",
   "metadata": {
    "id": "735FU9-qRcFz"
   },
   "source": [
    "Modelo de Regresion\n",
    "\n",
    "En este caso elegí trabajar con un modelo de regresion lineal porque es un modelo simple que puede ser buena eleccion para empezar a experimentar. Las metricas que se utilizaran son MAE por su facil interpretabilidad y RMSE para tomar en cuenta la variación del error."
   ]
  },
  {
   "cell_type": "code",
   "execution_count": 169,
   "metadata": {},
   "outputs": [],
   "source": [
    "data_regression=pd.get_dummies(data, columns=['month'], drop_first=True, prefix='DM')"
   ]
  },
  {
   "cell_type": "code",
   "execution_count": 170,
   "metadata": {},
   "outputs": [
    {
     "data": {
      "text/html": [
       "<div>\n",
       "<style scoped>\n",
       "    .dataframe tbody tr th:only-of-type {\n",
       "        vertical-align: middle;\n",
       "    }\n",
       "\n",
       "    .dataframe tbody tr th {\n",
       "        vertical-align: top;\n",
       "    }\n",
       "\n",
       "    .dataframe thead th {\n",
       "        text-align: right;\n",
       "    }\n",
       "</style>\n",
       "<table border=\"1\" class=\"dataframe\">\n",
       "  <thead>\n",
       "    <tr style=\"text-align: right;\">\n",
       "      <th></th>\n",
       "      <th>X</th>\n",
       "      <th>Y</th>\n",
       "      <th>day</th>\n",
       "      <th>FFMC</th>\n",
       "      <th>DMC</th>\n",
       "      <th>ISI</th>\n",
       "      <th>temp</th>\n",
       "      <th>RH</th>\n",
       "      <th>wind</th>\n",
       "      <th>rain</th>\n",
       "      <th>...</th>\n",
       "      <th>DM_dec</th>\n",
       "      <th>DM_feb</th>\n",
       "      <th>DM_jan</th>\n",
       "      <th>DM_jul</th>\n",
       "      <th>DM_jun</th>\n",
       "      <th>DM_mar</th>\n",
       "      <th>DM_may</th>\n",
       "      <th>DM_nov</th>\n",
       "      <th>DM_oct</th>\n",
       "      <th>DM_sep</th>\n",
       "    </tr>\n",
       "  </thead>\n",
       "  <tbody>\n",
       "    <tr>\n",
       "      <td>0</td>\n",
       "      <td>7</td>\n",
       "      <td>5</td>\n",
       "      <td>1.0</td>\n",
       "      <td>86.2</td>\n",
       "      <td>26.2</td>\n",
       "      <td>5.1</td>\n",
       "      <td>8.2</td>\n",
       "      <td>51</td>\n",
       "      <td>6.7</td>\n",
       "      <td>0.0</td>\n",
       "      <td>...</td>\n",
       "      <td>0</td>\n",
       "      <td>0</td>\n",
       "      <td>0</td>\n",
       "      <td>0</td>\n",
       "      <td>0</td>\n",
       "      <td>1</td>\n",
       "      <td>0</td>\n",
       "      <td>0</td>\n",
       "      <td>0</td>\n",
       "      <td>0</td>\n",
       "    </tr>\n",
       "    <tr>\n",
       "      <td>1</td>\n",
       "      <td>7</td>\n",
       "      <td>4</td>\n",
       "      <td>0.0</td>\n",
       "      <td>90.6</td>\n",
       "      <td>35.4</td>\n",
       "      <td>6.7</td>\n",
       "      <td>18.0</td>\n",
       "      <td>33</td>\n",
       "      <td>0.9</td>\n",
       "      <td>0.0</td>\n",
       "      <td>...</td>\n",
       "      <td>0</td>\n",
       "      <td>0</td>\n",
       "      <td>0</td>\n",
       "      <td>0</td>\n",
       "      <td>0</td>\n",
       "      <td>0</td>\n",
       "      <td>0</td>\n",
       "      <td>0</td>\n",
       "      <td>1</td>\n",
       "      <td>0</td>\n",
       "    </tr>\n",
       "    <tr>\n",
       "      <td>2</td>\n",
       "      <td>7</td>\n",
       "      <td>4</td>\n",
       "      <td>1.0</td>\n",
       "      <td>90.6</td>\n",
       "      <td>43.7</td>\n",
       "      <td>6.7</td>\n",
       "      <td>14.6</td>\n",
       "      <td>33</td>\n",
       "      <td>1.3</td>\n",
       "      <td>0.0</td>\n",
       "      <td>...</td>\n",
       "      <td>0</td>\n",
       "      <td>0</td>\n",
       "      <td>0</td>\n",
       "      <td>0</td>\n",
       "      <td>0</td>\n",
       "      <td>0</td>\n",
       "      <td>0</td>\n",
       "      <td>0</td>\n",
       "      <td>1</td>\n",
       "      <td>0</td>\n",
       "    </tr>\n",
       "    <tr>\n",
       "      <td>3</td>\n",
       "      <td>8</td>\n",
       "      <td>6</td>\n",
       "      <td>1.0</td>\n",
       "      <td>91.7</td>\n",
       "      <td>33.3</td>\n",
       "      <td>9.0</td>\n",
       "      <td>8.3</td>\n",
       "      <td>97</td>\n",
       "      <td>4.0</td>\n",
       "      <td>0.2</td>\n",
       "      <td>...</td>\n",
       "      <td>0</td>\n",
       "      <td>0</td>\n",
       "      <td>0</td>\n",
       "      <td>0</td>\n",
       "      <td>0</td>\n",
       "      <td>1</td>\n",
       "      <td>0</td>\n",
       "      <td>0</td>\n",
       "      <td>0</td>\n",
       "      <td>0</td>\n",
       "    </tr>\n",
       "    <tr>\n",
       "      <td>4</td>\n",
       "      <td>8</td>\n",
       "      <td>6</td>\n",
       "      <td>1.0</td>\n",
       "      <td>89.3</td>\n",
       "      <td>51.3</td>\n",
       "      <td>9.6</td>\n",
       "      <td>11.4</td>\n",
       "      <td>99</td>\n",
       "      <td>1.8</td>\n",
       "      <td>0.0</td>\n",
       "      <td>...</td>\n",
       "      <td>0</td>\n",
       "      <td>0</td>\n",
       "      <td>0</td>\n",
       "      <td>0</td>\n",
       "      <td>0</td>\n",
       "      <td>1</td>\n",
       "      <td>0</td>\n",
       "      <td>0</td>\n",
       "      <td>0</td>\n",
       "      <td>0</td>\n",
       "    </tr>\n",
       "  </tbody>\n",
       "</table>\n",
       "<p>5 rows × 25 columns</p>\n",
       "</div>"
      ],
      "text/plain": [
       "   X  Y  day  FFMC   DMC  ISI  temp  RH  wind  rain  ...  DM_dec  DM_feb  \\\n",
       "0  7  5  1.0  86.2  26.2  5.1   8.2  51   6.7   0.0  ...       0       0   \n",
       "1  7  4  0.0  90.6  35.4  6.7  18.0  33   0.9   0.0  ...       0       0   \n",
       "2  7  4  1.0  90.6  43.7  6.7  14.6  33   1.3   0.0  ...       0       0   \n",
       "3  8  6  1.0  91.7  33.3  9.0   8.3  97   4.0   0.2  ...       0       0   \n",
       "4  8  6  1.0  89.3  51.3  9.6  11.4  99   1.8   0.0  ...       0       0   \n",
       "\n",
       "   DM_jan  DM_jul  DM_jun  DM_mar  DM_may  DM_nov  DM_oct  DM_sep  \n",
       "0       0       0       0       1       0       0       0       0  \n",
       "1       0       0       0       0       0       0       1       0  \n",
       "2       0       0       0       0       0       0       1       0  \n",
       "3       0       0       0       1       0       0       0       0  \n",
       "4       0       0       0       1       0       0       0       0  \n",
       "\n",
       "[5 rows x 25 columns]"
      ]
     },
     "execution_count": 170,
     "metadata": {},
     "output_type": "execute_result"
    }
   ],
   "source": [
    "data_regression.head()"
   ]
  },
  {
   "cell_type": "code",
   "execution_count": 172,
   "metadata": {},
   "outputs": [
    {
     "data": {
      "text/plain": [
       "Index(['X', 'Y', 'day', 'FFMC', 'DMC', 'ISI', 'temp', 'RH', 'wind', 'rain',\n",
       "       'area', 'incendio', 'magnitud', 'DC_log', 'DM_aug', 'DM_dec', 'DM_feb',\n",
       "       'DM_jan', 'DM_jul', 'DM_jun', 'DM_mar', 'DM_may', 'DM_nov', 'DM_oct',\n",
       "       'DM_sep'],\n",
       "      dtype='object')"
      ]
     },
     "execution_count": 172,
     "metadata": {},
     "output_type": "execute_result"
    }
   ],
   "source": [
    "data_regression.columns"
   ]
  },
  {
   "cell_type": "code",
   "execution_count": 185,
   "metadata": {
    "id": "tqKtSwxNKD9F"
   },
   "outputs": [
    {
     "name": "stdout",
     "output_type": "stream",
     "text": [
      "MAE:  1.1818272118604947\n",
      "RMSE:  1.0871187662166883\n",
      "\n",
      "MAE:  1.0705305826580231\n",
      "RMSE:  1.034664478301069\n",
      "\n",
      "MAE:  1.3183619814254106\n",
      "RMSE:  1.1481994519356864\n",
      "\n",
      "MAE:  1.2482433192721132\n",
      "RMSE:  1.1172481010375954\n",
      "\n",
      "MAE:  1.1180784652950526\n",
      "RMSE:  1.0573922948910932\n",
      "\n",
      "MAE:  1.3072931380900958\n",
      "RMSE:  1.1433692046273136\n",
      "\n",
      "MAE:  1.0561078488576192\n",
      "RMSE:  1.0276710800920785\n",
      "\n",
      "MAE:  1.12203174128294\n",
      "RMSE:  1.059259997018173\n",
      "\n",
      "MAE:  1.0499135030270552\n",
      "RMSE:  1.0246528695256043\n",
      "\n",
      "MAE:  1.2602208845426326\n",
      "RMSE:  1.1225956015158052\n",
      "\n"
     ]
    }
   ],
   "source": [
    "# Create n-fold cross-validation\n",
    "kf = KFold(n_splits=10, random_state=24, shuffle=True)\n",
    "MAE_list=[]\n",
    "RMSE_list=[]\n",
    "\n",
    "# For each folds split\n",
    "for train_index, test_index in kf.split(data_regression):\n",
    "    cv_train, cv_test = data_regression.iloc[train_index], data_regression.iloc[test_index]\n",
    "    \n",
    "\n",
    "    #Estandarizamos las variables numericas\n",
    "    ss1=StandardScaler()\n",
    "    ss2=StandardScaler()\n",
    "    ss3=StandardScaler()\n",
    "    ss4=StandardScaler()\n",
    "    ss5=StandardScaler()\n",
    "    ss6=StandardScaler()\n",
    "    ss7=StandardScaler()\n",
    "    ss8=StandardScaler()\n",
    "    ss9=StandardScaler()\n",
    "    ss10=StandardScaler()\n",
    "\n",
    "    ss1.fit(cv_train[['X']])\n",
    "    ss2.fit(cv_train[['Y']])    \n",
    "    ss3.fit(cv_train[['FFMC']])\n",
    "    ss4.fit(cv_train[['DMC']])\n",
    "    ss5.fit(cv_train[['DC_log']])\n",
    "    ss6.fit(cv_train[['ISI']])\n",
    "    ss7.fit(cv_train[['temp']])\n",
    "    ss8.fit(cv_train[['RH']])\n",
    "    ss9.fit(cv_train[['wind']])\n",
    "    ss10.fit(cv_train[['rain']])\n",
    "\n",
    "    cv_train_enc=pd.concat([pd.DataFrame(ss1.transform(cv_train[['X']]), columns=['X']), \n",
    "                           pd.DataFrame(ss2.transform(cv_train[['Y']]), columns=['Y']),\n",
    "                           pd.DataFrame(ss3.transform(cv_train[['FFMC']]), columns=['FFMC']),\n",
    "                           pd.DataFrame(ss4.transform(cv_train[['DMC']]), columns=['DMC']),\n",
    "                           pd.DataFrame(ss5.transform(cv_train[['DC_log']]), columns=['DC_log']),\n",
    "                           pd.DataFrame(ss6.transform(cv_train[['ISI']]), columns=['ISI']),\n",
    "                           pd.DataFrame(ss7.transform(cv_train[['temp']]), columns=['temp']),\n",
    "                           pd.DataFrame(ss8.transform(cv_train[['RH']]), columns=['RH']),\n",
    "                           pd.DataFrame(ss9.transform(cv_train[['wind']]), columns=['wind']), \n",
    "                           pd.DataFrame(ss10.transform(cv_train[['rain']]), columns=['rain']) ], axis=1)\n",
    "    \n",
    "    cv_test_enc=pd.concat([pd.DataFrame(ss1.transform(cv_test[['X']]), columns=['X']), \n",
    "                           pd.DataFrame(ss2.transform(cv_test[['Y']]), columns=['Y']),\n",
    "                           pd.DataFrame(ss3.transform(cv_test[['FFMC']]), columns=['FFMC']),\n",
    "                           pd.DataFrame(ss4.transform(cv_test[['DMC']]), columns=['DMC']),\n",
    "                           pd.DataFrame(ss5.transform(cv_test[['DC_log']]), columns=['DC_log']),\n",
    "                           pd.DataFrame(ss6.transform(cv_test[['ISI']]), columns=['ISI']),\n",
    "                           pd.DataFrame(ss7.transform(cv_test[['temp']]), columns=['temp']),\n",
    "                           pd.DataFrame(ss8.transform(cv_test[['RH']]), columns=['RH']),\n",
    "                           pd.DataFrame(ss9.transform(cv_test[['wind']]), columns=['wind']), \n",
    "                           pd.DataFrame(ss10.transform(cv_test[['rain']]), columns=['rain']) ], axis=1)\n",
    "    \n",
    "\n",
    "    X_train, y_train= pd.concat([cv_train_enc.reset_index(), \n",
    "                                 cv_train[['day', 'DM_aug', 'DM_dec', 'DM_feb',\n",
    "                                           'DM_jan', 'DM_jul', 'DM_jun', 'DM_mar', 'DM_may', 'DM_nov', 'DM_oct',\n",
    "                                           'DM_sep']].reset_index()], axis=1), cv_train[['magnitud']]\n",
    "    X_test, y_test= pd.concat([cv_test_enc.reset_index(), \n",
    "                               cv_test[['day', 'DM_aug', 'DM_dec', 'DM_feb',\n",
    "                                        'DM_jan', 'DM_jul', 'DM_jun', 'DM_mar', 'DM_may', 'DM_nov', 'DM_oct',\n",
    "                                        'DM_sep']].reset_index()], axis=1), cv_test[['magnitud']]\n",
    "    \n",
    "    X_train.drop(['index'], inplace=True, axis=1)\n",
    "    X_test.drop(['index'], inplace=True, axis=1)\n",
    "    \n",
    "    #print(X_train.columns, y_train.columns)\n",
    "\n",
    "    lreg= LinearRegression()\n",
    "    lreg.fit(X_train, y_train)\n",
    "     \n",
    "    y_pred= lreg.predict(X_test)\n",
    "    \n",
    "    mae=mean_absolute_error(y_pred, y_test)\n",
    "    rmse=np.sqrt(mean_absolute_error(y_pred, y_test))\n",
    "    \n",
    "    print('MAE: ', mae)\n",
    "    print('RMSE: ', rmse)\n",
    "    print('')\n",
    "    \n",
    "    MAE_list.append(mae)\n",
    "    RMSE_list.append(rmse)"
   ]
  },
  {
   "cell_type": "code",
   "execution_count": 186,
   "metadata": {
    "colab": {
     "base_uri": "https://localhost:8080/"
    },
    "id": "4D7L0WvWOWZF",
    "outputId": "4e4c5fa3-d2c5-4d2a-8b24-a212badb959f"
   },
   "outputs": [
    {
     "name": "stdout",
     "output_type": "stream",
     "text": [
      "Average_MAE: 1.1732608676311438\n",
      "Average_RMSE: 1.0822171845161106\n"
     ]
    }
   ],
   "source": [
    "print(\"Average_MAE: {}\".format(np.mean(MAE_list)))\n",
    "print(\"Average_RMSE: {}\".format(np.mean(RMSE_list)))"
   ]
  },
  {
   "cell_type": "markdown",
   "metadata": {
    "id": "4L5OGkKdlwJg"
   },
   "source": [
    "En conclusión, ambos modelos no fueron buenos con las métricas estandares.\n",
    "Queda por ver otros parametros, otro clasificador linear, conseguir más datos, técnicas enfocadas a pocos datos.\n"
   ]
  }
 ],
 "metadata": {
  "colab": {
   "collapsed_sections": [],
   "name": "Examen.ipynb",
   "provenance": [],
   "toc_visible": true
  },
  "kernelspec": {
   "display_name": "Python 3",
   "language": "python",
   "name": "python3"
  },
  "language_info": {
   "codemirror_mode": {
    "name": "ipython",
    "version": 3
   },
   "file_extension": ".py",
   "mimetype": "text/x-python",
   "name": "python",
   "nbconvert_exporter": "python",
   "pygments_lexer": "ipython3",
   "version": "3.7.4"
  },
  "widgets": {
   "application/vnd.jupyter.widget-state+json": {
    "0b296f2926b34b79bb64b722467b6776": {
     "model_module": "@jupyter-widgets/output",
     "model_name": "OutputModel",
     "state": {
      "_dom_classes": [],
      "_model_module": "@jupyter-widgets/output",
      "_model_module_version": "1.0.0",
      "_model_name": "OutputModel",
      "_view_count": null,
      "_view_module": "@jupyter-widgets/output",
      "_view_module_version": "1.0.0",
      "_view_name": "OutputView",
      "layout": "IPY_MODEL_1371c97f0b5747eb8a89e995d0c5d4da",
      "msg_id": "",
      "outputs": [
       {
        "metadata": {
         "tags": []
        },
        "output_type": "stream",
        "stream": "stdout",
        "text": "Cargando archivo: denue_inegi_16_.csv\n"
       },
       {
        "metadata": {
         "tags": []
        },
        "output_type": "stream",
        "stream": "stdout",
        "text": "  Columnas:  ['id', 'nom_estab', 'raz_social', 'codigo_act', 'nombre_act', 'per_ocu', 'tipo_vial', 'nom_vial', 'tipo_v_e_1', 'nom_v_e_1', 'tipo_v_e_2', 'nom_v_e_2', 'tipo_v_e_3', 'nom_v_e_3', 'numero_ext', 'letra_ext', 'edificio', 'edificio_e', 'numero_int', 'letra_int', 'tipo_asent', 'nomb_asent', 'tipoCenCom', 'nom_CenCom', 'num_local', 'cod_postal', 'cve_ent', 'entidad', 'cve_mun', 'municipio', 'cve_loc', 'localidad', 'ageb', 'manzana', 'telefono', 'correoelec', 'www', 'tipoUniEco', 'latitud', 'longitud', 'fecha_alta', 'Ruta_Origen']\n  Primera Fila:  ['6171723', 'ACUACULTIVO LOS NEGRITOS', 'ACUACULTIVO LOS NEGRITOS SPR DE RL', '112512', 'Piscicultura y otra acuicultura, excepto camaronicultura', '0 a 5 personas', 'CARRETERA', 'DE VILLAMAR A PLATANAR', 'CALLE', 'NINGUNO', 'CALLE', 'NINGUNO', 'CALLE', 'NINGUNO', '', 'SN', '', '', '', '', 'LOCALIDAD', 'EL PLATANAL', '', '', '', '59553', '16', 'MICHOACÁN DE OCAMPO       ', '104', 'Villamar', '8001', 'Localidad Económica', '0010', '800', '3531108420', '', '', 'Fijo', '20.06711702', '-102.61080731', '2010-07', 'denue_inegi_16_.csv']\n"
       },
       {
        "metadata": {
         "tags": []
        },
        "output_type": "stream",
        "stream": "stdout",
        "text": "  Total de filas: 260768\n  Total de columnas: 42\n\n\nCargando archivo: denue_inegi_09_.csv\n"
       },
       {
        "metadata": {
         "tags": []
        },
        "output_type": "stream",
        "stream": "stdout",
        "text": "  Columnas:  ['id', 'nom_estab', 'raz_social', 'codigo_act', 'nombre_act', 'per_ocu', 'tipo_vial', 'nom_vial', 'tipo_v_e_1', 'nom_v_e_1', 'tipo_v_e_2', 'nom_v_e_2', 'tipo_v_e_3', 'nom_v_e_3', 'numero_ext', 'letra_ext', 'edificio', 'edificio_e', 'numero_int', 'letra_int', 'tipo_asent', 'nomb_asent', 'tipoCenCom', 'nom_CenCom', 'num_local', 'cod_postal', 'cve_ent', 'entidad', 'cve_mun', 'municipio', 'cve_loc', 'localidad', 'ageb', 'manzana', 'telefono', 'correoelec', 'www', 'tipoUniEco', 'latitud', 'longitud', 'fecha_alta', 'Prueba', 'Ruta_Origen']\nEste archivo no contiene la(s) columna(s):  ['Prueba']\nEste archivo contiene ademas la(s) columna(s):  []\n  Primera Fila:  ['8441800', 'AGRO DESARROLLADORES NUTRICIONALES Y ESPECIALIDADES', 'AGRO DESARROLLADORES NUTRICIONALES Y ESPECIALIDADES S DE RL DE CV', '115111', 'Servicios de fumigación agrícola', '6 a 10 personas', 'AVENIDA', 'INSURGENTES SUR', 'CIRCUITO', 'INTERIOR (AVENIDA RIO MIXCOAC)', 'CALLE', 'CERES', 'CALLE', 'MINERVA', '1524.0', '', 'CENTRO Y PLAZA COMERCIAL', 'PISO 7', '', '', 'COLONIA', 'CREDITO CONSTRUCTOR', 'CENTRO Y PLAZA COMERCIAL', 'PUNTA INSURGENTES', '703', '3940.0', '9', 'CIUDAD DE MÉXICO', '14', 'Benito Juárez', '1', 'Benito Juárez', '717', '19', '5578221074.0', 'AGRO.DESARROLLOS@GMAIL.COM', '', 'Fijo', '19.36655606', '-99.18113203', '2019-11', '1', 'denue_inegi_09_.csv']\n"
       },
       {
        "metadata": {
         "tags": []
        },
        "output_type": "stream",
        "stream": "stdout",
        "text": "  Total de filas: 474329\n  Total de columnas: 43\n\n\nCargando archivo: denue_inegi_13_.csv\n"
       },
       {
        "metadata": {
         "tags": []
        },
        "output_type": "stream",
        "stream": "stdout",
        "text": "  Columnas:  ['id', 'nom_estab', 'raz_social', 'codigo_act', 'nombre_act', 'per_ocu', 'tipo_vial', 'nom_vial', 'tipo_v_e_1', 'nom_v_e_1', 'tipo_v_e_2', 'nom_v_e_2', 'tipo_v_e_3', 'nom_v_e_3', 'numero_ext', 'letra_ext', 'edificio', 'edificio_e', 'numero_int', 'letra_int', 'tipo_asent', 'nomb_asent', 'tipoCenCom', 'nom_CenCom', 'num_local', 'cod_postal', 'cve_ent', 'entidad', 'cve_mun', 'municipio', 'cve_loc', 'localidad', 'ageb', 'manzana', 'telefono', 'correoelec', 'www', 'tipoUniEco', 'latitud', 'longitud', 'fecha_alta', 'Prueba', 'Ruta_Origen']\nEste archivo no contiene la(s) columna(s):  []\nEste archivo contiene ademas la(s) columna(s):  []\n  Primera Fila:  ['6170563', 'AC EL SUSPIRO', 'AC EL SUSPIRO SC', '112512', 'Piscicultura y otra acuicultura, excepto camaronicultura', '0 a 5 personas', 'CARRETERA', 'NINGUNO', 'OTRO (ESPECIFIQUE)', 'NINGUNO', 'OTRO (ESPECIFIQUE)', 'NINGUNO', 'OTRO (ESPECIFIQUE)', 'NINGUNO', '0.0', 'DOMICILIO CONOCIDO', '', '', '0.0', '', 'PUEBLO', 'LOCALIDAD EL SUSPIRO', '', '', '', '43151.0', '13', 'HIDALGO', '73', 'Tlanchinol', '67', 'El Suspiro', '0038', '800', '7714047644', '', '', 'Fijo', '21.05672972', '-98.55759667', '2010-07', '1', 'denue_inegi_13_.csv']\n"
       },
       {
        "metadata": {
         "tags": []
        },
        "output_type": "stream",
        "stream": "stdout",
        "text": "  Total de filas: 139387\n  Total de columnas: 43\n\n\nCargando archivo: denue_inegi_15_1.csv\n"
       },
       {
        "metadata": {
         "tags": []
        },
        "output_type": "stream",
        "stream": "stdout",
        "text": "  Columnas:  ['id', 'nom_estab', 'raz_social', 'codigo_act', 'nombre_act', 'per_ocu', 'tipo_vial', 'nom_vial', 'tipo_v_e_1', 'nom_v_e_1', 'tipo_v_e_2', 'nom_v_e_2', 'tipo_v_e_3', 'nom_v_e_3', 'numero_ext', 'letra_ext', 'edificio', 'edificio_e', 'numero_int', 'letra_int', 'tipo_asent', 'nomb_asent', 'tipoCenCom', 'nom_CenCom', 'num_local', 'cod_postal', 'cve_ent', 'entidad', 'cve_mun', 'municipio', 'cve_loc', 'localidad', 'ageb', 'manzana', 'telefono', 'correoelec', 'www', 'tipoUniEco', 'latitud', 'longitud', 'fecha_alta', 'Prueba', 'Ruta_Origen']\nEste archivo no contiene la(s) columna(s):  []\nEste archivo contiene ademas la(s) columna(s):  []\n  Primera Fila:  ['6170933', '555 LA VERACRUZANA', '', '112512', 'Piscicultura y otra acuicultura, excepto camaronicultura', '6 a 10 personas', 'CALLE', 'PROLONGACION NINGUNO', 'CALLE', 'NINGUNO', 'CALLE', 'NINGUNO', 'CALLE', 'NINGUNO', '', 'SN', '', '', '', 'SN', 'PUEBLO', 'LOS SAUCOS VALLE DE BRAVOS', '', '', '', '51200.0', '15', 'MÉXICO                      ', '110', 'Valle de Bravo', '46', 'Los Saucos', '0174', '1', '', '', '', 'Fijo', '19.16640249', '-99.99466684', '2010-07', '1', 'denue_inegi_15_1.csv']\n"
       },
       {
        "metadata": {
         "tags": []
        },
        "output_type": "stream",
        "stream": "stdout",
        "text": "  Total de filas: 520001\n  Total de columnas: 43\n\n\nCargando archivo: denue_inegi_15_2.csv\n"
       },
       {
        "metadata": {
         "tags": []
        },
        "output_type": "stream",
        "stream": "stdout",
        "text": "  Columnas:  ['id', 'nom_estab', 'raz_social', 'codigo_act', 'nombre_act', 'per_ocu', 'tipo_vial', 'nom_vial', 'tipo_v_e_1', 'nom_v_e_1', 'tipo_v_e_2', 'nom_v_e_2', 'tipo_v_e_3', 'nom_v_e_3', 'numero_ext', 'letra_ext', 'edificio', 'edificio_e', 'numero_int', 'letra_int', 'tipo_asent', 'nomb_asent', 'tipoCenCom', 'nom_CenCom', 'num_local', 'cod_postal', 'cve_ent', 'entidad', 'cve_mun', 'municipio', 'cve_loc', 'localidad', 'ageb', 'manzana', 'telefono', 'correoelec', 'www', 'tipoUniEco', 'latitud', 'longitud', 'fecha_alta', 'Prueba', 'Ruta_Origen']\nEste archivo no contiene la(s) columna(s):  []\nEste archivo contiene ademas la(s) columna(s):  []\n  Primera Fila:  ['2112969', 'ANTOJITOS MEXICANOS DOÑA INES', '', '722513', 'Restaurantes con servicio de preparación de antojitos', '0 a 5 personas', 'CALLE', 'NIÑOS HEROES', 'CALLE', 'BENITO JUAREZ', 'CALLE', '16 DE SEPTIEMBRE', 'CALLE', 'VENUSTIANO CARRANZA', '2.0', '', 'MERCADO PUBLICO', 'PLANTA BAJA', '', '', 'BARRIO', 'SAN MARTIN', 'MERCADO PUBLICO', 'MERCADO NIÑOS HEROES', '25-18', '54963.0', '15', 'MÉXICO                      ', '108', 'Tultepec', '1', 'Tultepec', '002A', '15', '', '', '', 'Fijo', '19.68325299', '-99.13228949', '2014-12', '1', 'denue_inegi_15_2.csv']\n"
       },
       {
        "metadata": {
         "tags": []
        },
        "output_type": "stream",
        "stream": "stdout",
        "text": "  Total de filas: 180742\n  Total de columnas: 43\n\n\nCargando archivo: denue_inegi_17_.csv\n"
       },
       {
        "metadata": {
         "tags": []
        },
        "output_type": "stream",
        "stream": "stdout",
        "text": "  Columnas:  ['id', 'nom_estab', 'raz_social', 'codigo_act', 'nombre_act', 'per_ocu', 'tipo_vial', 'nom_vial', 'tipo_v_e_1', 'nom_v_e_1', 'tipo_v_e_2', 'nom_v_e_2', 'tipo_v_e_3', 'nom_v_e_3', 'numero_ext', 'letra_ext', 'edificio', 'edificio_e', 'numero_int', 'letra_int', 'tipo_asent', 'nomb_asent', 'tipoCenCom', 'nom_CenCom', 'num_local', 'cod_postal', 'cve_ent', 'entidad', 'cve_mun', 'municipio', 'cve_loc', 'localidad', 'ageb', 'manzana', 'telefono', 'correoelec', 'www', 'tipoUniEco', 'latitud', 'longitud', 'fecha_alta', 'Prueba', 'Ruta_Origen']\nEste archivo no contiene la(s) columna(s):  []\nEste archivo contiene ademas la(s) columna(s):  []\n  Primera Fila:  ['7888941', 'ACUACULTORA ESPECIALIZADA INTERNACIONAL', 'ACUACULTORA ESPECIALIZADA INTERNACIONAL SPR DE RI', '112512', 'Piscicultura y otra acuicultura, excepto camaronicultura', '6 a 10 personas', 'CALLE', 'América Central', 'CALLE', 'Ninguno', 'CALLE', 'Ajamatla', 'CALLE', 'Ninguno', '254.0', '', '', '', '0.0', '', 'PUEBLO', 'PUEBLO ATLACHOLOAYA', '', '', '', '62790.0', '17', 'MORELOS', '28', 'Xochitepec', '3', 'Atlacholoaya', '0473', '33', '7771281062', 'OSKARRABAGO@HOTMAIL.COM', '', 'Fijo', '18.74898087', '-99.22352925', '2019-11', '1', 'denue_inegi_17_.csv']\n"
       },
       {
        "metadata": {
         "tags": []
        },
        "output_type": "stream",
        "stream": "stdout",
        "text": "  Total de filas: 111893\n  Total de columnas: 43\n\n\nCargando archivo: denue_inegi_21_.csv\n"
       },
       {
        "metadata": {
         "tags": []
        },
        "output_type": "stream",
        "stream": "stdout",
        "text": "  Columnas:  ['id', 'nom_estab', 'raz_social', 'codigo_act', 'nombre_act', 'per_ocu', 'tipo_vial', 'nom_vial', 'tipo_v_e_1', 'nom_v_e_1', 'tipo_v_e_2', 'nom_v_e_2', 'tipo_v_e_3', 'nom_v_e_3', 'numero_ext', 'letra_ext', 'edificio', 'edificio_e', 'numero_int', 'letra_int', 'tipo_asent', 'nomb_asent', 'tipoCenCom', 'nom_CenCom', 'num_local', 'cod_postal', 'cve_ent', 'entidad', 'cve_mun', 'municipio', 'cve_loc', 'localidad', 'ageb', 'manzana', 'telefono', 'correoelec', 'www', 'tipoUniEco', 'latitud', 'longitud', 'fecha_alta', 'Prueba', 'Ruta_Origen']\nEste archivo no contiene la(s) columna(s):  []\nEste archivo contiene ademas la(s) columna(s):  []\n  Primera Fila:  ['8149429', ' CRIA DE PECES EN ESTANQUE SIN NOMBRE', '', '112512', 'Piscicultura y otra acuicultura, excepto camaronicultura', '0 a 5 personas', 'CALLE', 'SANTA ROSA', 'CALLE', 'NINGUNO', 'CALLE', 'C. San Jose', 'CALLE', 'NINGUNO', '0.0', 'SN', '', '', '0.0', '', 'COLONIA', 'SANTA ROSA', '', '', '', '73505.0', '21', 'PUEBLA', '158', 'Tenampulco', '7', 'El Chacal', '0012', '16', '', '', '', 'Fijo', '20.22534191', '-97.45496906', '2019-11', '1', 'denue_inegi_21_.csv']\n"
       },
       {
        "metadata": {
         "tags": []
        },
        "output_type": "stream",
        "stream": "stdout",
        "text": "  Total de filas: 344539\n  Total de columnas: 43\n\n\n  Se ha creado el archivo compendio_total.txt exitosamente!\n"
       }
      ]
     }
    },
    "0ca8a05e0d264c91984a8927d9d1c7ab": {
     "model_module": "@jupyter-widgets/controls",
     "model_name": "DescriptionStyleModel",
     "state": {
      "_model_module": "@jupyter-widgets/controls",
      "_model_module_version": "1.5.0",
      "_model_name": "DescriptionStyleModel",
      "_view_count": null,
      "_view_module": "@jupyter-widgets/base",
      "_view_module_version": "1.2.0",
      "_view_name": "StyleView",
      "description_width": ""
     }
    },
    "1371c97f0b5747eb8a89e995d0c5d4da": {
     "model_module": "@jupyter-widgets/base",
     "model_name": "LayoutModel",
     "state": {
      "_model_module": "@jupyter-widgets/base",
      "_model_module_version": "1.2.0",
      "_model_name": "LayoutModel",
      "_view_count": null,
      "_view_module": "@jupyter-widgets/base",
      "_view_module_version": "1.2.0",
      "_view_name": "LayoutView",
      "align_content": null,
      "align_items": null,
      "align_self": null,
      "border": null,
      "bottom": null,
      "display": null,
      "flex": null,
      "flex_flow": null,
      "grid_area": null,
      "grid_auto_columns": null,
      "grid_auto_flow": null,
      "grid_auto_rows": null,
      "grid_column": null,
      "grid_gap": null,
      "grid_row": null,
      "grid_template_areas": null,
      "grid_template_columns": null,
      "grid_template_rows": null,
      "height": null,
      "justify_content": null,
      "justify_items": null,
      "left": null,
      "margin": null,
      "max_height": null,
      "max_width": null,
      "min_height": null,
      "min_width": null,
      "object_fit": null,
      "object_position": null,
      "order": null,
      "overflow": null,
      "overflow_x": null,
      "overflow_y": null,
      "padding": null,
      "right": null,
      "top": null,
      "visibility": null,
      "width": null
     }
    },
    "13c16bd52f4c4bb28108360cae53cbab": {
     "model_module": "@jupyter-widgets/base",
     "model_name": "LayoutModel",
     "state": {
      "_model_module": "@jupyter-widgets/base",
      "_model_module_version": "1.2.0",
      "_model_name": "LayoutModel",
      "_view_count": null,
      "_view_module": "@jupyter-widgets/base",
      "_view_module_version": "1.2.0",
      "_view_name": "LayoutView",
      "align_content": null,
      "align_items": null,
      "align_self": null,
      "border": null,
      "bottom": null,
      "display": null,
      "flex": null,
      "flex_flow": null,
      "grid_area": null,
      "grid_auto_columns": null,
      "grid_auto_flow": null,
      "grid_auto_rows": null,
      "grid_column": null,
      "grid_gap": null,
      "grid_row": null,
      "grid_template_areas": null,
      "grid_template_columns": null,
      "grid_template_rows": null,
      "height": null,
      "justify_content": null,
      "justify_items": null,
      "left": null,
      "margin": null,
      "max_height": null,
      "max_width": null,
      "min_height": null,
      "min_width": null,
      "object_fit": null,
      "object_position": null,
      "order": null,
      "overflow": null,
      "overflow_x": null,
      "overflow_y": null,
      "padding": null,
      "right": null,
      "top": null,
      "visibility": null,
      "width": null
     }
    },
    "20edf344e04c466690de49fc8b0be719": {
     "model_module": "@jupyter-widgets/controls",
     "model_name": "ButtonStyleModel",
     "state": {
      "_model_module": "@jupyter-widgets/controls",
      "_model_module_version": "1.5.0",
      "_model_name": "ButtonStyleModel",
      "_view_count": null,
      "_view_module": "@jupyter-widgets/base",
      "_view_module_version": "1.2.0",
      "_view_name": "StyleView",
      "button_color": null,
      "font_weight": ""
     }
    },
    "6ee9ae8b2f4b4c4f9b7a1a6d55b3c1f8": {
     "model_module": "@jupyter-widgets/base",
     "model_name": "LayoutModel",
     "state": {
      "_model_module": "@jupyter-widgets/base",
      "_model_module_version": "1.2.0",
      "_model_name": "LayoutModel",
      "_view_count": null,
      "_view_module": "@jupyter-widgets/base",
      "_view_module_version": "1.2.0",
      "_view_name": "LayoutView",
      "align_content": null,
      "align_items": null,
      "align_self": null,
      "border": null,
      "bottom": null,
      "display": null,
      "flex": null,
      "flex_flow": null,
      "grid_area": null,
      "grid_auto_columns": null,
      "grid_auto_flow": null,
      "grid_auto_rows": null,
      "grid_column": null,
      "grid_gap": null,
      "grid_row": null,
      "grid_template_areas": null,
      "grid_template_columns": null,
      "grid_template_rows": null,
      "height": null,
      "justify_content": null,
      "justify_items": null,
      "left": null,
      "margin": null,
      "max_height": null,
      "max_width": null,
      "min_height": null,
      "min_width": null,
      "object_fit": null,
      "object_position": null,
      "order": null,
      "overflow": null,
      "overflow_x": null,
      "overflow_y": null,
      "padding": null,
      "right": null,
      "top": null,
      "visibility": null,
      "width": null
     }
    },
    "92f2e55544eb4bb4946ac0bae2e8425f": {
     "model_module": "@jupyter-widgets/controls",
     "model_name": "ButtonModel",
     "state": {
      "_dom_classes": [],
      "_model_module": "@jupyter-widgets/controls",
      "_model_module_version": "1.5.0",
      "_model_name": "ButtonModel",
      "_view_count": null,
      "_view_module": "@jupyter-widgets/controls",
      "_view_module_version": "1.5.0",
      "_view_name": "ButtonView",
      "button_style": "",
      "description": "Run Interact",
      "disabled": false,
      "icon": "",
      "layout": "IPY_MODEL_6ee9ae8b2f4b4c4f9b7a1a6d55b3c1f8",
      "style": "IPY_MODEL_20edf344e04c466690de49fc8b0be719",
      "tooltip": ""
     }
    },
    "94bfe2855bd049969094a32c2232b4b9": {
     "model_module": "@jupyter-widgets/controls",
     "model_name": "VBoxModel",
     "state": {
      "_dom_classes": [
       "widget-interact"
      ],
      "_model_module": "@jupyter-widgets/controls",
      "_model_module_version": "1.5.0",
      "_model_name": "VBoxModel",
      "_view_count": null,
      "_view_module": "@jupyter-widgets/controls",
      "_view_module_version": "1.5.0",
      "_view_name": "VBoxView",
      "box_style": "",
      "children": [
       "IPY_MODEL_e02e5b4a17354ba181b320caae7d36a3",
       "IPY_MODEL_9ffade0e6c7944b5b039a640be1b54e2",
       "IPY_MODEL_92f2e55544eb4bb4946ac0bae2e8425f",
       "IPY_MODEL_0b296f2926b34b79bb64b722467b6776"
      ],
      "layout": "IPY_MODEL_e4492525cbce4cafb5c6748b49fe335d"
     }
    },
    "9ffade0e6c7944b5b039a640be1b54e2": {
     "model_module": "@jupyter-widgets/controls",
     "model_name": "TextModel",
     "state": {
      "_dom_classes": [],
      "_model_module": "@jupyter-widgets/controls",
      "_model_module_version": "1.5.0",
      "_model_name": "TextModel",
      "_view_count": null,
      "_view_module": "@jupyter-widgets/controls",
      "_view_module_version": "1.5.0",
      "_view_name": "TextView",
      "continuous_update": true,
      "description": "dir_out",
      "description_tooltip": null,
      "disabled": false,
      "layout": "IPY_MODEL_13c16bd52f4c4bb28108360cae53cbab",
      "placeholder": "​",
      "style": "IPY_MODEL_0ca8a05e0d264c91984a8927d9d1c7ab",
      "value": "/content/drive/MyDrive/Colab Notebooks/Examen/"
     }
    },
    "e02e5b4a17354ba181b320caae7d36a3": {
     "model_module": "@jupyter-widgets/controls",
     "model_name": "TextModel",
     "state": {
      "_dom_classes": [],
      "_model_module": "@jupyter-widgets/controls",
      "_model_module_version": "1.5.0",
      "_model_name": "TextModel",
      "_view_count": null,
      "_view_module": "@jupyter-widgets/controls",
      "_view_module_version": "1.5.0",
      "_view_name": "TextView",
      "continuous_update": true,
      "description": "dir_int",
      "description_tooltip": null,
      "disabled": false,
      "layout": "IPY_MODEL_e2aa96b9cd094bdaaafe2e46bf8ee490",
      "placeholder": "​",
      "style": "IPY_MODEL_f3b0127624fe4cd0884f4c2c2bf3e13e",
      "value": "/content/drive/MyDrive/Colab Notebooks/Examen/"
     }
    },
    "e2aa96b9cd094bdaaafe2e46bf8ee490": {
     "model_module": "@jupyter-widgets/base",
     "model_name": "LayoutModel",
     "state": {
      "_model_module": "@jupyter-widgets/base",
      "_model_module_version": "1.2.0",
      "_model_name": "LayoutModel",
      "_view_count": null,
      "_view_module": "@jupyter-widgets/base",
      "_view_module_version": "1.2.0",
      "_view_name": "LayoutView",
      "align_content": null,
      "align_items": null,
      "align_self": null,
      "border": null,
      "bottom": null,
      "display": null,
      "flex": null,
      "flex_flow": null,
      "grid_area": null,
      "grid_auto_columns": null,
      "grid_auto_flow": null,
      "grid_auto_rows": null,
      "grid_column": null,
      "grid_gap": null,
      "grid_row": null,
      "grid_template_areas": null,
      "grid_template_columns": null,
      "grid_template_rows": null,
      "height": null,
      "justify_content": null,
      "justify_items": null,
      "left": null,
      "margin": null,
      "max_height": null,
      "max_width": null,
      "min_height": null,
      "min_width": null,
      "object_fit": null,
      "object_position": null,
      "order": null,
      "overflow": null,
      "overflow_x": null,
      "overflow_y": null,
      "padding": null,
      "right": null,
      "top": null,
      "visibility": null,
      "width": null
     }
    },
    "e4492525cbce4cafb5c6748b49fe335d": {
     "model_module": "@jupyter-widgets/base",
     "model_name": "LayoutModel",
     "state": {
      "_model_module": "@jupyter-widgets/base",
      "_model_module_version": "1.2.0",
      "_model_name": "LayoutModel",
      "_view_count": null,
      "_view_module": "@jupyter-widgets/base",
      "_view_module_version": "1.2.0",
      "_view_name": "LayoutView",
      "align_content": null,
      "align_items": null,
      "align_self": null,
      "border": null,
      "bottom": null,
      "display": null,
      "flex": null,
      "flex_flow": null,
      "grid_area": null,
      "grid_auto_columns": null,
      "grid_auto_flow": null,
      "grid_auto_rows": null,
      "grid_column": null,
      "grid_gap": null,
      "grid_row": null,
      "grid_template_areas": null,
      "grid_template_columns": null,
      "grid_template_rows": null,
      "height": null,
      "justify_content": null,
      "justify_items": null,
      "left": null,
      "margin": null,
      "max_height": null,
      "max_width": null,
      "min_height": null,
      "min_width": null,
      "object_fit": null,
      "object_position": null,
      "order": null,
      "overflow": null,
      "overflow_x": null,
      "overflow_y": null,
      "padding": null,
      "right": null,
      "top": null,
      "visibility": null,
      "width": null
     }
    },
    "f3b0127624fe4cd0884f4c2c2bf3e13e": {
     "model_module": "@jupyter-widgets/controls",
     "model_name": "DescriptionStyleModel",
     "state": {
      "_model_module": "@jupyter-widgets/controls",
      "_model_module_version": "1.5.0",
      "_model_name": "DescriptionStyleModel",
      "_view_count": null,
      "_view_module": "@jupyter-widgets/base",
      "_view_module_version": "1.2.0",
      "_view_name": "StyleView",
      "description_width": ""
     }
    }
   }
  }
 },
 "nbformat": 4,
 "nbformat_minor": 1
}
