{
  "nbformat": 4,
  "nbformat_minor": 0,
  "metadata": {
    "colab": {
      "name": "forest_fires.ipynb",
      "provenance": [],
      "collapsed_sections": [],
      "toc_visible": true
    },
    "kernelspec": {
      "display_name": "Python 3",
      "language": "python",
      "name": "python3"
    }
  },
  "cells": [
    {
      "cell_type": "code",
      "metadata": {
        "id": "L_8_O7HThigC"
      },
      "source": [
        "import numpy as np\n",
        "import pandas as pd\n",
        "import matplotlib.pyplot as plt\n",
        "import seaborn as sns\n",
        "from sklearn.linear_model import LogisticRegression, LinearRegression\n",
        "from sklearn.metrics import roc_curve, confusion_matrix, roc_auc_score, mean_absolute_error, mean_squared_error, classification_report\n",
        "from sklearn.model_selection import KFold\n",
        "from sklearn.preprocessing import StandardScaler"
      ],
      "execution_count": 8,
      "outputs": []
    },
    {
      "cell_type": "markdown",
      "metadata": {
        "id": "CckzytfFh-WU"
      },
      "source": [
        "# Incendios Forestales\n",
        "\n",
        "El objetivo es crear 2 nuevas variables:\n",
        "\n",
        "* Hay o no incendio (si area > 0, hay incendio, eoc no)\n",
        "\n",
        "* Magnitud del Incenido (usar el área en escala logarítmica si área > 0).\n",
        "\n",
        "Se deben proponer 2 modelos, uno de clasificación y uno de regresión.\n",
        "Al final habrá que comparar el modelo contra los datos reales para ver el poder predictivo.\n",
        "No importa que se tenga el mejor modelo, lo que importa es entender que se está haciendo,\n",
        "entender los pasos que se están siguiendo, asi como saber que modelos se conocen para dichos procesos.\n",
        "\n",
        "Entragables: \n",
        "Explicar la metodologia que se uso para cada modelo\n",
        "\n",
        "Requerimientos mínimos:  \n",
        "Apoyo gráfico\n",
        "una medida de desempeño, \n",
        "explicar por que se uso dicho modelo."
      ]
    },
    {
      "cell_type": "code",
      "metadata": {
        "colab": {
          "base_uri": "https://localhost:8080/",
          "height": 141
        },
        "id": "W_VD8PdRiTq4",
        "outputId": "7c5861b9-a84f-4462-8a70-a6d17da30906"
      },
      "source": [
        "url = 'https://raw.githubusercontent.com/AngelGuadarrama/Forest-Fires/main/forestfires.csv'\n",
        "data = pd.read_csv(url)\n",
        "data.head(3)"
      ],
      "execution_count": null,
      "outputs": [
        {
          "output_type": "execute_result",
          "data": {
            "text/html": [
              "<div>\n",
              "<style scoped>\n",
              "    .dataframe tbody tr th:only-of-type {\n",
              "        vertical-align: middle;\n",
              "    }\n",
              "\n",
              "    .dataframe tbody tr th {\n",
              "        vertical-align: top;\n",
              "    }\n",
              "\n",
              "    .dataframe thead th {\n",
              "        text-align: right;\n",
              "    }\n",
              "</style>\n",
              "<table border=\"1\" class=\"dataframe\">\n",
              "  <thead>\n",
              "    <tr style=\"text-align: right;\">\n",
              "      <th></th>\n",
              "      <th>X</th>\n",
              "      <th>Y</th>\n",
              "      <th>month</th>\n",
              "      <th>day</th>\n",
              "      <th>FFMC</th>\n",
              "      <th>DMC</th>\n",
              "      <th>DC</th>\n",
              "      <th>ISI</th>\n",
              "      <th>temp</th>\n",
              "      <th>RH</th>\n",
              "      <th>wind</th>\n",
              "      <th>rain</th>\n",
              "      <th>area</th>\n",
              "    </tr>\n",
              "  </thead>\n",
              "  <tbody>\n",
              "    <tr>\n",
              "      <th>0</th>\n",
              "      <td>7</td>\n",
              "      <td>5</td>\n",
              "      <td>mar</td>\n",
              "      <td>fri</td>\n",
              "      <td>86.20</td>\n",
              "      <td>26.20</td>\n",
              "      <td>94.30</td>\n",
              "      <td>5.10</td>\n",
              "      <td>8.20</td>\n",
              "      <td>51</td>\n",
              "      <td>6.70</td>\n",
              "      <td>0.00</td>\n",
              "      <td>0.00</td>\n",
              "    </tr>\n",
              "    <tr>\n",
              "      <th>1</th>\n",
              "      <td>7</td>\n",
              "      <td>4</td>\n",
              "      <td>oct</td>\n",
              "      <td>tue</td>\n",
              "      <td>90.60</td>\n",
              "      <td>35.40</td>\n",
              "      <td>669.10</td>\n",
              "      <td>6.70</td>\n",
              "      <td>18.00</td>\n",
              "      <td>33</td>\n",
              "      <td>0.90</td>\n",
              "      <td>0.00</td>\n",
              "      <td>0.00</td>\n",
              "    </tr>\n",
              "    <tr>\n",
              "      <th>2</th>\n",
              "      <td>7</td>\n",
              "      <td>4</td>\n",
              "      <td>oct</td>\n",
              "      <td>sat</td>\n",
              "      <td>90.60</td>\n",
              "      <td>43.70</td>\n",
              "      <td>686.90</td>\n",
              "      <td>6.70</td>\n",
              "      <td>14.60</td>\n",
              "      <td>33</td>\n",
              "      <td>1.30</td>\n",
              "      <td>0.00</td>\n",
              "      <td>0.00</td>\n",
              "    </tr>\n",
              "  </tbody>\n",
              "</table>\n",
              "</div>"
            ],
            "text/plain": [
              "   X  Y month  day  FFMC   DMC     DC  ISI  temp  RH  wind  rain  area\n",
              "0  7  5   mar  fri 86.20 26.20  94.30 5.10  8.20  51  6.70  0.00  0.00\n",
              "1  7  4   oct  tue 90.60 35.40 669.10 6.70 18.00  33  0.90  0.00  0.00\n",
              "2  7  4   oct  sat 90.60 43.70 686.90 6.70 14.60  33  1.30  0.00  0.00"
            ]
          },
          "metadata": {
            "tags": []
          },
          "execution_count": 2
        }
      ]
    },
    {
      "cell_type": "code",
      "metadata": {
        "colab": {
          "base_uri": "https://localhost:8080/"
        },
        "id": "UD8ub6xwCy6y",
        "outputId": "7d32d62f-2bf1-40e1-b59b-a9b4de4f1167"
      },
      "source": [
        "data.info()"
      ],
      "execution_count": null,
      "outputs": [
        {
          "output_type": "stream",
          "text": [
            "<class 'pandas.core.frame.DataFrame'>\n",
            "RangeIndex: 517 entries, 0 to 516\n",
            "Data columns (total 13 columns):\n",
            "X        517 non-null int64\n",
            "Y        517 non-null int64\n",
            "month    517 non-null object\n",
            "day      517 non-null object\n",
            "FFMC     517 non-null float64\n",
            "DMC      517 non-null float64\n",
            "DC       517 non-null float64\n",
            "ISI      517 non-null float64\n",
            "temp     517 non-null float64\n",
            "RH       517 non-null int64\n",
            "wind     517 non-null float64\n",
            "rain     517 non-null float64\n",
            "area     517 non-null float64\n",
            "dtypes: float64(8), int64(3), object(2)\n",
            "memory usage: 52.6+ KB\n"
          ],
          "name": "stdout"
        }
      ]
    },
    {
      "cell_type": "code",
      "metadata": {
        "id": "RqyGwMM_G_wc"
      },
      "source": [
        "#Creamos nuestras nuevas columnas\n",
        "data['incendio']=[value > 0 for value in data.area] \n",
        "data['magnitud']=np.log(data[data.area> 0]['area'])\n",
        "data.fillna({'magnitud': 0}, inplace=True)"
      ],
      "execution_count": null,
      "outputs": []
    },
    {
      "cell_type": "markdown",
      "metadata": {
        "id": "9zlfq_H_KaxC"
      },
      "source": [
        "Variables Numericas"
      ]
    },
    {
      "cell_type": "code",
      "metadata": {
        "colab": {
          "base_uri": "https://localhost:8080/",
          "height": 294
        },
        "id": "MTP-rGmJFxAg",
        "outputId": "d7eaf26f-91e3-4b01-fa48-0d47c48db09d"
      },
      "source": [
        "data[['X', 'Y', 'FFMC', 'DMC', 'DC', 'ISI', 'temp', 'RH',\n",
        "       'wind', 'rain']].describe()"
      ],
      "execution_count": null,
      "outputs": [
        {
          "output_type": "execute_result",
          "data": {
            "text/html": [
              "<div>\n",
              "<style scoped>\n",
              "    .dataframe tbody tr th:only-of-type {\n",
              "        vertical-align: middle;\n",
              "    }\n",
              "\n",
              "    .dataframe tbody tr th {\n",
              "        vertical-align: top;\n",
              "    }\n",
              "\n",
              "    .dataframe thead th {\n",
              "        text-align: right;\n",
              "    }\n",
              "</style>\n",
              "<table border=\"1\" class=\"dataframe\">\n",
              "  <thead>\n",
              "    <tr style=\"text-align: right;\">\n",
              "      <th></th>\n",
              "      <th>X</th>\n",
              "      <th>Y</th>\n",
              "      <th>FFMC</th>\n",
              "      <th>DMC</th>\n",
              "      <th>DC</th>\n",
              "      <th>ISI</th>\n",
              "      <th>temp</th>\n",
              "      <th>RH</th>\n",
              "      <th>wind</th>\n",
              "      <th>rain</th>\n",
              "    </tr>\n",
              "  </thead>\n",
              "  <tbody>\n",
              "    <tr>\n",
              "      <th>count</th>\n",
              "      <td>517.00</td>\n",
              "      <td>517.00</td>\n",
              "      <td>517.00</td>\n",
              "      <td>517.00</td>\n",
              "      <td>517.00</td>\n",
              "      <td>517.00</td>\n",
              "      <td>517.00</td>\n",
              "      <td>517.00</td>\n",
              "      <td>517.00</td>\n",
              "      <td>517.00</td>\n",
              "    </tr>\n",
              "    <tr>\n",
              "      <th>mean</th>\n",
              "      <td>4.67</td>\n",
              "      <td>4.30</td>\n",
              "      <td>90.64</td>\n",
              "      <td>110.87</td>\n",
              "      <td>547.94</td>\n",
              "      <td>9.02</td>\n",
              "      <td>18.89</td>\n",
              "      <td>44.29</td>\n",
              "      <td>4.02</td>\n",
              "      <td>0.02</td>\n",
              "    </tr>\n",
              "    <tr>\n",
              "      <th>std</th>\n",
              "      <td>2.31</td>\n",
              "      <td>1.23</td>\n",
              "      <td>5.52</td>\n",
              "      <td>64.05</td>\n",
              "      <td>248.07</td>\n",
              "      <td>4.56</td>\n",
              "      <td>5.81</td>\n",
              "      <td>16.32</td>\n",
              "      <td>1.79</td>\n",
              "      <td>0.30</td>\n",
              "    </tr>\n",
              "    <tr>\n",
              "      <th>min</th>\n",
              "      <td>1.00</td>\n",
              "      <td>2.00</td>\n",
              "      <td>18.70</td>\n",
              "      <td>1.10</td>\n",
              "      <td>7.90</td>\n",
              "      <td>0.00</td>\n",
              "      <td>2.20</td>\n",
              "      <td>15.00</td>\n",
              "      <td>0.40</td>\n",
              "      <td>0.00</td>\n",
              "    </tr>\n",
              "    <tr>\n",
              "      <th>25%</th>\n",
              "      <td>3.00</td>\n",
              "      <td>4.00</td>\n",
              "      <td>90.20</td>\n",
              "      <td>68.60</td>\n",
              "      <td>437.70</td>\n",
              "      <td>6.50</td>\n",
              "      <td>15.50</td>\n",
              "      <td>33.00</td>\n",
              "      <td>2.70</td>\n",
              "      <td>0.00</td>\n",
              "    </tr>\n",
              "    <tr>\n",
              "      <th>50%</th>\n",
              "      <td>4.00</td>\n",
              "      <td>4.00</td>\n",
              "      <td>91.60</td>\n",
              "      <td>108.30</td>\n",
              "      <td>664.20</td>\n",
              "      <td>8.40</td>\n",
              "      <td>19.30</td>\n",
              "      <td>42.00</td>\n",
              "      <td>4.00</td>\n",
              "      <td>0.00</td>\n",
              "    </tr>\n",
              "    <tr>\n",
              "      <th>75%</th>\n",
              "      <td>7.00</td>\n",
              "      <td>5.00</td>\n",
              "      <td>92.90</td>\n",
              "      <td>142.40</td>\n",
              "      <td>713.90</td>\n",
              "      <td>10.80</td>\n",
              "      <td>22.80</td>\n",
              "      <td>53.00</td>\n",
              "      <td>4.90</td>\n",
              "      <td>0.00</td>\n",
              "    </tr>\n",
              "    <tr>\n",
              "      <th>max</th>\n",
              "      <td>9.00</td>\n",
              "      <td>9.00</td>\n",
              "      <td>96.20</td>\n",
              "      <td>291.30</td>\n",
              "      <td>860.60</td>\n",
              "      <td>56.10</td>\n",
              "      <td>33.30</td>\n",
              "      <td>100.00</td>\n",
              "      <td>9.40</td>\n",
              "      <td>6.40</td>\n",
              "    </tr>\n",
              "  </tbody>\n",
              "</table>\n",
              "</div>"
            ],
            "text/plain": [
              "           X      Y   FFMC    DMC     DC    ISI   temp     RH   wind   rain\n",
              "count 517.00 517.00 517.00 517.00 517.00 517.00 517.00 517.00 517.00 517.00\n",
              "mean    4.67   4.30  90.64 110.87 547.94   9.02  18.89  44.29   4.02   0.02\n",
              "std     2.31   1.23   5.52  64.05 248.07   4.56   5.81  16.32   1.79   0.30\n",
              "min     1.00   2.00  18.70   1.10   7.90   0.00   2.20  15.00   0.40   0.00\n",
              "25%     3.00   4.00  90.20  68.60 437.70   6.50  15.50  33.00   2.70   0.00\n",
              "50%     4.00   4.00  91.60 108.30 664.20   8.40  19.30  42.00   4.00   0.00\n",
              "75%     7.00   5.00  92.90 142.40 713.90  10.80  22.80  53.00   4.90   0.00\n",
              "max     9.00   9.00  96.20 291.30 860.60  56.10  33.30 100.00   9.40   6.40"
            ]
          },
          "metadata": {
            "tags": []
          },
          "execution_count": 4
        }
      ]
    },
    {
      "cell_type": "code",
      "metadata": {
        "colab": {
          "base_uri": "https://localhost:8080/",
          "height": 280
        },
        "id": "OIdiwIuSIlt8",
        "outputId": "8d50a9b1-756d-4c0a-adb2-02879d56101c"
      },
      "source": [
        "sns.set_style(\"darkgrid\")\n",
        "sns.set_context(\"paper\")\n",
        "sns.set_palette(\"bright\")\n",
        "\n",
        "data[['X', 'Y', 'FFMC', 'DMC', 'DC', 'ISI', 'temp', 'RH',\n",
        "       'wind', 'rain']].boxplot()\n",
        "plt.xlabel('variables')\n",
        "plt.ylabel('unidades')\n",
        "plt.show()       "
      ],
      "execution_count": null,
      "outputs": [
        {
          "output_type": "display_data",
          "data": {
            "image/png": "[encoded data removed]",
            "text/plain": [
              "<Figure size 432x288 with 1 Axes>"
            ]
          },
          "metadata": {
            "tags": []
          }
        }
      ]
    },
    {
      "cell_type": "code",
      "metadata": {
        "id": "4mNdREeZKTLp"
      },
      "source": [
        "data['DC_log']=np.log(data.DC) #Esta columna tiene una varianza muy alta\n",
        "data.drop(['DC'], inplace=True, axis=1)"
      ],
      "execution_count": null,
      "outputs": []
    },
    {
      "cell_type": "code",
      "metadata": {
        "colab": {
          "base_uri": "https://localhost:8080/",
          "height": 313
        },
        "id": "NBtN2sAUvETY",
        "outputId": "670691c7-1385-4812-a81d-433ea608f67a"
      },
      "source": [
        "#Quitaremos RH ya que tiene correlacion con la temperatura\n",
        "sns.heatmap(data.corr(), square= True, cmap='RdYlGn') \n",
        "plt.title(\"Matriz de correlaciones\")\n",
        "plt.show\n",
        "\n",
        "data.drop(['RH'], inplace=True, axis=1)"
      ],
      "execution_count": null,
      "outputs": [
        {
          "output_type": "display_data",
          "data": {
            "image/png": "[encoded data removed]",
            "text/plain": [
              "<Figure size 432x288 with 2 Axes>"
            ]
          },
          "metadata": {
            "tags": []
          }
        }
      ]
    },
    {
      "cell_type": "code",
      "metadata": {
        "id": "69nyUvLl9Mw9",
        "outputId": "23ee6d6b-5314-4f20-f597-15057ee9e4c1"
      },
      "source": [
        "data.columns"
      ],
      "execution_count": null,
      "outputs": [
        {
          "output_type": "execute_result",
          "data": {
            "text/plain": [
              "Index(['X', 'Y', 'month', 'day', 'FFMC', 'DMC', 'DC', 'ISI', 'temp', 'wind',\n",
              "       'rain', 'area', 'incendio', 'magnitud'],\n",
              "      dtype='object')"
            ]
          },
          "metadata": {
            "tags": []
          },
          "execution_count": 44
        }
      ]
    },
    {
      "cell_type": "markdown",
      "metadata": {
        "id": "5lIE0uUSKVuT"
      },
      "source": [
        "Variables categoricas: aplicaremos dummys en el caso de regresión y target mean en el caso de clasificación.\n"
      ]
    },
    {
      "cell_type": "code",
      "metadata": {
        "colab": {
          "base_uri": "https://localhost:8080/",
          "height": 398
        },
        "id": "CyYu5vlW9MxB",
        "outputId": "5e379ee3-b123-4825-a254-b995ebfaaa6d"
      },
      "source": [
        "sns.set_style(\"darkgrid\")\n",
        "sns.set_context(\"paper\")\n",
        "sns.set_palette(\"deep\")\n",
        "\n",
        "order=[\"jan\",\"feb\",\"mar\",\"apr\",\"may\",\"jun\", \"jul\",\"aug\",\"sep\",\"oct\",\"nov\",\"dec\"]\n",
        "sns.catplot(data=data, kind=\"count\", x=\"month\", order=order, hue=\"incendio\")\n",
        "plt.title('Registros por Mes')\n",
        "plt.show()"
      ],
      "execution_count": null,
      "outputs": [
        {
          "output_type": "display_data",
          "data": {
            "image/png": "[encoded data removed]",
            "text/plain": [
              "<Figure size 413.805x360 with 1 Axes>"
            ]
          },
          "metadata": {
            "tags": []
          }
        }
      ]
    },
    {
      "cell_type": "code",
      "metadata": {
        "colab": {
          "base_uri": "https://localhost:8080/",
          "height": 398
        },
        "id": "wU0in1ha9MxC",
        "outputId": "295c2ae9-9162-480c-8525-715a1292c68e"
      },
      "source": [
        "sns.set_style(\"darkgrid\")\n",
        "sns.set_context(\"paper\")\n",
        "sns.set_palette(\"deep\")\n",
        "\n",
        "order=[\"mon\",\"tue\",\"wed\",\"thu\",\"fri\",\"sat\",\"sun\"]\n",
        "sns.catplot(data=data, kind=\"count\", x=\"day\", order=order, hue=\"incendio\")\n",
        "plt.title('Registros por Día')\n",
        "plt.show()"
      ],
      "execution_count": null,
      "outputs": [
        {
          "output_type": "display_data",
          "data": {
            "image/png": "[encoded data removed]",
            "text/plain": [
              "<Figure size 413.805x360 with 1 Axes>"
            ]
          },
          "metadata": {
            "tags": []
          }
        }
      ]
    },
    {
      "cell_type": "code",
      "metadata": {
        "id": "js4EZ3V4Czg2"
      },
      "source": [
        "data['day'].replace({'mon':'0','tue':'0','wed':'0','thu':'0','fri':'1','sat':'1','sun':'1'}, inplace=True)\n",
        "data.day=data[['day']].apply(lambda x: x.astype('float64'), axis=0)"
      ],
      "execution_count": null,
      "outputs": []
    },
    {
      "cell_type": "code",
      "metadata": {
        "colab": {
          "base_uri": "https://localhost:8080/",
          "height": 202
        },
        "id": "VsPTmi_-DyTS",
        "outputId": "e4901939-1d42-4b16-a003-3de1e7d7761b"
      },
      "source": [
        "data.head()"
      ],
      "execution_count": null,
      "outputs": [
        {
          "output_type": "execute_result",
          "data": {
            "text/html": [
              "<div>\n",
              "<style scoped>\n",
              "    .dataframe tbody tr th:only-of-type {\n",
              "        vertical-align: middle;\n",
              "    }\n",
              "\n",
              "    .dataframe tbody tr th {\n",
              "        vertical-align: top;\n",
              "    }\n",
              "\n",
              "    .dataframe thead th {\n",
              "        text-align: right;\n",
              "    }\n",
              "</style>\n",
              "<table border=\"1\" class=\"dataframe\">\n",
              "  <thead>\n",
              "    <tr style=\"text-align: right;\">\n",
              "      <th></th>\n",
              "      <th>X</th>\n",
              "      <th>Y</th>\n",
              "      <th>month</th>\n",
              "      <th>day</th>\n",
              "      <th>FFMC</th>\n",
              "      <th>DMC</th>\n",
              "      <th>ISI</th>\n",
              "      <th>temp</th>\n",
              "      <th>wind</th>\n",
              "      <th>rain</th>\n",
              "      <th>area</th>\n",
              "      <th>incendio</th>\n",
              "      <th>magnitud</th>\n",
              "      <th>DC_log</th>\n",
              "    </tr>\n",
              "  </thead>\n",
              "  <tbody>\n",
              "    <tr>\n",
              "      <th>0</th>\n",
              "      <td>7</td>\n",
              "      <td>5</td>\n",
              "      <td>mar</td>\n",
              "      <td>1.00</td>\n",
              "      <td>86.20</td>\n",
              "      <td>26.20</td>\n",
              "      <td>5.10</td>\n",
              "      <td>8.20</td>\n",
              "      <td>6.70</td>\n",
              "      <td>0.00</td>\n",
              "      <td>0.00</td>\n",
              "      <td>False</td>\n",
              "      <td>0.00</td>\n",
              "      <td>4.55</td>\n",
              "    </tr>\n",
              "    <tr>\n",
              "      <th>1</th>\n",
              "      <td>7</td>\n",
              "      <td>4</td>\n",
              "      <td>oct</td>\n",
              "      <td>0.00</td>\n",
              "      <td>90.60</td>\n",
              "      <td>35.40</td>\n",
              "      <td>6.70</td>\n",
              "      <td>18.00</td>\n",
              "      <td>0.90</td>\n",
              "      <td>0.00</td>\n",
              "      <td>0.00</td>\n",
              "      <td>False</td>\n",
              "      <td>0.00</td>\n",
              "      <td>6.51</td>\n",
              "    </tr>\n",
              "    <tr>\n",
              "      <th>2</th>\n",
              "      <td>7</td>\n",
              "      <td>4</td>\n",
              "      <td>oct</td>\n",
              "      <td>1.00</td>\n",
              "      <td>90.60</td>\n",
              "      <td>43.70</td>\n",
              "      <td>6.70</td>\n",
              "      <td>14.60</td>\n",
              "      <td>1.30</td>\n",
              "      <td>0.00</td>\n",
              "      <td>0.00</td>\n",
              "      <td>False</td>\n",
              "      <td>0.00</td>\n",
              "      <td>6.53</td>\n",
              "    </tr>\n",
              "    <tr>\n",
              "      <th>3</th>\n",
              "      <td>8</td>\n",
              "      <td>6</td>\n",
              "      <td>mar</td>\n",
              "      <td>1.00</td>\n",
              "      <td>91.70</td>\n",
              "      <td>33.30</td>\n",
              "      <td>9.00</td>\n",
              "      <td>8.30</td>\n",
              "      <td>4.00</td>\n",
              "      <td>0.20</td>\n",
              "      <td>0.00</td>\n",
              "      <td>False</td>\n",
              "      <td>0.00</td>\n",
              "      <td>4.35</td>\n",
              "    </tr>\n",
              "    <tr>\n",
              "      <th>4</th>\n",
              "      <td>8</td>\n",
              "      <td>6</td>\n",
              "      <td>mar</td>\n",
              "      <td>1.00</td>\n",
              "      <td>89.30</td>\n",
              "      <td>51.30</td>\n",
              "      <td>9.60</td>\n",
              "      <td>11.40</td>\n",
              "      <td>1.80</td>\n",
              "      <td>0.00</td>\n",
              "      <td>0.00</td>\n",
              "      <td>False</td>\n",
              "      <td>0.00</td>\n",
              "      <td>4.63</td>\n",
              "    </tr>\n",
              "  </tbody>\n",
              "</table>\n",
              "</div>"
            ],
            "text/plain": [
              "   X  Y month  day  FFMC   DMC  ...  wind  rain  area  incendio  magnitud  DC_log\n",
              "0  7  5   mar 1.00 86.20 26.20  ...  6.70  0.00  0.00     False      0.00    4.55\n",
              "1  7  4   oct 0.00 90.60 35.40  ...  0.90  0.00  0.00     False      0.00    6.51\n",
              "2  7  4   oct 1.00 90.60 43.70  ...  1.30  0.00  0.00     False      0.00    6.53\n",
              "3  8  6   mar 1.00 91.70 33.30  ...  4.00  0.20  0.00     False      0.00    4.35\n",
              "4  8  6   mar 1.00 89.30 51.30  ...  1.80  0.00  0.00     False      0.00    4.63\n",
              "\n",
              "[5 rows x 14 columns]"
            ]
          },
          "metadata": {
            "tags": []
          },
          "execution_count": 12
        }
      ]
    },
    {
      "cell_type": "markdown",
      "metadata": {
        "id": "YIrBW4_bQQZT"
      },
      "source": [
        "Modelo de Clasificación\n",
        "\n",
        "Se utiliza el método Target Mean para la columna Mes al tener más de 10 categoriías en esta columna. Se utiliza lazypredict para ver el el rendimientos de 30 modelos de machine learning. Las metrica que se utilizo fue AUC por su interpretabilidad conforme al azar , f1 score y la clásica matriz de confusión. "
      ]
    },
    {
      "cell_type": "code",
      "metadata": {
        "id": "mnUjEiCMVMuP"
      },
      "source": [
        "!pip install lazypredict"
      ],
      "execution_count": null,
      "outputs": []
    },
    {
      "cell_type": "code",
      "metadata": {
        "id": "fIlfoz-4VLQ0"
      },
      "source": [
        "import warnings\n",
        "warnings.filterwarnings(\"ignore\")\n",
        "from lazypredict.Supervised import LazyClassifier, LazyRegressor"
      ],
      "execution_count": null,
      "outputs": []
    },
    {
      "cell_type": "code",
      "metadata": {
        "id": "nptYTf6fMbrH"
      },
      "source": [
        "def test_mean_target_encoding(train, test, target, categorical, alpha=5):\n",
        "    # Calculate global mean on the train data\n",
        "    global_mean = train[target].mean()\n",
        "    \n",
        "    # Group by the categorical feature and calculate its properties\n",
        "    train_groups = train.groupby(categorical)\n",
        "    category_sum = train_groups[target].sum()\n",
        "    category_size = train_groups.size()\n",
        "    \n",
        "    # Calculate smoothed mean target statistics\n",
        "    train_statistics = (category_sum + global_mean * alpha) / (category_size + alpha)\n",
        "    \n",
        "    # Apply statistics to the test data and fill new categories\n",
        "    test_feature = test[categorical].map(train_statistics).fillna(global_mean)\n",
        "    return test_feature.values\n",
        "\n",
        "\n",
        "def train_mean_target_encoding(train, target, categorical, alpha=5):\n",
        "    # Create 5-fold cross-validation\n",
        "    kf = KFold(n_splits=5, random_state=2424, shuffle=True)\n",
        "    train_feature = pd.Series(index=train.index)\n",
        "    \n",
        "    # For each folds split\n",
        "    for train_index, test_index in kf.split(train):\n",
        "        cv_train, cv_test = train.iloc[train_index], train.iloc[test_index]\n",
        "      \n",
        "        # Calculate out-of-fold statistics and apply to cv_test\n",
        "        cv_test_feature = test_mean_target_encoding(cv_train, cv_test, target, categorical, alpha)\n",
        "        \n",
        "        # Save new feature for this particular fold\n",
        "        train_feature.iloc[test_index] = cv_test_feature       \n",
        "    return train_feature.values\n",
        "\n",
        "\n",
        "def mean_target_encoding(train, test, target, categorical, alpha=5):\n",
        "  \n",
        "    # Get the train feature\n",
        "    train_feature = train_mean_target_encoding(train, target, categorical, alpha)\n",
        "    # Get the test feature\n",
        "    test_feature = test_mean_target_encoding(train, test, target, categorical, alpha)\n",
        "    \n",
        "    # Return new features to add to the model\n",
        "    return train_feature, test_feature"
      ],
      "execution_count": null,
      "outputs": []
    },
    {
      "cell_type": "code",
      "metadata": {
        "colab": {
          "base_uri": "https://localhost:8080/",
          "height": 1000
        },
        "id": "_NJx8U-nJlif",
        "outputId": "57cd3f3e-78fe-4e72-cad9-c85e76300bd7"
      },
      "source": [
        "# Create n-fold cross-validation\n",
        "kf = KFold(n_splits=10, random_state=123, shuffle=True)\n",
        "roc_auc_score_list=[]\n",
        "\n",
        "# For each folds split\n",
        "for train_index, test_index in kf.split(data):\n",
        "    \n",
        "    cv_train, cv_test = data.iloc[train_index], data.iloc[test_index]\n",
        "\n",
        "    cv_train['month_enc'], cv_test['month_enc'] = mean_target_encoding(train=cv_train,\n",
        "                                                                           test=cv_test,\n",
        "                                                                           target='incendio',\n",
        "                                                                           categorical='month',\n",
        "                                                                           alpha=5)\n",
        "\n",
        "    #print(cv_train_dm.shape, cv_test_dm.shape)\n",
        "    #print(cv_train.shape, cv_test.shape)\n",
        "\n",
        "    #Estandarizamos las variables numericas\n",
        "    ss1=StandardScaler()\n",
        "    ss2=StandardScaler()\n",
        "    ss3=StandardScaler()\n",
        "    ss4=StandardScaler()\n",
        "    ss5=StandardScaler()\n",
        "    ss6=StandardScaler()\n",
        "    ss7=StandardScaler()\n",
        "    ss8=StandardScaler()\n",
        "    ss9=StandardScaler()\n",
        "    ss10=StandardScaler()\n",
        "\n",
        "    ss1.fit(cv_train[['X']])\n",
        "    ss2.fit(cv_train[['Y']])    \n",
        "    ss3.fit(cv_train[['FFMC']])\n",
        "    ss4.fit(cv_train[['DMC']])\n",
        "    ss5.fit(cv_train[['DC_log']])\n",
        "    ss6.fit(cv_train[['ISI']])\n",
        "    ss7.fit(cv_train[['temp']])\n",
        "    #ss8.fit(cv_train[['RH']])\n",
        "    ss9.fit(cv_train[['wind']])\n",
        "    ss10.fit(cv_train[['rain']])\n",
        "\n",
        "    cv_train_enc=pd.concat([pd.DataFrame(ss1.transform(cv_train[['X']]), columns=['X']), \n",
        "                           pd.DataFrame(ss2.transform(cv_train[['Y']]), columns=['Y']),\n",
        "                           pd.DataFrame(ss3.transform(cv_train[['FFMC']]), columns=['FFMC']),\n",
        "                           pd.DataFrame(ss4.transform(cv_train[['DMC']]), columns=['DMC']),\n",
        "                           pd.DataFrame(ss5.transform(cv_train[['DC_log']]), columns=['DC_log']),\n",
        "                           pd.DataFrame(ss6.transform(cv_train[['ISI']]), columns=['ISI']),\n",
        "                           pd.DataFrame(ss7.transform(cv_train[['temp']]), columns=['temp']),\n",
        "                           #pd.DataFrame(ss8.transform(cv_train[['RH']]), columns=['RH']),\n",
        "                           pd.DataFrame(ss9.transform(cv_train[['wind']]), columns=['wind']), \n",
        "                           pd.DataFrame(ss10.transform(cv_train[['rain']]), columns=['rain']) ], axis=1)\n",
        "    \n",
        "    cv_test_enc=pd.concat([pd.DataFrame(ss1.transform(cv_test[['X']]), columns=['X']), \n",
        "                           pd.DataFrame(ss2.transform(cv_test[['Y']]), columns=['Y']),\n",
        "                           pd.DataFrame(ss3.transform(cv_test[['FFMC']]), columns=['FFMC']),\n",
        "                           pd.DataFrame(ss4.transform(cv_test[['DMC']]), columns=['DMC']),\n",
        "                           pd.DataFrame(ss5.transform(cv_test[['DC_log']]), columns=['DC_log']),\n",
        "                           pd.DataFrame(ss6.transform(cv_test[['ISI']]), columns=['ISI']),\n",
        "                           pd.DataFrame(ss7.transform(cv_test[['temp']]), columns=['temp']),\n",
        "                           #pd.DataFrame(ss8.transform(cv_test[['RH']]), columns=['RH']),\n",
        "                           pd.DataFrame(ss9.transform(cv_test[['wind']]), columns=['wind']), \n",
        "                           pd.DataFrame(ss10.transform(cv_test[['rain']]), columns=['rain']) ], axis=1)\n",
        "    \n",
        "\n",
        "    #Training\n",
        "    X_train, y_train= pd.concat([cv_train_enc.reset_index(), \n",
        "                                 cv_train[['month_enc']].reset_index(),\n",
        "                                 cv_train[['day']].reset_index()], axis=1), cv_train[['incendio']]\n",
        "    X_test, y_test= pd.concat([cv_test_enc.reset_index(), \n",
        "                               cv_test[['month_enc']].reset_index(),\n",
        "                               cv_test[['day']].reset_index()], axis=1), cv_test[['incendio']]\n",
        "    \n",
        "    X_train.drop(['index'], inplace=True, axis=1)\n",
        "    X_test.drop(['index'], inplace=True, axis=1)\n",
        "    \n",
        "    #print(X_train.head())\n",
        "    \n",
        "    clf= LazyClassifier(verbose=0, ignore_warnings=True)\n",
        "    models, predictions=clf.fit(X_train, X_test, y_train, y_test)\n",
        "    print(models)\n",
        "\n",
        "    logreg= LogisticRegression()\n",
        "    logreg.fit(X_train.values, y_train.values.ravel())\n",
        "     \n",
        "    y_pred= logreg.predict(X_test) \n",
        "    y_pred_proba= logreg.predict_proba(X_test)[:,1]\n",
        "\n",
        "    fpr, tpr, thresholds = roc_curve(y_test.values, y_pred_proba)\n",
        "    \n",
        "    plt.plot([0,1],[0,1],'k--')\n",
        "    plt.plot(fpr, tpr)\n",
        "    plt.title('ROC Curve')\n",
        "    plt.xlabel('False Positive Rate')\n",
        "    plt.ylabel('True Positive Rate')\n",
        "    plt.show()\n",
        "\n",
        "    score=roc_auc_score(y_test, y_pred_proba)\n",
        "    roc_auc_score_list.append(score) \n",
        "    print(\"AUC: {}\".format(score))\n",
        "    \n",
        "    print(classification_report(y_test, y_pred))\n",
        "    corr=confusion_matrix(y_pred, y_test)\n",
        "    print(corr/ X_test.shape[0])\n",
        "     \n",
        "    heatmap=sns.heatmap(corr, annot=True, fmt=\"d\", cmap=\"Reds\")\n",
        "    heatmap.set_title('Correlation Heatmap', fontdict={'fontsize':12})\n",
        "    \n",
        "    plt.show()\n",
        "    "
      ],
      "execution_count": null,
      "outputs": [
        {
          "output_type": "stream",
          "text": [
            "100%|██████████| 29/29 [00:01<00:00, 18.63it/s]\n"
          ],
          "name": "stderr"
        },
        {
          "output_type": "stream",
          "text": [
            "                               Accuracy  ...  Time Taken\n",
            "Model                                    ...            \n",
            "ExtraTreeClassifier                0.65  ...        0.02\n",
            "BaggingClassifier                  0.58  ...        0.06\n",
            "ExtraTreesClassifier               0.60  ...        0.18\n",
            "AdaBoostClassifier                 0.62  ...        0.14\n",
            "NearestCentroid                    0.63  ...        0.03\n",
            "LGBMClassifier                     0.62  ...        0.07\n",
            "PassiveAggressiveClassifier        0.54  ...        0.02\n",
            "RandomForestClassifier             0.58  ...        0.23\n",
            "CalibratedClassifierCV             0.58  ...        0.14\n",
            "XGBClassifier                      0.56  ...        0.18\n",
            "NuSVC                              0.56  ...        0.04\n",
            "QuadraticDiscriminantAnalysis      0.44  ...        0.02\n",
            "GaussianNB                         0.42  ...        0.03\n",
            "BernoulliNB                        0.54  ...        0.02\n",
            "KNeighborsClassifier               0.52  ...        0.02\n",
            "LabelPropagation                   0.54  ...        0.04\n",
            "LabelSpreading                     0.54  ...        0.05\n",
            "SVC                                0.54  ...        0.03\n",
            "DummyClassifier                    0.48  ...        0.02\n",
            "Perceptron                         0.42  ...        0.02\n",
            "SGDClassifier                      0.38  ...        0.02\n",
            "RidgeClassifier                    0.48  ...        0.02\n",
            "RidgeClassifierCV                  0.48  ...        0.02\n",
            "LogisticRegression                 0.48  ...        0.04\n",
            "LinearDiscriminantAnalysis         0.48  ...        0.03\n",
            "LinearSVC                          0.48  ...        0.07\n",
            "DecisionTreeClassifier             0.42  ...        0.02\n",
            "\n",
            "[27 rows x 5 columns]\n"
          ],
          "name": "stdout"
        },
        {
          "output_type": "display_data",
          "data": {
            "image/png": "[encoded data removed]",
            "text/plain": [
              "<Figure size 432x288 with 1 Axes>"
            ]
          },
          "metadata": {
            "tags": []
          }
        },
        {
          "output_type": "stream",
          "text": [
            "AUC: 0.4896331738437002\n",
            "              precision    recall  f1-score   support\n",
            "\n",
            "       False       0.30      0.32      0.31        19\n",
            "        True       0.59      0.58      0.58        33\n",
            "\n",
            "    accuracy                           0.48        52\n",
            "   macro avg       0.45      0.45      0.45        52\n",
            "weighted avg       0.49      0.48      0.48        52\n",
            "\n",
            "[[0.11538462 0.26923077]\n",
            " [0.25       0.36538462]]\n"
          ],
          "name": "stdout"
        },
        {
          "output_type": "display_data",
          "data": {
            "image/png": "[encoded data removed]",
            "text/plain": [
              "<Figure size 432x288 with 2 Axes>"
            ]
          },
          "metadata": {
            "tags": []
          }
        },
        {
          "output_type": "stream",
          "text": [
            "100%|██████████| 29/29 [00:01<00:00, 19.18it/s]\n"
          ],
          "name": "stderr"
        },
        {
          "output_type": "stream",
          "text": [
            "                               Accuracy  ...  Time Taken\n",
            "Model                                    ...            \n",
            "DummyClassifier                    0.63  ...        0.02\n",
            "PassiveAggressiveClassifier        0.58  ...        0.02\n",
            "DecisionTreeClassifier             0.52  ...        0.02\n",
            "Perceptron                         0.50  ...        0.02\n",
            "LabelPropagation                   0.48  ...        0.04\n",
            "SVC                                0.46  ...        0.03\n",
            "LGBMClassifier                     0.46  ...        0.06\n",
            "QuadraticDiscriminantAnalysis      0.50  ...        0.02\n",
            "LabelSpreading                     0.46  ...        0.05\n",
            "ExtraTreesClassifier               0.46  ...        0.16\n",
            "RandomForestClassifier             0.44  ...        0.22\n",
            "CalibratedClassifierCV             0.40  ...        0.28\n",
            "ExtraTreeClassifier                0.44  ...        0.02\n",
            "SGDClassifier                      0.46  ...        0.02\n",
            "XGBClassifier                      0.42  ...        0.07\n",
            "RidgeClassifierCV                  0.40  ...        0.02\n",
            "NearestCentroid                    0.40  ...        0.02\n",
            "BaggingClassifier                  0.42  ...        0.05\n",
            "RidgeClassifier                    0.40  ...        0.02\n",
            "LinearSVC                          0.40  ...        0.07\n",
            "LogisticRegression                 0.40  ...        0.03\n",
            "LinearDiscriminantAnalysis         0.40  ...        0.02\n",
            "GaussianNB                         0.44  ...        0.02\n",
            "BernoulliNB                        0.38  ...        0.02\n",
            "NuSVC                              0.37  ...        0.03\n",
            "KNeighborsClassifier               0.37  ...        0.02\n",
            "AdaBoostClassifier                 0.31  ...        0.11\n",
            "\n",
            "[27 rows x 5 columns]\n"
          ],
          "name": "stdout"
        },
        {
          "output_type": "display_data",
          "data": {
            "image/png": "[encoded data removed]",
            "text/plain": [
              "<Figure size 432x288 with 1 Axes>"
            ]
          },
          "metadata": {
            "tags": []
          }
        },
        {
          "output_type": "stream",
          "text": [
            "AUC: 0.4303030303030303\n",
            "              precision    recall  f1-score   support\n",
            "\n",
            "       False       0.47      0.27      0.34        30\n",
            "        True       0.37      0.59      0.46        22\n",
            "\n",
            "    accuracy                           0.40        52\n",
            "   macro avg       0.42      0.43      0.40        52\n",
            "weighted avg       0.43      0.40      0.39        52\n",
            "\n",
            "[[0.15384615 0.17307692]\n",
            " [0.42307692 0.25      ]]\n"
          ],
          "name": "stdout"
        },
        {
          "output_type": "display_data",
          "data": {
            "image/png": "[encoded data removed]",
            "text/plain": [
              "<Figure size 432x288 with 2 Axes>"
            ]
          },
          "metadata": {
            "tags": []
          }
        },
        {
          "output_type": "stream",
          "text": [
            "100%|██████████| 29/29 [00:01<00:00, 21.55it/s]\n"
          ],
          "name": "stderr"
        },
        {
          "output_type": "stream",
          "text": [
            "                               Accuracy  ...  Time Taken\n",
            "Model                                    ...            \n",
            "DecisionTreeClassifier             0.65  ...        0.02\n",
            "LabelPropagation                   0.63  ...        0.03\n",
            "LabelSpreading                     0.63  ...        0.04\n",
            "RandomForestClassifier             0.62  ...        0.21\n",
            "NuSVC                              0.58  ...        0.04\n",
            "DummyClassifier                    0.58  ...        0.01\n",
            "BaggingClassifier                  0.56  ...        0.06\n",
            "CalibratedClassifierCV             0.58  ...        0.13\n",
            "ExtraTreesClassifier               0.56  ...        0.17\n",
            "SVC                                0.56  ...        0.03\n",
            "RidgeClassifierCV                  0.54  ...        0.02\n",
            "NearestCentroid                    0.54  ...        0.02\n",
            "Perceptron                         0.50  ...        0.02\n",
            "LinearDiscriminantAnalysis         0.52  ...        0.03\n",
            "LogisticRegression                 0.52  ...        0.03\n",
            "RidgeClassifier                    0.52  ...        0.02\n",
            "LinearSVC                          0.52  ...        0.06\n",
            "ExtraTreeClassifier                0.50  ...        0.02\n",
            "XGBClassifier                      0.52  ...        0.08\n",
            "AdaBoostClassifier                 0.50  ...        0.12\n",
            "GaussianNB                         0.46  ...        0.02\n",
            "LGBMClassifier                     0.48  ...        0.06\n",
            "KNeighborsClassifier               0.48  ...        0.02\n",
            "QuadraticDiscriminantAnalysis      0.44  ...        0.02\n",
            "BernoulliNB                        0.46  ...        0.02\n",
            "SGDClassifier                      0.42  ...        0.02\n",
            "PassiveAggressiveClassifier        0.40  ...        0.02\n",
            "\n",
            "[27 rows x 5 columns]\n"
          ],
          "name": "stdout"
        },
        {
          "output_type": "display_data",
          "data": {
            "image/png": "[encoded data removed]",
            "text/plain": [
              "<Figure size 432x288 with 1 Axes>"
            ]
          },
          "metadata": {
            "tags": []
          }
        },
        {
          "output_type": "stream",
          "text": [
            "AUC: 0.49404761904761907\n",
            "              precision    recall  f1-score   support\n",
            "\n",
            "       False       0.47      0.38      0.42        24\n",
            "        True       0.55      0.64      0.59        28\n",
            "\n",
            "    accuracy                           0.52        52\n",
            "   macro avg       0.51      0.51      0.50        52\n",
            "weighted avg       0.51      0.52      0.51        52\n",
            "\n",
            "[[0.17307692 0.19230769]\n",
            " [0.28846154 0.34615385]]\n"
          ],
          "name": "stdout"
        },
        {
          "output_type": "display_data",
          "data": {
            "image/png": "[encoded data removed]",
            "text/plain": [
              "<Figure size 432x288 with 2 Axes>"
            ]
          },
          "metadata": {
            "tags": []
          }
        },
        {
          "output_type": "stream",
          "text": [
            "100%|██████████| 29/29 [00:01<00:00, 21.52it/s]\n"
          ],
          "name": "stderr"
        },
        {
          "output_type": "stream",
          "text": [
            "                               Accuracy  ...  Time Taken\n",
            "Model                                    ...            \n",
            "ExtraTreesClassifier               0.60  ...        0.16\n",
            "DecisionTreeClassifier             0.58  ...        0.02\n",
            "SVC                                0.60  ...        0.03\n",
            "KNeighborsClassifier               0.58  ...        0.02\n",
            "ExtraTreeClassifier                0.58  ...        0.02\n",
            "NuSVC                              0.58  ...        0.04\n",
            "RandomForestClassifier             0.54  ...        0.23\n",
            "QuadraticDiscriminantAnalysis      0.42  ...        0.02\n",
            "LabelPropagation                   0.48  ...        0.03\n",
            "LabelSpreading                     0.48  ...        0.04\n",
            "LGBMClassifier                     0.50  ...        0.07\n",
            "DummyClassifier                    0.52  ...        0.01\n",
            "LogisticRegression                 0.48  ...        0.03\n",
            "XGBClassifier                      0.50  ...        0.08\n",
            "BernoulliNB                        0.52  ...        0.01\n",
            "SGDClassifier                      0.48  ...        0.02\n",
            "RidgeClassifierCV                  0.46  ...        0.02\n",
            "RidgeClassifier                    0.46  ...        0.02\n",
            "AdaBoostClassifier                 0.46  ...        0.11\n",
            "LinearDiscriminantAnalysis         0.46  ...        0.02\n",
            "LinearSVC                          0.46  ...        0.06\n",
            "NearestCentroid                    0.48  ...        0.02\n",
            "PassiveAggressiveClassifier        0.50  ...        0.02\n",
            "CalibratedClassifierCV             0.52  ...        0.13\n",
            "GaussianNB                         0.35  ...        0.02\n",
            "BaggingClassifier                  0.40  ...        0.06\n",
            "Perceptron                         0.38  ...        0.02\n",
            "\n",
            "[27 rows x 5 columns]\n"
          ],
          "name": "stdout"
        },
        {
          "output_type": "display_data",
          "data": {
            "image/png": "[encoded data removed]",
            "text/plain": [
              "<Figure size 432x288 with 1 Axes>"
            ]
          },
          "metadata": {
            "tags": []
          }
        },
        {
          "output_type": "stream",
          "text": [
            "AUC: 0.4689075630252101\n",
            "              precision    recall  f1-score   support\n",
            "\n",
            "       False       0.37      0.59      0.45        17\n",
            "        True       0.72      0.51      0.60        35\n",
            "\n",
            "    accuracy                           0.54        52\n",
            "   macro avg       0.55      0.55      0.53        52\n",
            "weighted avg       0.61      0.54      0.55        52\n",
            "\n",
            "[[0.19230769 0.32692308]\n",
            " [0.13461538 0.34615385]]\n"
          ],
          "name": "stdout"
        },
        {
          "output_type": "display_data",
          "data": {
            "image/png": "[encoded data removed]",
            "text/plain": [
              "<Figure size 432x288 with 2 Axes>"
            ]
          },
          "metadata": {
            "tags": []
          }
        },
        {
          "output_type": "stream",
          "text": [
            "100%|██████████| 29/29 [00:01<00:00, 21.09it/s]\n"
          ],
          "name": "stderr"
        },
        {
          "output_type": "stream",
          "text": [
            "                               Accuracy  ...  Time Taken\n",
            "Model                                    ...            \n",
            "LinearSVC                          0.62  ...        0.07\n",
            "LinearDiscriminantAnalysis         0.62  ...        0.03\n",
            "RidgeClassifierCV                  0.62  ...        0.02\n",
            "RidgeClassifier                    0.62  ...        0.02\n",
            "DecisionTreeClassifier             0.62  ...        0.03\n",
            "LogisticRegression                 0.62  ...        0.03\n",
            "AdaBoostClassifier                 0.60  ...        0.12\n",
            "KNeighborsClassifier               0.58  ...        0.02\n",
            "SGDClassifier                      0.58  ...        0.02\n",
            "BernoulliNB                        0.58  ...        0.02\n",
            "SVC                                0.56  ...        0.03\n",
            "ExtraTreeClassifier                0.54  ...        0.02\n",
            "GaussianNB                         0.54  ...        0.02\n",
            "PassiveAggressiveClassifier        0.52  ...        0.02\n",
            "NearestCentroid                    0.52  ...        0.02\n",
            "NuSVC                              0.50  ...        0.04\n",
            "Perceptron                         0.50  ...        0.02\n",
            "QuadraticDiscriminantAnalysis      0.48  ...        0.02\n",
            "XGBClassifier                      0.48  ...        0.07\n",
            "ExtraTreesClassifier               0.46  ...        0.17\n",
            "DummyClassifier                    0.46  ...        0.02\n",
            "LGBMClassifier                     0.46  ...        0.07\n",
            "RandomForestClassifier             0.44  ...        0.23\n",
            "CalibratedClassifierCV             0.44  ...        0.12\n",
            "BaggingClassifier                  0.44  ...        0.06\n",
            "LabelSpreading                     0.42  ...        0.04\n",
            "LabelPropagation                   0.42  ...        0.03\n",
            "\n",
            "[27 rows x 5 columns]\n"
          ],
          "name": "stdout"
        },
        {
          "output_type": "display_data",
          "data": {
            "image/png": "[encoded data removed]",
            "text/plain": [
              "<Figure size 432x288 with 1 Axes>"
            ]
          },
          "metadata": {
            "tags": []
          }
        },
        {
          "output_type": "stream",
          "text": [
            "AUC: 0.6065088757396451\n",
            "              precision    recall  f1-score   support\n",
            "\n",
            "       False       0.71      0.38      0.50        26\n",
            "        True       0.58      0.85      0.69        26\n",
            "\n",
            "    accuracy                           0.62        52\n",
            "   macro avg       0.65      0.62      0.59        52\n",
            "weighted avg       0.65      0.62      0.59        52\n",
            "\n",
            "[[0.19230769 0.07692308]\n",
            " [0.30769231 0.42307692]]\n"
          ],
          "name": "stdout"
        },
        {
          "output_type": "display_data",
          "data": {
            "image/png": "[encoded data removed]",
            "text/plain": [
              "<Figure size 432x288 with 2 Axes>"
            ]
          },
          "metadata": {
            "tags": []
          }
        },
        {
          "output_type": "stream",
          "text": [
            "100%|██████████| 29/29 [00:01<00:00, 20.81it/s]\n"
          ],
          "name": "stderr"
        },
        {
          "output_type": "stream",
          "text": [
            "                               Accuracy  ...  Time Taken\n",
            "Model                                    ...            \n",
            "BaggingClassifier                  0.69  ...        0.06\n",
            "DecisionTreeClassifier             0.63  ...        0.02\n",
            "NuSVC                              0.58  ...        0.03\n",
            "ExtraTreesClassifier               0.58  ...        0.18\n",
            "LGBMClassifier                     0.58  ...        0.06\n",
            "RandomForestClassifier             0.58  ...        0.24\n",
            "AdaBoostClassifier                 0.56  ...        0.12\n",
            "XGBClassifier                      0.56  ...        0.07\n",
            "LabelPropagation                   0.56  ...        0.03\n",
            "LabelSpreading                     0.56  ...        0.04\n",
            "DummyClassifier                    0.54  ...        0.02\n",
            "SVC                                0.52  ...        0.03\n",
            "NearestCentroid                    0.52  ...        0.02\n",
            "PassiveAggressiveClassifier        0.54  ...        0.02\n",
            "CalibratedClassifierCV             0.48  ...        0.13\n",
            "RidgeClassifier                    0.50  ...        0.02\n",
            "RidgeClassifierCV                  0.50  ...        0.02\n",
            "LinearSVC                          0.50  ...        0.06\n",
            "LogisticRegression                 0.50  ...        0.02\n",
            "LinearDiscriminantAnalysis         0.50  ...        0.04\n",
            "BernoulliNB                        0.48  ...        0.02\n",
            "GaussianNB                         0.50  ...        0.02\n",
            "KNeighborsClassifier               0.44  ...        0.02\n",
            "ExtraTreeClassifier                0.46  ...        0.02\n",
            "QuadraticDiscriminantAnalysis      0.44  ...        0.02\n",
            "SGDClassifier                      0.40  ...        0.02\n",
            "Perceptron                         0.40  ...        0.02\n",
            "\n",
            "[27 rows x 5 columns]\n"
          ],
          "name": "stdout"
        },
        {
          "output_type": "display_data",
          "data": {
            "image/png": "[encoded data removed]",
            "text/plain": [
              "<Figure size 432x288 with 1 Axes>"
            ]
          },
          "metadata": {
            "tags": []
          }
        },
        {
          "output_type": "stream",
          "text": [
            "AUC: 0.48050974512743627\n",
            "              precision    recall  f1-score   support\n",
            "\n",
            "       False       0.57      0.28      0.37        29\n",
            "        True       0.45      0.74      0.56        23\n",
            "\n",
            "    accuracy                           0.48        52\n",
            "   macro avg       0.51      0.51      0.46        52\n",
            "weighted avg       0.52      0.48      0.45        52\n",
            "\n",
            "[[0.15384615 0.11538462]\n",
            " [0.40384615 0.32692308]]\n"
          ],
          "name": "stdout"
        },
        {
          "output_type": "display_data",
          "data": {
            "image/png": "[encoded data removed]",
            "text/plain": [
              "<Figure size 432x288 with 2 Axes>"
            ]
          },
          "metadata": {
            "tags": []
          }
        },
        {
          "output_type": "stream",
          "text": [
            "100%|██████████| 29/29 [00:01<00:00, 20.76it/s]\n"
          ],
          "name": "stderr"
        },
        {
          "output_type": "stream",
          "text": [
            "                               Accuracy  ...  Time Taken\n",
            "Model                                    ...            \n",
            "SVC                                0.65  ...        0.03\n",
            "XGBClassifier                      0.63  ...        0.08\n",
            "NearestCentroid                    0.63  ...        0.02\n",
            "BernoulliNB                        0.62  ...        0.02\n",
            "DummyClassifier                    0.62  ...        0.02\n",
            "QuadraticDiscriminantAnalysis      0.62  ...        0.02\n",
            "BaggingClassifier                  0.62  ...        0.06\n",
            "LGBMClassifier                     0.60  ...        0.07\n",
            "PassiveAggressiveClassifier        0.60  ...        0.02\n",
            "RandomForestClassifier             0.60  ...        0.24\n",
            "LabelSpreading                     0.58  ...        0.04\n",
            "Perceptron                         0.58  ...        0.02\n",
            "LabelPropagation                   0.58  ...        0.04\n",
            "GaussianNB                         0.58  ...        0.02\n",
            "ExtraTreesClassifier               0.58  ...        0.17\n",
            "SGDClassifier                      0.58  ...        0.02\n",
            "NuSVC                              0.56  ...        0.04\n",
            "RidgeClassifier                    0.54  ...        0.02\n",
            "RidgeClassifierCV                  0.54  ...        0.02\n",
            "LinearSVC                          0.54  ...        0.06\n",
            "LogisticRegression                 0.54  ...        0.03\n",
            "LinearDiscriminantAnalysis         0.54  ...        0.03\n",
            "ExtraTreeClassifier                0.54  ...        0.02\n",
            "AdaBoostClassifier                 0.54  ...        0.13\n",
            "DecisionTreeClassifier             0.52  ...        0.03\n",
            "KNeighborsClassifier               0.52  ...        0.02\n",
            "CalibratedClassifierCV             0.48  ...        0.13\n",
            "\n",
            "[27 rows x 5 columns]\n"
          ],
          "name": "stdout"
        },
        {
          "output_type": "display_data",
          "data": {
            "image/png": "[encoded data removed]",
            "text/plain": [
              "<Figure size 432x288 with 1 Axes>"
            ]
          },
          "metadata": {
            "tags": []
          }
        },
        {
          "output_type": "stream",
          "text": [
            "AUC: 0.5562130177514794\n",
            "              precision    recall  f1-score   support\n",
            "\n",
            "       False       0.55      0.46      0.50        26\n",
            "        True       0.53      0.62      0.57        26\n",
            "\n",
            "    accuracy                           0.54        52\n",
            "   macro avg       0.54      0.54      0.54        52\n",
            "weighted avg       0.54      0.54      0.54        52\n",
            "\n",
            "[[0.23076923 0.19230769]\n",
            " [0.26923077 0.30769231]]\n"
          ],
          "name": "stdout"
        },
        {
          "output_type": "display_data",
          "data": {
            "image/png": "[encoded data removed]",
            "text/plain": [
              "<Figure size 432x288 with 2 Axes>"
            ]
          },
          "metadata": {
            "tags": []
          }
        },
        {
          "output_type": "stream",
          "text": [
            "100%|██████████| 29/29 [00:01<00:00, 20.57it/s]\n"
          ],
          "name": "stderr"
        },
        {
          "output_type": "stream",
          "text": [
            "                               Accuracy  ...  Time Taken\n",
            "Model                                    ...            \n",
            "LabelPropagation                   0.69  ...        0.03\n",
            "LabelSpreading                     0.69  ...        0.04\n",
            "NuSVC                              0.67  ...        0.04\n",
            "SGDClassifier                      0.63  ...        0.02\n",
            "ExtraTreesClassifier               0.63  ...        0.17\n",
            "ExtraTreeClassifier                0.63  ...        0.02\n",
            "LGBMClassifier                     0.61  ...        0.07\n",
            "XGBClassifier                      0.61  ...        0.08\n",
            "RandomForestClassifier             0.61  ...        0.23\n",
            "AdaBoostClassifier                 0.63  ...        0.13\n",
            "BaggingClassifier                  0.59  ...        0.06\n",
            "NearestCentroid                    0.61  ...        0.02\n",
            "DummyClassifier                    0.59  ...        0.02\n",
            "BernoulliNB                        0.59  ...        0.02\n",
            "LinearSVC                          0.57  ...        0.06\n",
            "RidgeClassifier                    0.57  ...        0.02\n",
            "LinearDiscriminantAnalysis         0.57  ...        0.03\n",
            "LogisticRegression                 0.57  ...        0.02\n",
            "RidgeClassifierCV                  0.57  ...        0.02\n",
            "PassiveAggressiveClassifier        0.53  ...        0.02\n",
            "SVC                                0.53  ...        0.03\n",
            "KNeighborsClassifier               0.55  ...        0.02\n",
            "GaussianNB                         0.39  ...        0.02\n",
            "DecisionTreeClassifier             0.47  ...        0.03\n",
            "QuadraticDiscriminantAnalysis      0.39  ...        0.02\n",
            "CalibratedClassifierCV             0.49  ...        0.13\n",
            "Perceptron                         0.45  ...        0.02\n",
            "\n",
            "[27 rows x 5 columns]\n"
          ],
          "name": "stdout"
        },
        {
          "output_type": "display_data",
          "data": {
            "image/png": "[encoded data removed]",
            "text/plain": [
              "<Figure size 432x288 with 1 Axes>"
            ]
          },
          "metadata": {
            "tags": []
          }
        },
        {
          "output_type": "stream",
          "text": [
            "AUC: 0.5564516129032259\n",
            "              precision    recall  f1-score   support\n",
            "\n",
            "       False       0.42      0.40      0.41        20\n",
            "        True       0.62      0.65      0.63        31\n",
            "\n",
            "    accuracy                           0.55        51\n",
            "   macro avg       0.52      0.52      0.52        51\n",
            "weighted avg       0.55      0.55      0.55        51\n",
            "\n",
            "[[0.15686275 0.21568627]\n",
            " [0.23529412 0.39215686]]\n"
          ],
          "name": "stdout"
        },
        {
          "output_type": "display_data",
          "data": {
            "image/png": "[encoded data removed]",
            "text/plain": [
              "<Figure size 432x288 with 2 Axes>"
            ]
          },
          "metadata": {
            "tags": []
          }
        },
        {
          "output_type": "stream",
          "text": [
            "100%|██████████| 29/29 [00:01<00:00, 18.41it/s]\n"
          ],
          "name": "stderr"
        },
        {
          "output_type": "stream",
          "text": [
            "                               Accuracy  ...  Time Taken\n",
            "Model                                    ...            \n",
            "NuSVC                              0.69  ...        0.04\n",
            "RandomForestClassifier             0.69  ...        0.23\n",
            "LGBMClassifier                     0.67  ...        0.07\n",
            "DecisionTreeClassifier             0.67  ...        0.02\n",
            "XGBClassifier                      0.67  ...        0.09\n",
            "LabelSpreading                     0.65  ...        0.05\n",
            "LabelPropagation                   0.65  ...        0.03\n",
            "KNeighborsClassifier               0.63  ...        0.02\n",
            "ExtraTreesClassifier               0.63  ...        0.17\n",
            "AdaBoostClassifier                 0.63  ...        0.12\n",
            "QuadraticDiscriminantAnalysis      0.63  ...        0.02\n",
            "DummyClassifier                    0.61  ...        0.02\n",
            "GaussianNB                         0.65  ...        0.02\n",
            "NearestCentroid                    0.61  ...        0.02\n",
            "SVC                                0.57  ...        0.03\n",
            "BaggingClassifier                  0.59  ...        0.06\n",
            "BernoulliNB                        0.55  ...        0.02\n",
            "SGDClassifier                      0.53  ...        0.03\n",
            "RidgeClassifier                    0.51  ...        0.02\n",
            "RidgeClassifierCV                  0.51  ...        0.02\n",
            "LinearSVC                          0.51  ...        0.06\n",
            "LogisticRegression                 0.51  ...        0.03\n",
            "LinearDiscriminantAnalysis         0.51  ...        0.03\n",
            "PassiveAggressiveClassifier        0.49  ...        0.02\n",
            "ExtraTreeClassifier                0.49  ...        0.02\n",
            "Perceptron                         0.47  ...        0.02\n",
            "CalibratedClassifierCV             0.37  ...        0.29\n",
            "\n",
            "[27 rows x 5 columns]\n"
          ],
          "name": "stdout"
        },
        {
          "output_type": "display_data",
          "data": {
            "image/png": "[encoded data removed]",
            "text/plain": [
              "<Figure size 432x288 with 1 Axes>"
            ]
          },
          "metadata": {
            "tags": []
          }
        },
        {
          "output_type": "stream",
          "text": [
            "AUC: 0.6521739130434783\n",
            "              precision    recall  f1-score   support\n",
            "\n",
            "       False       0.65      0.39      0.49        28\n",
            "        True       0.50      0.74      0.60        23\n",
            "\n",
            "    accuracy                           0.55        51\n",
            "   macro avg       0.57      0.57      0.54        51\n",
            "weighted avg       0.58      0.55      0.54        51\n",
            "\n",
            "[[0.21568627 0.11764706]\n",
            " [0.33333333 0.33333333]]\n"
          ],
          "name": "stdout"
        },
        {
          "output_type": "display_data",
          "data": {
            "image/png": "[encoded data removed]",
            "text/plain": [
              "<Figure size 432x288 with 2 Axes>"
            ]
          },
          "metadata": {
            "tags": []
          }
        },
        {
          "output_type": "stream",
          "text": [
            "100%|██████████| 29/29 [00:01<00:00, 19.50it/s]\n"
          ],
          "name": "stderr"
        },
        {
          "output_type": "stream",
          "text": [
            "                               Accuracy  ...  Time Taken\n",
            "Model                                    ...            \n",
            "NearestCentroid                    0.69  ...        0.03\n",
            "SVC                                0.67  ...        0.03\n",
            "XGBClassifier                      0.67  ...        0.09\n",
            "BaggingClassifier                  0.67  ...        0.07\n",
            "ExtraTreeClassifier                0.65  ...        0.02\n",
            "ExtraTreesClassifier               0.65  ...        0.18\n",
            "BernoulliNB                        0.61  ...        0.02\n",
            "LinearSVC                          0.59  ...        0.06\n",
            "RidgeClassifierCV                  0.59  ...        0.03\n",
            "LogisticRegression                 0.59  ...        0.02\n",
            "Perceptron                         0.61  ...        0.02\n",
            "LabelPropagation                   0.61  ...        0.04\n",
            "RandomForestClassifier             0.61  ...        0.24\n",
            "NuSVC                              0.59  ...        0.04\n",
            "RidgeClassifier                    0.57  ...        0.02\n",
            "LabelSpreading                     0.59  ...        0.04\n",
            "LinearDiscriminantAnalysis         0.55  ...        0.03\n",
            "PassiveAggressiveClassifier        0.57  ...        0.02\n",
            "DecisionTreeClassifier             0.55  ...        0.03\n",
            "AdaBoostClassifier                 0.53  ...        0.13\n",
            "LGBMClassifier                     0.53  ...        0.08\n",
            "KNeighborsClassifier               0.51  ...        0.02\n",
            "QuadraticDiscriminantAnalysis      0.53  ...        0.02\n",
            "GaussianNB                         0.53  ...        0.02\n",
            "DummyClassifier                    0.45  ...        0.02\n",
            "SGDClassifier                      0.43  ...        0.02\n",
            "CalibratedClassifierCV             0.37  ...        0.13\n",
            "\n",
            "[27 rows x 5 columns]\n"
          ],
          "name": "stdout"
        },
        {
          "output_type": "display_data",
          "data": {
            "image/png": "[encoded data removed]",
            "text/plain": [
              "<Figure size 432x288 with 1 Axes>"
            ]
          },
          "metadata": {
            "tags": []
          }
        },
        {
          "output_type": "stream",
          "text": [
            "AUC: 0.7096273291925466\n",
            "              precision    recall  f1-score   support\n",
            "\n",
            "       False       0.77      0.36      0.49        28\n",
            "        True       0.53      0.87      0.66        23\n",
            "\n",
            "    accuracy                           0.59        51\n",
            "   macro avg       0.65      0.61      0.57        51\n",
            "weighted avg       0.66      0.59      0.56        51\n",
            "\n",
            "[[0.19607843 0.05882353]\n",
            " [0.35294118 0.39215686]]\n"
          ],
          "name": "stdout"
        },
        {
          "output_type": "display_data",
          "data": {
            "image/png": "[encoded data removed]",
            "text/plain": [
              "<Figure size 432x288 with 2 Axes>"
            ]
          },
          "metadata": {
            "tags": []
          }
        }
      ]
    },
    {
      "cell_type": "code",
      "metadata": {
        "colab": {
          "base_uri": "https://localhost:8080/"
        },
        "id": "OyMwG_rnJlww",
        "outputId": "916ab7bd-df97-4bcc-a49d-86f8663aa8f8"
      },
      "source": [
        "print(\"Average_AUC: {}\".format(np.mean(roc_auc_score_list)))"
      ],
      "execution_count": null,
      "outputs": [
        {
          "output_type": "stream",
          "text": [
            "Average_AUC: 0.5442957201910525\n"
          ],
          "name": "stdout"
        }
      ]
    },
    {
      "cell_type": "markdown",
      "metadata": {
        "id": "735FU9-qRcFz"
      },
      "source": [
        "Modelo de Regresion\n",
        "\n",
        "En este caso elegí trabajar con un modelo de regresion lineal porque es un modelo simple que puede ser buena eleccion para empezar a experimentar. Las metricas que se utilizaran son MAE por su facil interpretabilidad y RMSE para tomar en cuenta la variación del error."
      ]
    },
    {
      "cell_type": "code",
      "metadata": {
        "id": "Teccyv6x9Mxz"
      },
      "source": [
        "data_regression=pd.get_dummies(data, columns=['month'], drop_first=True, prefix='DM')"
      ],
      "execution_count": null,
      "outputs": []
    },
    {
      "cell_type": "code",
      "metadata": {
        "id": "Wvs0jhoX9Mx3",
        "outputId": "8b81f59e-6eb8-43d9-e425-3e9d2f29518a"
      },
      "source": [
        "data_regression.head()"
      ],
      "execution_count": null,
      "outputs": [
        {
          "output_type": "execute_result",
          "data": {
            "text/html": [
              "<div>\n",
              "<style scoped>\n",
              "    .dataframe tbody tr th:only-of-type {\n",
              "        vertical-align: middle;\n",
              "    }\n",
              "\n",
              "    .dataframe tbody tr th {\n",
              "        vertical-align: top;\n",
              "    }\n",
              "\n",
              "    .dataframe thead th {\n",
              "        text-align: right;\n",
              "    }\n",
              "</style>\n",
              "<table border=\"1\" class=\"dataframe\">\n",
              "  <thead>\n",
              "    <tr style=\"text-align: right;\">\n",
              "      <th></th>\n",
              "      <th>X</th>\n",
              "      <th>Y</th>\n",
              "      <th>day</th>\n",
              "      <th>FFMC</th>\n",
              "      <th>DMC</th>\n",
              "      <th>ISI</th>\n",
              "      <th>temp</th>\n",
              "      <th>wind</th>\n",
              "      <th>rain</th>\n",
              "      <th>area</th>\n",
              "      <th>...</th>\n",
              "      <th>DM_dec</th>\n",
              "      <th>DM_feb</th>\n",
              "      <th>DM_jan</th>\n",
              "      <th>DM_jul</th>\n",
              "      <th>DM_jun</th>\n",
              "      <th>DM_mar</th>\n",
              "      <th>DM_may</th>\n",
              "      <th>DM_nov</th>\n",
              "      <th>DM_oct</th>\n",
              "      <th>DM_sep</th>\n",
              "    </tr>\n",
              "  </thead>\n",
              "  <tbody>\n",
              "    <tr>\n",
              "      <td>0</td>\n",
              "      <td>7</td>\n",
              "      <td>5</td>\n",
              "      <td>1.0</td>\n",
              "      <td>86.2</td>\n",
              "      <td>26.2</td>\n",
              "      <td>5.1</td>\n",
              "      <td>8.2</td>\n",
              "      <td>6.7</td>\n",
              "      <td>0.0</td>\n",
              "      <td>0.0</td>\n",
              "      <td>...</td>\n",
              "      <td>0</td>\n",
              "      <td>0</td>\n",
              "      <td>0</td>\n",
              "      <td>0</td>\n",
              "      <td>0</td>\n",
              "      <td>1</td>\n",
              "      <td>0</td>\n",
              "      <td>0</td>\n",
              "      <td>0</td>\n",
              "      <td>0</td>\n",
              "    </tr>\n",
              "    <tr>\n",
              "      <td>1</td>\n",
              "      <td>7</td>\n",
              "      <td>4</td>\n",
              "      <td>0.0</td>\n",
              "      <td>90.6</td>\n",
              "      <td>35.4</td>\n",
              "      <td>6.7</td>\n",
              "      <td>18.0</td>\n",
              "      <td>0.9</td>\n",
              "      <td>0.0</td>\n",
              "      <td>0.0</td>\n",
              "      <td>...</td>\n",
              "      <td>0</td>\n",
              "      <td>0</td>\n",
              "      <td>0</td>\n",
              "      <td>0</td>\n",
              "      <td>0</td>\n",
              "      <td>0</td>\n",
              "      <td>0</td>\n",
              "      <td>0</td>\n",
              "      <td>1</td>\n",
              "      <td>0</td>\n",
              "    </tr>\n",
              "    <tr>\n",
              "      <td>2</td>\n",
              "      <td>7</td>\n",
              "      <td>4</td>\n",
              "      <td>1.0</td>\n",
              "      <td>90.6</td>\n",
              "      <td>43.7</td>\n",
              "      <td>6.7</td>\n",
              "      <td>14.6</td>\n",
              "      <td>1.3</td>\n",
              "      <td>0.0</td>\n",
              "      <td>0.0</td>\n",
              "      <td>...</td>\n",
              "      <td>0</td>\n",
              "      <td>0</td>\n",
              "      <td>0</td>\n",
              "      <td>0</td>\n",
              "      <td>0</td>\n",
              "      <td>0</td>\n",
              "      <td>0</td>\n",
              "      <td>0</td>\n",
              "      <td>1</td>\n",
              "      <td>0</td>\n",
              "    </tr>\n",
              "    <tr>\n",
              "      <td>3</td>\n",
              "      <td>8</td>\n",
              "      <td>6</td>\n",
              "      <td>1.0</td>\n",
              "      <td>91.7</td>\n",
              "      <td>33.3</td>\n",
              "      <td>9.0</td>\n",
              "      <td>8.3</td>\n",
              "      <td>4.0</td>\n",
              "      <td>0.2</td>\n",
              "      <td>0.0</td>\n",
              "      <td>...</td>\n",
              "      <td>0</td>\n",
              "      <td>0</td>\n",
              "      <td>0</td>\n",
              "      <td>0</td>\n",
              "      <td>0</td>\n",
              "      <td>1</td>\n",
              "      <td>0</td>\n",
              "      <td>0</td>\n",
              "      <td>0</td>\n",
              "      <td>0</td>\n",
              "    </tr>\n",
              "    <tr>\n",
              "      <td>4</td>\n",
              "      <td>8</td>\n",
              "      <td>6</td>\n",
              "      <td>1.0</td>\n",
              "      <td>89.3</td>\n",
              "      <td>51.3</td>\n",
              "      <td>9.6</td>\n",
              "      <td>11.4</td>\n",
              "      <td>1.8</td>\n",
              "      <td>0.0</td>\n",
              "      <td>0.0</td>\n",
              "      <td>...</td>\n",
              "      <td>0</td>\n",
              "      <td>0</td>\n",
              "      <td>0</td>\n",
              "      <td>0</td>\n",
              "      <td>0</td>\n",
              "      <td>1</td>\n",
              "      <td>0</td>\n",
              "      <td>0</td>\n",
              "      <td>0</td>\n",
              "      <td>0</td>\n",
              "    </tr>\n",
              "  </tbody>\n",
              "</table>\n",
              "<p>5 rows × 24 columns</p>\n",
              "</div>"
            ],
            "text/plain": [
              "   X  Y  day  FFMC   DMC  ISI  temp  wind  rain  area  ...  DM_dec  DM_feb  \\\n",
              "0  7  5  1.0  86.2  26.2  5.1   8.2   6.7   0.0   0.0  ...       0       0   \n",
              "1  7  4  0.0  90.6  35.4  6.7  18.0   0.9   0.0   0.0  ...       0       0   \n",
              "2  7  4  1.0  90.6  43.7  6.7  14.6   1.3   0.0   0.0  ...       0       0   \n",
              "3  8  6  1.0  91.7  33.3  9.0   8.3   4.0   0.2   0.0  ...       0       0   \n",
              "4  8  6  1.0  89.3  51.3  9.6  11.4   1.8   0.0   0.0  ...       0       0   \n",
              "\n",
              "   DM_jan  DM_jul  DM_jun  DM_mar  DM_may  DM_nov  DM_oct  DM_sep  \n",
              "0       0       0       0       1       0       0       0       0  \n",
              "1       0       0       0       0       0       0       1       0  \n",
              "2       0       0       0       0       0       0       1       0  \n",
              "3       0       0       0       1       0       0       0       0  \n",
              "4       0       0       0       1       0       0       0       0  \n",
              "\n",
              "[5 rows x 24 columns]"
            ]
          },
          "metadata": {
            "tags": []
          },
          "execution_count": 114
        }
      ]
    },
    {
      "cell_type": "code",
      "metadata": {
        "id": "VB4_I73w9Mx6",
        "outputId": "7b53c482-92df-4fa2-ac98-04b0cec19cdd"
      },
      "source": [
        "data_regression.columns"
      ],
      "execution_count": null,
      "outputs": [
        {
          "output_type": "execute_result",
          "data": {
            "text/plain": [
              "Index(['X', 'Y', 'day', 'FFMC', 'DMC', 'ISI', 'temp', 'wind', 'rain', 'area',\n",
              "       'incendio', 'magnitud', 'DC_log', 'DM_aug', 'DM_dec', 'DM_feb',\n",
              "       'DM_jan', 'DM_jul', 'DM_jun', 'DM_mar', 'DM_may', 'DM_nov', 'DM_oct',\n",
              "       'DM_sep'],\n",
              "      dtype='object')"
            ]
          },
          "metadata": {
            "tags": []
          },
          "execution_count": 115
        }
      ]
    },
    {
      "cell_type": "code",
      "metadata": {
        "id": "tqKtSwxNKD9F",
        "colab": {
          "base_uri": "https://localhost:8080/"
        },
        "outputId": "9933317f-773d-422c-9fcf-0c1e659e29cc"
      },
      "source": [
        "# Create n-fold cross-validation\n",
        "kf = KFold(n_splits=10, random_state=24, shuffle=True)\n",
        "MAE_list=[]\n",
        "RMSE_list=[]\n",
        "\n",
        "# For each folds split\n",
        "for train_index, test_index in kf.split(data_regression):\n",
        "    cv_train, cv_test = data_regression.iloc[train_index], data_regression.iloc[test_index]\n",
        "    \n",
        "\n",
        "    #Estandarizamos las variables numericas\n",
        "    ss1=StandardScaler()\n",
        "    ss2=StandardScaler()\n",
        "    ss3=StandardScaler()\n",
        "    ss4=StandardScaler()\n",
        "    ss5=StandardScaler()\n",
        "    ss6=StandardScaler()\n",
        "    ss7=StandardScaler()\n",
        "    ss8=StandardScaler()\n",
        "    ss9=StandardScaler()\n",
        "    ss10=StandardScaler()\n",
        "\n",
        "    ss1.fit(cv_train[['X']])\n",
        "    ss2.fit(cv_train[['Y']])    \n",
        "    ss3.fit(cv_train[['FFMC']])\n",
        "    ss4.fit(cv_train[['DMC']])\n",
        "    ss5.fit(cv_train[['DC_log']])\n",
        "    ss6.fit(cv_train[['ISI']])\n",
        "    ss7.fit(cv_train[['temp']])\n",
        "    #ss8.fit(cv_train[['RH']])\n",
        "    ss9.fit(cv_train[['wind']])\n",
        "    ss10.fit(cv_train[['rain']])\n",
        "\n",
        "    cv_train_enc=pd.concat([pd.DataFrame(ss1.transform(cv_train[['X']]), columns=['X']), \n",
        "                           pd.DataFrame(ss2.transform(cv_train[['Y']]), columns=['Y']),\n",
        "                           pd.DataFrame(ss3.transform(cv_train[['FFMC']]), columns=['FFMC']),\n",
        "                           pd.DataFrame(ss4.transform(cv_train[['DMC']]), columns=['DMC']),\n",
        "                           pd.DataFrame(ss5.transform(cv_train[['DC_log']]), columns=['DC_log']),\n",
        "                           pd.DataFrame(ss6.transform(cv_train[['ISI']]), columns=['ISI']),\n",
        "                           pd.DataFrame(ss7.transform(cv_train[['temp']]), columns=['temp']),\n",
        "                           #pd.DataFrame(ss8.transform(cv_train[['RH']]), columns=['RH']),\n",
        "                           pd.DataFrame(ss9.transform(cv_train[['wind']]), columns=['wind']), \n",
        "                           pd.DataFrame(ss10.transform(cv_train[['rain']]), columns=['rain']) ], axis=1)\n",
        "    \n",
        "    cv_test_enc=pd.concat([pd.DataFrame(ss1.transform(cv_test[['X']]), columns=['X']), \n",
        "                           pd.DataFrame(ss2.transform(cv_test[['Y']]), columns=['Y']),\n",
        "                           pd.DataFrame(ss3.transform(cv_test[['FFMC']]), columns=['FFMC']),\n",
        "                           pd.DataFrame(ss4.transform(cv_test[['DMC']]), columns=['DMC']),\n",
        "                           pd.DataFrame(ss5.transform(cv_test[['DC_log']]), columns=['DC_log']),\n",
        "                           pd.DataFrame(ss6.transform(cv_test[['ISI']]), columns=['ISI']),\n",
        "                           pd.DataFrame(ss7.transform(cv_test[['temp']]), columns=['temp']),\n",
        "                           #pd.DataFrame(ss8.transform(cv_test[['RH']]), columns=['RH']),\n",
        "                           pd.DataFrame(ss9.transform(cv_test[['wind']]), columns=['wind']), \n",
        "                           pd.DataFrame(ss10.transform(cv_test[['rain']]), columns=['rain']) ], axis=1)\n",
        "    \n",
        "\n",
        "    X_train, y_train= pd.concat([cv_train_enc.reset_index(), \n",
        "                                 cv_train[['day', 'DM_aug', 'DM_dec', 'DM_feb',\n",
        "                                           'DM_jan', 'DM_jul', 'DM_jun', 'DM_mar', 'DM_may', 'DM_nov', 'DM_oct',\n",
        "                                           'DM_sep']].reset_index()], axis=1), cv_train[['magnitud']]\n",
        "    X_test, y_test= pd.concat([cv_test_enc.reset_index(), \n",
        "                               cv_test[['day', 'DM_aug', 'DM_dec', 'DM_feb',\n",
        "                                        'DM_jan', 'DM_jul', 'DM_jun', 'DM_mar', 'DM_may', 'DM_nov', 'DM_oct',\n",
        "                                        'DM_sep']].reset_index()], axis=1), cv_test[['magnitud']]\n",
        "    \n",
        "    X_train.drop(['index'], inplace=True, axis=1)\n",
        "    X_test.drop(['index'], inplace=True, axis=1)\n",
        "    \n",
        "    #print(X_train.columns, y_train.columns)\n",
        "\n",
        "    reg= LazyRegressor(verbose=0, ignore_warnings=True)\n",
        "    models, predictions=reg.fit(X_train, X_test, y_train, y_test)\n",
        "    print('')\n",
        "    print(models)\n",
        "\n",
        "    lreg= LinearRegression()\n",
        "    lreg.fit(X_train, y_train)\n",
        "     \n",
        "    y_pred= lreg.predict(X_test)\n",
        "    \n",
        "    mae=mean_absolute_error(y_pred, y_test)\n",
        "    rmse=np.sqrt(mean_absolute_error(y_pred, y_test))\n",
        "    \n",
        "    print('')\n",
        "    print('MAE: ', mae)\n",
        "    print('RMSE: ', rmse)\n",
        "    print('')\n",
        "    \n",
        "    MAE_list.append(mae)\n",
        "    RMSE_list.append(rmse)"
      ],
      "execution_count": null,
      "outputs": [
        {
          "output_type": "stream",
          "text": [
            "100%|██████████| 42/42 [00:04<00:00,  9.12it/s]\n",
            "  0%|          | 0/42 [00:00<?, ?it/s]"
          ],
          "name": "stderr"
        },
        {
          "output_type": "stream",
          "text": [
            "\n",
            "                                          Adjusted R-Squared  ...  Time Taken\n",
            "Model                                                         ...            \n",
            "HuberRegressor                                         -0.48  ...        0.06\n",
            "SGDRegressor                                           -0.59  ...        0.04\n",
            "LinearSVR                                              -0.60  ...        0.07\n",
            "RidgeCV                                                -0.61  ...        0.04\n",
            "Ridge                                                  -0.61  ...        0.02\n",
            "TransformedTargetRegressor                             -0.61  ...        0.02\n",
            "LinearRegression                                       -0.61  ...        0.05\n",
            "SVR                                                    -0.62  ...        0.05\n",
            "OrthogonalMatchingPursuitCV                            -0.63  ...        0.03\n",
            "OrthogonalMatchingPursuit                              -0.64  ...        0.02\n",
            "GeneralizedLinearRegressor                             -0.65  ...        0.03\n",
            "TweedieRegressor                                       -0.65  ...        0.03\n",
            "NuSVR                                                  -0.68  ...        0.06\n",
            "LassoLarsIC                                            -0.69  ...        0.07\n",
            "BayesianRidge                                          -0.74  ...        0.02\n",
            "Lasso                                                  -0.76  ...        0.07\n",
            "LassoLarsCV                                            -0.76  ...        0.12\n",
            "LassoCV                                                -0.76  ...        0.21\n",
            "LassoLars                                              -0.76  ...        0.04\n",
            "LarsCV                                                 -0.76  ...        0.09\n",
            "ElasticNetCV                                           -0.76  ...        0.17\n",
            "ElasticNet                                             -0.76  ...        0.02\n",
            "DummyRegressor                                         -0.76  ...        0.03\n",
            "KernelRidge                                            -0.78  ...        0.07\n",
            "Lars                                                   -1.00  ...        0.04\n",
            "MLPRegressor                                           -1.01  ...        1.13\n",
            "KNeighborsRegressor                                    -1.11  ...        0.05\n",
            "RandomForestRegressor                                  -1.14  ...        0.41\n",
            "GradientBoostingRegressor                              -1.16  ...        0.16\n",
            "ExtraTreesRegressor                                    -1.20  ...        0.28\n",
            "AdaBoostRegressor                                      -1.28  ...        0.13\n",
            "BaggingRegressor                                       -1.29  ...        0.06\n",
            "ExtraTreeRegressor                                     -1.39  ...        0.03\n",
            "LGBMRegressor                                          -1.53  ...        0.07\n",
            "HistGradientBoostingRegressor                          -1.66  ...        0.34\n",
            "XGBRegressor                                           -1.76  ...        0.15\n",
            "GaussianProcessRegressor                               -1.94  ...        0.05\n",
            "PassiveAggressiveRegressor                             -2.26  ...        0.03\n",
            "DecisionTreeRegressor                                  -4.02  ...        0.03\n",
            "RANSACRegressor               -39727018950811525530517504.00  ...        0.13\n",
            "\n",
            "[40 rows x 4 columns]\n",
            "\n",
            "MAE:  1.1747940658499265\n",
            "RMSE:  1.0838791749313788\n",
            "\n"
          ],
          "name": "stdout"
        },
        {
          "output_type": "stream",
          "text": [
            "100%|██████████| 42/42 [00:04<00:00,  9.25it/s]\n",
            "  0%|          | 0/42 [00:00<?, ?it/s]"
          ],
          "name": "stderr"
        },
        {
          "output_type": "stream",
          "text": [
            "\n",
            "                               Adjusted R-Squared  R-Squared  RMSE  Time Taken\n",
            "Model                                                                         \n",
            "OrthogonalMatchingPursuitCV                 -0.70      -0.00  1.29        0.03\n",
            "LassoLars                                   -0.70      -0.00  1.29        0.04\n",
            "LarsCV                                      -0.70      -0.00  1.29        0.09\n",
            "DummyRegressor                              -0.70      -0.00  1.29        0.02\n",
            "ElasticNet                                  -0.70      -0.00  1.29        0.02\n",
            "ElasticNetCV                                -0.70      -0.00  1.29        0.15\n",
            "LassoLarsCV                                 -0.70      -0.00  1.29        0.11\n",
            "LassoCV                                     -0.70      -0.00  1.29        0.23\n",
            "Lasso                                       -0.70      -0.00  1.29        0.06\n",
            "OrthogonalMatchingPursuit                   -0.72      -0.01  1.30        0.03\n",
            "NuSVR                                       -0.75      -0.03  1.31        0.07\n",
            "BayesianRidge                               -0.78      -0.05  1.32        0.06\n",
            "TweedieRegressor                            -0.81      -0.07  1.33        0.02\n",
            "GeneralizedLinearRegressor                  -0.81      -0.07  1.33        0.02\n",
            "LassoLarsIC                                 -0.87      -0.10  1.35        0.06\n",
            "HistGradientBoostingRegressor               -0.96      -0.15  1.38        0.35\n",
            "AdaBoostRegressor                           -1.00      -0.18  1.40        0.10\n",
            "RandomForestRegressor                       -1.00      -0.18  1.40        0.39\n",
            "RidgeCV                                     -1.01      -0.18  1.40        0.03\n",
            "SGDRegressor                                -1.02      -0.19  1.40        0.03\n",
            "Ridge                                       -1.03      -0.19  1.41        0.02\n",
            "LinearRegression                            -1.04      -0.20  1.41        0.05\n",
            "TransformedTargetRegressor                  -1.04      -0.20  1.41        0.03\n",
            "LGBMRegressor                               -1.07      -0.22  1.42        0.07\n",
            "SVR                                         -1.15      -0.26  1.45        0.05\n",
            "HuberRegressor                              -1.17      -0.28  1.46        0.06\n",
            "GradientBoostingRegressor                   -1.18      -0.28  1.46        0.15\n",
            "KNeighborsRegressor                         -1.38      -0.40  1.53        0.05\n",
            "MLPRegressor                                -1.43      -0.43  1.54        1.01\n",
            "BaggingRegressor                            -1.45      -0.44  1.55        0.08\n",
            "XGBRegressor                                -1.55      -0.50  1.58        0.19\n",
            "LinearSVR                                   -1.57      -0.51  1.59        0.06\n",
            "ExtraTreesRegressor                         -1.67      -0.57  1.62        0.26\n",
            "KernelRidge                                 -1.88      -0.69  1.68        0.08\n",
            "RANSACRegressor                             -2.11      -0.83  1.75        0.14\n",
            "ExtraTreeRegressor                          -3.11      -1.42  2.01        0.03\n",
            "PassiveAggressiveRegressor                  -4.83      -2.43  2.39        0.02\n",
            "DecisionTreeRegressor                       -5.16      -2.62  2.46        0.04\n",
            "Lars                                        -6.75      -3.56  2.75        0.05\n",
            "GaussianProcessRegressor                    -6.93      -3.66  2.79        0.05\n",
            "\n",
            "MAE:  1.0659635946355144\n",
            "RMSE:  1.0324551295991098\n",
            "\n"
          ],
          "name": "stdout"
        },
        {
          "output_type": "stream",
          "text": [
            "100%|██████████| 42/42 [00:04<00:00,  9.21it/s]\n",
            "  0%|          | 0/42 [00:00<?, ?it/s]"
          ],
          "name": "stderr"
        },
        {
          "output_type": "stream",
          "text": [
            "\n",
            "                               Adjusted R-Squared  R-Squared  RMSE  Time Taken\n",
            "Model                                                                         \n",
            "RandomForestRegressor                       -0.48       0.13  1.54        0.39\n",
            "ExtraTreesRegressor                         -0.58       0.07  1.60        0.26\n",
            "LGBMRegressor                               -0.65       0.03  1.63        0.07\n",
            "BaggingRegressor                            -0.68       0.01  1.64        0.05\n",
            "HistGradientBoostingRegressor               -0.71      -0.01  1.66        0.41\n",
            "LassoLarsCV                                 -0.71      -0.01  1.66        0.09\n",
            "LassoCV                                     -0.71      -0.01  1.66        0.24\n",
            "Lasso                                       -0.71      -0.01  1.66        0.06\n",
            "LarsCV                                      -0.71      -0.01  1.66        0.11\n",
            "LassoLars                                   -0.71      -0.01  1.66        0.05\n",
            "ElasticNetCV                                -0.71      -0.01  1.66        0.17\n",
            "ElasticNet                                  -0.71      -0.01  1.66        0.03\n",
            "DummyRegressor                              -0.71      -0.01  1.66        0.02\n",
            "OrthogonalMatchingPursuitCV                 -0.72      -0.01  1.66        0.03\n",
            "LassoLarsIC                                 -0.72      -0.01  1.67        0.03\n",
            "NuSVR                                       -0.72      -0.01  1.67        0.07\n",
            "BayesianRidge                               -0.73      -0.02  1.67        0.03\n",
            "OrthogonalMatchingPursuit                   -0.74      -0.02  1.67        0.03\n",
            "GeneralizedLinearRegressor                  -0.75      -0.03  1.68        0.02\n",
            "TweedieRegressor                            -0.75      -0.03  1.68        0.02\n",
            "GradientBoostingRegressor                   -0.76      -0.04  1.68        0.16\n",
            "AdaBoostRegressor                           -0.81      -0.06  1.71        0.07\n",
            "RidgeCV                                     -0.81      -0.07  1.71        0.05\n",
            "Ridge                                       -0.82      -0.07  1.71        0.03\n",
            "LinearRegression                            -0.82      -0.07  1.71        0.05\n",
            "TransformedTargetRegressor                  -0.82      -0.07  1.71        0.03\n",
            "SGDRegressor                                -0.82      -0.07  1.71        0.05\n",
            "Lars                                        -0.83      -0.07  1.71        0.05\n",
            "XGBRegressor                                -0.87      -0.10  1.74        0.16\n",
            "KNeighborsRegressor                         -0.91      -0.12  1.75        0.03\n",
            "HuberRegressor                              -0.95      -0.15  1.77        0.04\n",
            "MLPRegressor                                -1.06      -0.21  1.82        1.14\n",
            "SVR                                         -1.11      -0.24  1.85        0.06\n",
            "PassiveAggressiveRegressor                  -1.28      -0.34  1.91        0.02\n",
            "LinearSVR                                   -1.30      -0.35  1.92        0.08\n",
            "GaussianProcessRegressor                    -1.56      -0.50  2.03        0.05\n",
            "KernelRidge                                 -1.63      -0.55  2.06        0.04\n",
            "DecisionTreeRegressor                       -1.64      -0.56  2.06        0.03\n",
            "ExtraTreeRegressor                          -1.69      -0.58  2.08        0.03\n",
            "RANSACRegressor                             -1.72      -0.60  2.09        0.16\n",
            "\n",
            "MAE:  1.3158063611975732\n",
            "RMSE:  1.1470860304256056\n",
            "\n"
          ],
          "name": "stdout"
        },
        {
          "output_type": "stream",
          "text": [
            "100%|██████████| 42/42 [00:04<00:00,  9.09it/s]\n",
            "  0%|          | 0/42 [00:00<?, ?it/s]"
          ],
          "name": "stderr"
        },
        {
          "output_type": "stream",
          "text": [
            "\n",
            "                                         Adjusted R-Squared  ...  Time Taken\n",
            "Model                                                        ...            \n",
            "OrthogonalMatchingPursuitCV                           -0.71  ...        0.03\n",
            "NuSVR                                                 -0.71  ...        0.06\n",
            "LassoLarsIC                                           -0.72  ...        0.06\n",
            "ElasticNetCV                                          -0.72  ...        0.16\n",
            "LassoCV                                               -0.72  ...        0.23\n",
            "LarsCV                                                -0.72  ...        0.12\n",
            "LassoLarsCV                                           -0.72  ...        0.12\n",
            "LassoLars                                             -0.72  ...        0.06\n",
            "ElasticNet                                            -0.72  ...        0.02\n",
            "DummyRegressor                                        -0.72  ...        0.03\n",
            "Lasso                                                 -0.72  ...        0.05\n",
            "OrthogonalMatchingPursuit                             -0.73  ...        0.03\n",
            "GradientBoostingRegressor                             -0.74  ...        0.16\n",
            "BayesianRidge                                         -0.85  ...        0.04\n",
            "RandomForestRegressor                                 -0.91  ...        0.39\n",
            "GeneralizedLinearRegressor                            -0.96  ...        0.03\n",
            "TweedieRegressor                                      -0.96  ...        0.03\n",
            "LGBMRegressor                                         -1.01  ...        0.07\n",
            "HistGradientBoostingRegressor                         -1.01  ...        0.33\n",
            "SVR                                                   -1.02  ...        0.05\n",
            "AdaBoostRegressor                                     -1.11  ...        0.12\n",
            "HuberRegressor                                        -1.15  ...        0.05\n",
            "ExtraTreesRegressor                                   -1.18  ...        0.27\n",
            "KNeighborsRegressor                                   -1.22  ...        0.05\n",
            "XGBRegressor                                          -1.23  ...        0.17\n",
            "LinearSVR                                             -1.32  ...        0.06\n",
            "BaggingRegressor                                      -1.32  ...        0.06\n",
            "SGDRegressor                                          -1.55  ...        0.05\n",
            "RidgeCV                                               -1.60  ...        0.04\n",
            "Ridge                                                 -1.64  ...        0.02\n",
            "LinearRegression                                      -1.64  ...        0.04\n",
            "TransformedTargetRegressor                            -1.64  ...        0.02\n",
            "Lars                                                  -1.64  ...        0.07\n",
            "MLPRegressor                                          -1.88  ...        1.06\n",
            "ExtraTreeRegressor                                    -2.00  ...        0.03\n",
            "GaussianProcessRegressor                              -2.37  ...        0.05\n",
            "KernelRidge                                           -2.54  ...        0.08\n",
            "DecisionTreeRegressor                                 -2.98  ...        0.07\n",
            "PassiveAggressiveRegressor                            -9.50  ...        0.02\n",
            "RANSACRegressor               -1458602359458129954996224.00  ...        0.13\n",
            "\n",
            "[40 rows x 4 columns]\n",
            "\n",
            "MAE:  1.248044976890205\n",
            "RMSE:  1.117159333707688\n",
            "\n"
          ],
          "name": "stdout"
        },
        {
          "output_type": "stream",
          "text": [
            "100%|██████████| 42/42 [00:05<00:00,  7.27it/s]\n",
            "  0%|          | 0/42 [00:00<?, ?it/s]"
          ],
          "name": "stderr"
        },
        {
          "output_type": "stream",
          "text": [
            "\n",
            "                               Adjusted R-Squared  R-Squared  RMSE  Time Taken\n",
            "Model                                                                         \n",
            "OrthogonalMatchingPursuitCV                 -0.68       0.01  1.22        0.04\n",
            "LassoLarsIC                                 -0.70       0.00  1.22        0.06\n",
            "OrthogonalMatchingPursuit                   -0.72      -0.01  1.23        0.03\n",
            "LassoLars                                   -0.72      -0.01  1.23        0.05\n",
            "DummyRegressor                              -0.72      -0.01  1.23        0.04\n",
            "ElasticNet                                  -0.72      -0.01  1.23        0.03\n",
            "ElasticNetCV                                -0.72      -0.01  1.23        0.15\n",
            "LassoLarsCV                                 -0.72      -0.01  1.23        0.14\n",
            "LassoCV                                     -0.72      -0.01  1.23        0.25\n",
            "Lasso                                       -0.72      -0.01  1.23        0.07\n",
            "LarsCV                                      -0.72      -0.01  1.23        0.11\n",
            "BayesianRidge                               -0.75      -0.03  1.24        0.04\n",
            "NuSVR                                       -0.77      -0.04  1.25        0.10\n",
            "GeneralizedLinearRegressor                  -0.77      -0.04  1.25        0.08\n",
            "TweedieRegressor                            -0.77      -0.04  1.25        0.03\n",
            "RidgeCV                                     -0.89      -0.11  1.29        0.07\n",
            "SGDRegressor                                -0.90      -0.11  1.29        0.08\n",
            "Ridge                                       -0.90      -0.12  1.29        0.02\n",
            "Lars                                        -0.90      -0.12  1.29        0.07\n",
            "TransformedTargetRegressor                  -0.90      -0.12  1.29        0.02\n",
            "LinearRegression                            -0.90      -0.12  1.29        0.05\n",
            "HuberRegressor                              -0.91      -0.12  1.30        0.07\n",
            "MLPRegressor                                -0.92      -0.13  1.30        1.39\n",
            "GradientBoostingRegressor                   -1.00      -0.18  1.33        0.23\n",
            "SVR                                         -1.07      -0.22  1.35        0.05\n",
            "LinearSVR                                   -1.18      -0.28  1.39        0.05\n",
            "RandomForestRegressor                       -1.30      -0.35  1.42        0.44\n",
            "AdaBoostRegressor                           -1.32      -0.36  1.43        0.08\n",
            "BaggingRegressor                            -1.33      -0.37  1.43        0.06\n",
            "KNeighborsRegressor                         -1.37      -0.39  1.44        0.05\n",
            "HistGradientBoostingRegressor               -1.41      -0.42  1.46        0.54\n",
            "LGBMRegressor                               -1.52      -0.48  1.49        0.08\n",
            "ExtraTreesRegressor                         -1.63      -0.55  1.52        0.28\n",
            "KernelRidge                                 -1.72      -0.60  1.55        0.19\n",
            "XGBRegressor                                -1.73      -0.61  1.55        0.17\n",
            "RANSACRegressor                             -2.40      -1.00  1.73        0.17\n",
            "GaussianProcessRegressor                    -3.31      -1.53  1.95        0.11\n",
            "ExtraTreeRegressor                          -4.25      -2.09  2.15        0.03\n",
            "DecisionTreeRegressor                       -4.28      -2.11  2.16        0.07\n",
            "PassiveAggressiveRegressor                  -7.76      -4.15  2.78        0.03\n",
            "\n",
            "MAE:  1.11142667964018\n",
            "RMSE:  1.0542422300591927\n",
            "\n"
          ],
          "name": "stdout"
        },
        {
          "output_type": "stream",
          "text": [
            "100%|██████████| 42/42 [00:05<00:00,  7.10it/s]\n",
            "  0%|          | 0/42 [00:00<?, ?it/s]"
          ],
          "name": "stderr"
        },
        {
          "output_type": "stream",
          "text": [
            "\n",
            "                               Adjusted R-Squared  R-Squared  RMSE  Time Taken\n",
            "Model                                                                         \n",
            "LinearRegression                            -0.62       0.05  1.58        0.04\n",
            "TransformedTargetRegressor                  -0.62       0.05  1.58        0.03\n",
            "Lars                                        -0.62       0.05  1.58        0.09\n",
            "Ridge                                       -0.62       0.05  1.58        0.02\n",
            "RidgeCV                                     -0.62       0.04  1.58        0.08\n",
            "SGDRegressor                                -0.63       0.04  1.58        0.08\n",
            "TweedieRegressor                            -0.69       0.01  1.61        0.06\n",
            "GeneralizedLinearRegressor                  -0.69       0.01  1.61        0.03\n",
            "BayesianRidge                               -0.70       0.00  1.62        0.03\n",
            "DummyRegressor                              -0.71      -0.00  1.62        0.04\n",
            "LassoLarsCV                                 -0.71      -0.00  1.62        0.08\n",
            "LassoCV                                     -0.71      -0.00  1.62        0.25\n",
            "Lasso                                       -0.71      -0.00  1.62        0.07\n",
            "LarsCV                                      -0.71      -0.00  1.62        0.06\n",
            "LassoLars                                   -0.71      -0.00  1.62        0.06\n",
            "ElasticNet                                  -0.71      -0.00  1.62        0.03\n",
            "ElasticNetCV                                -0.71      -0.00  1.62        0.16\n",
            "OrthogonalMatchingPursuitCV                 -0.71      -0.01  1.62        0.05\n",
            "LassoLarsIC                                 -0.72      -0.01  1.62        0.03\n",
            "OrthogonalMatchingPursuit                   -0.73      -0.02  1.63        0.04\n",
            "NuSVR                                       -0.76      -0.04  1.65        0.09\n",
            "HuberRegressor                              -0.79      -0.05  1.66        0.06\n",
            "MLPRegressor                                -0.83      -0.08  1.68        1.76\n",
            "GradientBoostingRegressor                   -0.83      -0.08  1.68        0.17\n",
            "AdaBoostRegressor                           -0.89      -0.11  1.71        0.15\n",
            "RandomForestRegressor                       -0.90      -0.12  1.71        0.49\n",
            "BaggingRegressor                            -0.96      -0.15  1.74        0.07\n",
            "KNeighborsRegressor                         -1.02      -0.19  1.77        0.04\n",
            "RANSACRegressor                             -1.09      -0.23  1.79        0.19\n",
            "LGBMRegressor                               -1.10      -0.23  1.80        0.11\n",
            "SVR                                         -1.11      -0.24  1.80        0.05\n",
            "ExtraTreesRegressor                         -1.13      -0.25  1.81        0.29\n",
            "HistGradientBoostingRegressor               -1.17      -0.28  1.83        0.50\n",
            "LinearSVR                                   -1.23      -0.31  1.85        0.10\n",
            "XGBRegressor                                -1.28      -0.34  1.87        0.20\n",
            "KernelRidge                                 -1.33      -0.37  1.90        0.07\n",
            "PassiveAggressiveRegressor                  -1.60      -0.53  2.00        0.04\n",
            "DecisionTreeRegressor                       -2.16      -0.86  2.21        0.03\n",
            "GaussianProcessRegressor                    -2.17      -0.86  2.21        0.06\n",
            "ExtraTreeRegressor                          -2.86      -1.27  2.44        0.03\n",
            "\n",
            "MAE:  1.3073116251320813\n",
            "RMSE:  1.1433772890573266\n",
            "\n"
          ],
          "name": "stdout"
        },
        {
          "output_type": "stream",
          "text": [
            "100%|██████████| 42/42 [00:05<00:00,  7.07it/s]\n",
            "  0%|          | 0/42 [00:00<?, ?it/s]"
          ],
          "name": "stderr"
        },
        {
          "output_type": "stream",
          "text": [
            "\n",
            "                               Adjusted R-Squared  R-Squared  RMSE  Time Taken\n",
            "Model                                                                         \n",
            "ExtraTreesRegressor                         -0.50       0.12  1.23        0.33\n",
            "BaggingRegressor                            -0.50       0.12  1.23        0.10\n",
            "XGBRegressor                                -0.52       0.10  1.24        0.20\n",
            "RandomForestRegressor                       -0.53       0.10  1.24        0.38\n",
            "KNeighborsRegressor                         -0.58       0.07  1.26        0.07\n",
            "NuSVR                                       -0.65       0.03  1.29        0.07\n",
            "LGBMRegressor                               -0.66       0.02  1.29        0.07\n",
            "MLPRegressor                                -0.67       0.02  1.30        1.43\n",
            "GradientBoostingRegressor                   -0.70       0.00  1.31        0.17\n",
            "OrthogonalMatchingPursuitCV                 -0.70       0.00  1.31        0.03\n",
            "HistGradientBoostingRegressor               -0.71      -0.00  1.31        0.48\n",
            "SGDRegressor                                -0.71      -0.01  1.31        0.03\n",
            "TweedieRegressor                            -0.72      -0.01  1.32        0.04\n",
            "GeneralizedLinearRegressor                  -0.72      -0.01  1.32        0.08\n",
            "LassoLarsIC                                 -0.72      -0.01  1.32        0.07\n",
            "BayesianRidge                               -0.72      -0.01  1.32        0.10\n",
            "RidgeCV                                     -0.72      -0.01  1.32        0.04\n",
            "Ridge                                       -0.73      -0.01  1.32        0.02\n",
            "Lars                                        -0.73      -0.02  1.32        0.07\n",
            "TransformedTargetRegressor                  -0.73      -0.02  1.32        0.03\n",
            "LinearRegression                            -0.73      -0.02  1.32        0.08\n",
            "LassoLars                                   -0.74      -0.02  1.32        0.08\n",
            "LassoLarsCV                                 -0.74      -0.02  1.32        0.15\n",
            "LassoCV                                     -0.74      -0.02  1.32        0.44\n",
            "DummyRegressor                              -0.74      -0.02  1.32        0.02\n",
            "Lasso                                       -0.74      -0.02  1.32        0.06\n",
            "LarsCV                                      -0.74      -0.02  1.32        0.18\n",
            "ElasticNet                                  -0.74      -0.02  1.32        0.02\n",
            "ElasticNetCV                                -0.74      -0.02  1.32        0.18\n",
            "OrthogonalMatchingPursuit                   -0.74      -0.02  1.33        0.02\n",
            "HuberRegressor                              -0.76      -0.03  1.33        0.05\n",
            "SVR                                         -0.86      -0.09  1.37        0.05\n",
            "LinearSVR                                   -1.10      -0.23  1.45        0.09\n",
            "AdaBoostRegressor                           -1.30      -0.35  1.52        0.13\n",
            "KernelRidge                                 -1.43      -0.43  1.56        0.10\n",
            "ExtraTreeRegressor                          -1.83      -0.66  1.69        0.05\n",
            "DecisionTreeRegressor                       -2.41      -1.01  1.86        0.04\n",
            "RANSACRegressor                             -2.43      -1.02  1.86        0.12\n",
            "PassiveAggressiveRegressor                  -2.55      -1.09  1.89        0.02\n",
            "GaussianProcessRegressor                    -6.34      -3.32  2.72        0.10\n",
            "\n",
            "MAE:  1.0556364141070935\n",
            "RMSE:  1.0274416840420157\n",
            "\n"
          ],
          "name": "stdout"
        },
        {
          "output_type": "stream",
          "text": [
            "100%|██████████| 42/42 [00:04<00:00,  9.56it/s]\n",
            "  0%|          | 0/42 [00:00<?, ?it/s]"
          ],
          "name": "stderr"
        },
        {
          "output_type": "stream",
          "text": [
            "\n",
            "                               Adjusted R-Squared  R-Squared  RMSE  Time Taken\n",
            "Model                                                                         \n",
            "NuSVR                                       -0.61       0.07  1.31        0.06\n",
            "OrthogonalMatchingPursuitCV                 -0.62       0.06  1.32        0.03\n",
            "LassoLarsIC                                 -0.69       0.02  1.34        0.04\n",
            "OrthogonalMatchingPursuit                   -0.70       0.01  1.35        0.03\n",
            "LinearRegression                            -0.70       0.01  1.35        0.02\n",
            "TransformedTargetRegressor                  -0.70       0.01  1.35        0.03\n",
            "Lars                                        -0.70       0.01  1.35        0.07\n",
            "Ridge                                       -0.70       0.01  1.35        0.02\n",
            "RidgeCV                                     -0.71       0.01  1.35        0.05\n",
            "SGDRegressor                                -0.71       0.01  1.35        0.03\n",
            "TweedieRegressor                            -0.72       0.00  1.35        0.03\n",
            "GeneralizedLinearRegressor                  -0.72       0.00  1.35        0.03\n",
            "BayesianRidge                               -0.72       0.00  1.36        0.03\n",
            "ElasticNetCV                                -0.72      -0.00  1.36        0.16\n",
            "LassoCV                                     -0.72      -0.00  1.36        0.20\n",
            "Lasso                                       -0.72      -0.00  1.36        0.05\n",
            "LassoLarsCV                                 -0.72      -0.00  1.36        0.10\n",
            "LassoLars                                   -0.72      -0.00  1.36        0.04\n",
            "LarsCV                                      -0.72      -0.00  1.36        0.11\n",
            "ElasticNet                                  -0.72      -0.00  1.36        0.02\n",
            "DummyRegressor                              -0.72      -0.00  1.36        0.02\n",
            "HuberRegressor                              -0.76      -0.02  1.37        0.04\n",
            "ExtraTreesRegressor                         -0.80      -0.05  1.39        0.27\n",
            "RandomForestRegressor                       -0.91      -0.11  1.43        0.40\n",
            "MLPRegressor                                -0.92      -0.12  1.43        1.05\n",
            "SVR                                         -0.96      -0.13  1.44        0.05\n",
            "GradientBoostingRegressor                   -1.02      -0.17  1.47        0.15\n",
            "AdaBoostRegressor                           -1.05      -0.19  1.48        0.07\n",
            "KNeighborsRegressor                         -1.09      -0.21  1.49        0.06\n",
            "LGBMRegressor                               -1.16      -0.25  1.52        0.07\n",
            "LinearSVR                                   -1.22      -0.28  1.54        0.08\n",
            "BaggingRegressor                            -1.23      -0.29  1.54        0.05\n",
            "HistGradientBoostingRegressor               -1.24      -0.30  1.55        0.30\n",
            "KernelRidge                                 -1.53      -0.46  1.64        0.08\n",
            "XGBRegressor                                -1.72      -0.58  1.70        0.20\n",
            "DecisionTreeRegressor                       -1.79      -0.62  1.73        0.03\n",
            "PassiveAggressiveRegressor                  -2.12      -0.81  1.83        0.02\n",
            "RANSACRegressor                             -2.62      -1.10  1.96        0.13\n",
            "ExtraTreeRegressor                          -2.90      -1.26  2.04        0.03\n",
            "GaussianProcessRegressor                    -4.93      -2.44  2.51        0.05\n",
            "\n",
            "MAE:  1.1219048191767396\n",
            "RMSE:  1.0592000845811615\n",
            "\n"
          ],
          "name": "stdout"
        },
        {
          "output_type": "stream",
          "text": [
            "100%|██████████| 42/42 [00:04<00:00,  9.44it/s]\n",
            "  0%|          | 0/42 [00:00<?, ?it/s]"
          ],
          "name": "stderr"
        },
        {
          "output_type": "stream",
          "text": [
            "\n",
            "                               Adjusted R-Squared  R-Squared  RMSE  Time Taken\n",
            "Model                                                                         \n",
            "TransformedTargetRegressor                  -0.68       0.02  1.34        0.03\n",
            "LinearRegression                            -0.68       0.02  1.34        0.04\n",
            "Lars                                        -0.68       0.02  1.34        0.06\n",
            "Ridge                                       -0.68       0.02  1.34        0.02\n",
            "SGDRegressor                                -0.69       0.02  1.34        0.03\n",
            "RidgeCV                                     -0.69       0.02  1.34        0.03\n",
            "OrthogonalMatchingPursuit                   -0.69       0.02  1.34        0.03\n",
            "GeneralizedLinearRegressor                  -0.72       0.00  1.35        0.02\n",
            "TweedieRegressor                            -0.72       0.00  1.35        0.02\n",
            "NuSVR                                       -0.73      -0.00  1.36        0.06\n",
            "BayesianRidge                               -0.74      -0.01  1.36        0.03\n",
            "LassoLarsIC                                 -0.74      -0.01  1.36        0.04\n",
            "OrthogonalMatchingPursuitCV                 -0.74      -0.01  1.36        0.03\n",
            "MLPRegressor                                -0.76      -0.02  1.37        1.16\n",
            "LassoCV                                     -0.76      -0.02  1.37        0.21\n",
            "LassoLarsCV                                 -0.76      -0.02  1.37        0.08\n",
            "Lasso                                       -0.76      -0.02  1.37        0.04\n",
            "LassoLars                                   -0.76      -0.02  1.37        0.07\n",
            "LarsCV                                      -0.76      -0.02  1.37        0.08\n",
            "ElasticNetCV                                -0.76      -0.02  1.37        0.16\n",
            "ElasticNet                                  -0.76      -0.02  1.37        0.02\n",
            "DummyRegressor                              -0.76      -0.02  1.37        0.02\n",
            "GradientBoostingRegressor                   -0.82      -0.05  1.39        0.15\n",
            "AdaBoostRegressor                           -0.83      -0.06  1.40        0.09\n",
            "RandomForestRegressor                       -0.85      -0.08  1.41        0.39\n",
            "XGBRegressor                                -0.91      -0.10  1.43        0.19\n",
            "HuberRegressor                              -0.99      -0.16  1.46        0.04\n",
            "ExtraTreesRegressor                         -1.06      -0.20  1.48        0.27\n",
            "LGBMRegressor                               -1.10      -0.22  1.50        0.07\n",
            "KNeighborsRegressor                         -1.10      -0.22  1.50        0.05\n",
            "HistGradientBoostingRegressor               -1.26      -0.31  1.55        0.31\n",
            "BaggingRegressor                            -1.27      -0.32  1.56        0.05\n",
            "SVR                                         -1.32      -0.34  1.57        0.07\n",
            "DecisionTreeRegressor                       -1.63      -0.53  1.67        0.03\n",
            "LinearSVR                                   -1.85      -0.65  1.74        0.09\n",
            "KernelRidge                                 -1.90      -0.68  1.76        0.05\n",
            "ExtraTreeRegressor                          -1.92      -0.70  1.77        0.03\n",
            "RANSACRegressor                             -4.39      -2.13  2.40        0.13\n",
            "GaussianProcessRegressor                    -4.65      -2.28  2.45        0.05\n",
            "PassiveAggressiveRegressor                  -5.90      -3.00  2.71        0.03\n",
            "\n",
            "MAE:  1.0441873332370377\n",
            "RMSE:  1.0218548493974267\n",
            "\n"
          ],
          "name": "stdout"
        },
        {
          "output_type": "stream",
          "text": [
            "100%|██████████| 42/42 [00:04<00:00,  9.58it/s]"
          ],
          "name": "stderr"
        },
        {
          "output_type": "stream",
          "text": [
            "\n",
            "                                      Adjusted R-Squared  ...  Time Taken\n",
            "Model                                                     ...            \n",
            "GeneralizedLinearRegressor                         -0.73  ...        0.03\n",
            "TweedieRegressor                                   -0.73  ...        0.03\n",
            "BayesianRidge                                      -0.76  ...        0.04\n",
            "LassoLarsIC                                        -0.77  ...        0.05\n",
            "OrthogonalMatchingPursuitCV                        -0.77  ...        0.03\n",
            "LassoLarsCV                                        -0.79  ...        0.11\n",
            "Lasso                                              -0.79  ...        0.05\n",
            "LarsCV                                             -0.79  ...        0.09\n",
            "LassoLars                                          -0.79  ...        0.07\n",
            "ElasticNetCV                                       -0.79  ...        0.16\n",
            "ElasticNet                                         -0.79  ...        0.02\n",
            "DummyRegressor                                     -0.79  ...        0.03\n",
            "LassoCV                                            -0.79  ...        0.23\n",
            "RidgeCV                                            -0.80  ...        0.03\n",
            "Ridge                                              -0.81  ...        0.02\n",
            "TransformedTargetRegressor                         -0.81  ...        0.03\n",
            "LinearRegression                                   -0.81  ...        0.08\n",
            "SGDRegressor                                       -0.82  ...        0.03\n",
            "OrthogonalMatchingPursuit                          -0.83  ...        0.03\n",
            "NuSVR                                              -0.86  ...        0.06\n",
            "AdaBoostRegressor                                  -0.91  ...        0.12\n",
            "HuberRegressor                                     -0.98  ...        0.05\n",
            "GradientBoostingRegressor                          -1.04  ...        0.16\n",
            "KNeighborsRegressor                                -1.12  ...        0.04\n",
            "MLPRegressor                                       -1.14  ...        0.90\n",
            "Lars                                               -1.18  ...        0.09\n",
            "RandomForestRegressor                              -1.21  ...        0.41\n",
            "BaggingRegressor                                   -1.27  ...        0.06\n",
            "ExtraTreesRegressor                                -1.27  ...        0.26\n",
            "SVR                                                -1.45  ...        0.05\n",
            "DecisionTreeRegressor                              -1.46  ...        0.06\n",
            "LGBMRegressor                                      -1.50  ...        0.08\n",
            "HistGradientBoostingRegressor                      -1.52  ...        0.31\n",
            "LinearSVR                                          -1.67  ...        0.05\n",
            "XGBRegressor                                       -1.69  ...        0.17\n",
            "KernelRidge                                        -1.79  ...        0.06\n",
            "ExtraTreeRegressor                                 -2.18  ...        0.03\n",
            "PassiveAggressiveRegressor                         -2.45  ...        0.02\n",
            "GaussianProcessRegressor                           -5.43  ...        0.05\n",
            "RANSACRegressor               -3629062176659449839616.00  ...        0.13\n",
            "\n",
            "[40 rows x 4 columns]\n",
            "\n",
            "MAE:  1.2602646378899156\n",
            "RMSE:  1.1226150889284874\n",
            "\n"
          ],
          "name": "stdout"
        },
        {
          "output_type": "stream",
          "text": [
            "\n"
          ],
          "name": "stderr"
        }
      ]
    },
    {
      "cell_type": "code",
      "metadata": {
        "colab": {
          "base_uri": "https://localhost:8080/"
        },
        "id": "4D7L0WvWOWZF",
        "outputId": "4e4c5fa3-d2c5-4d2a-8b24-a212badb959f"
      },
      "source": [
        "print(\"Average_MAE: {}\".format(np.mean(MAE_list)))\n",
        "print(\"Average_RMSE: {}\".format(np.mean(RMSE_list)))"
      ],
      "execution_count": null,
      "outputs": [
        {
          "output_type": "stream",
          "text": [
            "Average_MAE: 1.1705340507756268\n",
            "Average_RMSE: 1.0809310894729391\n"
          ],
          "name": "stdout"
        }
      ]
    },
    {
      "cell_type": "markdown",
      "metadata": {
        "id": "4L5OGkKdlwJg"
      },
      "source": [
        "En conclusión, ambos modelos no fueron buenos con las métricas estandares.\n",
        "Queda por ver otros parametros, otro clasificador linear, conseguir más datos, técnicas enfocadas a pocos datos.\n"
      ]
    }
  ]
}